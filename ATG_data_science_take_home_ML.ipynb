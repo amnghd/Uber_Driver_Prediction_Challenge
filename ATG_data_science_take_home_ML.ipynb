{
 "cells": [
  {
   "cell_type": "markdown",
   "metadata": {
    "colab_type": "text",
    "id": "5-Vj0evhcH9V"
   },
   "source": [
    "# ATG Data Scientist Challenge\n",
    "\n",
    "Thank you for your interest in joining the data science team at Uber ATG. The next step is to complete Uber ATG’s take home exercise. This will allow you to get an idea of what it's like to work for us while showcasing your statistics, programming, and data analysis capabilities. \n",
    "\n",
    "While we invite you to fill out the remainder of this notebook for your submission, you may send your results back in any format as long as the work/code/analysis is **reproducible**. We've had candidates submit RMarkdown HTMLs or LaTeX generated PDFs as well. You may use any language (or Jupyter Kernel) you want but keep in mind that we primarily do deployment, engineering, and analysis work in Python.\n",
    "\n",
    "There is no time limit, but please try to send back the completed assignment within 1 week of receiving it. Please delete any data you have downloaded from us after submitting the assignment.\n",
    "\n",
    "If you have any questions about the assignment, please reach out to your recruiter.\n",
    "\n",
    "Thanks,\n",
    "ATG Data Science\n"
   ]
  },
  {
   "cell_type": "markdown",
   "metadata": {
    "colab_type": "text",
    "id": "feIPVc5scH9W"
   },
   "source": [
    "# Driver Signup Analysis\n",
    "\n",
    "You can use the csv: \n",
    "  * `ds_challenge_v2_data.csv` \n",
    "\n",
    "included in the zip file included with this notebook or download the data set at the following link:\n",
    "\n",
    "* [**Dataset Download Link**](https://drive.google.com/a/uber.com/file/d/0BxkZqrCogcyWbUs2Smhlc0VSams/view?usp=drive_web)\n",
    "\n",
    "\n",
    "Uber’s Driver team is interested in predicting which driver signups are most likely to start driving. To help explore this question, we have provided a sample dataset of a cohort of driver signups in January 2015. The data was pulled a few months after they signed up to include the result of whether they actually completed their first trip. It also includes several pieces of background information gathered about the driver and their car.\n",
    "\n",
    "\n",
    "See below for a detailed description of the dataset:\n",
    "\n",
    "- **id:** driver_id\n",
    "- **city_id:** city_id this user signed up in\n",
    "- **signup_os:** signup device of the user (“android”, “ios”, “website”, “other”)\n",
    "- **signup_channel:** what channel did the driver sign up from (“offline”, “paid”, “organic”, “referral”)\n",
    "- **signup_timestamp:** timestamp of account creation; local time in the form ‘YYYY-MM-DD’\n",
    "- **bgc_date:** date of background check consent; in the form ‘YYYY-MM-DD’\n",
    "- **vehicle_added_date:** date when driver’s vehicle information was uploaded (by the driver); in the form ‘YYYY-MM-DD’\n",
    "- **first_trip_date:** date of the first trip as a driver; in the form ‘YYYY-MM-DD’\n",
    "- **vehicle_model:** model of vehicle uploaded (i.e. Accord, Prius, 350z)\n",
    "- **vehicle_year:** year that the car was made; in the form ‘YYYY’\n",
    "\n",
    "\n",
    "**Our primary goal is to understand what factors are best at predicting whether a signup will start to drive, and offer suggestions to operationalize those insights to help Uber**. This take home consists of answering three main tasks with some discussion questions under them to get you started.\n",
    "\n",
    "Ordering and presentation format is up to you, but we love analyses that are well organized and have a linear flow from data ingestion to final result(s). We especially look for well stated assumptions and an eye for business/product impact of any analysis or model."
   ]
  },
  {
   "cell_type": "markdown",
   "metadata": {},
   "source": [
    "# Abstract : \n",
    "\n",
    "This notebook is dedicated to the solution of Uber take home challenge. This challenge consists of three main questions and several sub-questions. Here is a list:\n",
    "\n",
    "1 - **Conduct an exploratory analysis of the data to give us qualitative and quantitative insights.** \n",
    "    \n",
    "2 - **Build a statistical model to predict whether a driver that signed up will begin driving for Uber.**\n",
    "    - How did the model perform? Are there any caveats? How can Uber use your model to improve our product? \n",
    "    \n",
    "3 - **Build a model to forecast the number of new drivers we expect to start every week.**\n",
    "    - How would you validate a model like this? What other information would you use if you had access to all of Uber's data?    \n",
    "    \n",
    "    \n",
    "My purpose in this study is to keep everything in line with the business question we like to answer. For example, EDA is performed to bring insights that are related to our business questions (task2 and task3). Therefore, I merged the EDA question to the next two questions. Here is a summary of our findings for each task. If you like to read the details of each step, please keep reading.\n",
    "\n",
    "\n",
    "## Abstract -  Task 1: \n",
    "**Conduct an exploratory analysis of the data to give us qualitative and quantitative insights.** \n",
    "    - Does all the data make sense? Did you have to throw anything away? Are there interesting patterns that emerge?\n",
    "\n",
    "- The data was very clean. I noticed only one outlier in the ``vehicle_year`` column.\n",
    "- A new column, named ``target``, is generated based on the ``first_completed_date``. The value of the target is 1 when the date is availble and 0 otherwise. This was used as our dependant (target) variable we want to explain in the first task.\n",
    "- The target variable was very well distributed throughout the 30 days of observation and I concluded that a random train-holdout split is sufficient.\n",
    "- There are 54681 observations and 11 features in the data set and large portion of the data is missing. \n",
    "- 11.22% of the registrators become Uber driver. Therefore, there is an excellent margin of growth for the product if right insights are found.\n",
    "- Customers are from 3 cities, use 5 type of operating systems, and come from 3 signup chanels. Moreover, there are 46 vehicle make that signed up. Toyota is the most popular vehicle make and Honda-Civic is the most popular vehicle model.\n",
    "- Registration time is limited to the month of January 2016. However, we observed activation date is from the January 1st, 2016 through March 26th, 2016. Two more date time features are also provided:\n",
    "time of background check consent, and the time when vehicle information was uploaded.\n",
    "- There is about 48.4 of duplicate observations. Since there are small number of features, it is not easy to make an assumption for the origin of duplicates. Specially, when for large number of rows, several variables are (equally) missing. However, it is interesting to know that for non-duplicate columns, the ratio of becoming an Uber driver increases from 11.22% to 21.75% percent. This information is later used for developing new features.\n",
    "- Although large portion of data is missing, we noticed that there is a rich amount of information in those missing values. For example, for observations with missing operative system data, the ratio of becoming Uber driver is 0.02 which is almost 1/6 of the whole data. \n",
    "- Almost 40% of background checkced column is missing. There is a vast welath of information in this column, however. Poeple who didn't consent the bacground check have 0.007 probablity of becoming an  UBER driver. This is 16 times smaller than the average of the population. **Uber might need to ease the background check process by providing more ways of providing information. Moreover, it might help to tell the customers about how their data will be dealt with. Finally, UBER might be able to provide different level of background check for different services so that more people can become a driver with a peace of mind.**\n",
    "- Almost 75% of the vehicle_added_date column is missing. When the data is not missing, 44% of the customers become Uber driver. **Uber might be able to send follow up emails to the registrators and ask them to upload their information. Customer might commit more to the program by uploading their information. Moreover, streamlining the process might make it easier for the users to become Uber driver.**\n",
    "- People using mac os have highest probablity of becomign Uber driver. The reason might be due to the possiblity of mac users being a part of a population that would like to stay up to date with the new technologies. Moreover, in general the phone users (android web, ios web) seem to be less prone to becoming UBER drivers. **UBER might need to improve the quality of their phone websites to make the experience more appealing for those users**.\n",
    "- I noticed that the newer cars have higher probablity of becoming an Uber driver. The median is around 2013. **This might be due to the vehicle age requirements for drivers that are joining Uber. Uber might suggest that if the age of the car is above a certain threshould, the driver must provide additional information, barometer, car fax info, a certification of vehicle quality to prove that the vehicle is in good shape. Recall more than only 50 percent of the cars that registered are more than 3 years old.**\n",
    "- Going forward, although graphically speaking, the city name doesn't affect the target variable (becoming Uber driver), we see that this feature is stitistically significant in seperating the classes."
   ]
  },
  {
   "cell_type": "markdown",
   "metadata": {},
   "source": [
    "## Abstract -  Task 2: \n",
    "\n",
    "**Build a statistical model to predict whether a driver that signed up will begin driving for Uber.**\n",
    "    - How did the model perform? Are there any caveats? How can Uber use your model to improve our product? \n",
    "\n",
    "- I used the insights from EDA section and engineered several features. Most informative one was the time interval between registration and the upload of information. The next informative feature was whether ``vehicle_added_date`` column was missing, and the third one was the time diffference between the time of registration and the time that background was checked. **As discussed in the previous task, the first few days after regitration is the golden time for Uber to follow up with the users and also to facilitiate the background and data upload processes.**\n",
    "\n",
    "- The next important feature was vehicle age. Younger vehilces have higher probablity of becoming a driver.In Uber, we can rethink how to involve older vehicles. \n",
    "\n",
    "- After generating 19 features, principal component analysis was used to visually demonstrate whether features carry enough information. Although several features explained small variance of the data, in total large portion of features were meaningful and the PCA graph did not totally saturate.\n",
    "\n",
    "- Then feature importance from random forest was used to get and undrestanding of where the discriminative features are located.\n",
    "\n",
    "- A simple logistic regression was used to check whether the feature set results in overfitting. We noticed that the features don't result in overfitting as the train and test accuracy were close. However, the model was not able to capture all the variance in target variable. We ended up with area under ROC curve of around $97\\%$.\n",
    "\n",
    "- Then 3 models are hypertunned, namely, SVM, KNN, random forest, to assure that different fature characteristics are captured. The AUC resulst for these three was very similar to logistic regiression and $AUC=0.97\\%$\n",
    "\n",
    "- Although it could be concluded from the previous models that the features are seperatinng the two classes well and complicating models doesn't improve the model, I went ahead and hypertunned a gradient boosted trees model to assure that this is the case. Again similar result was achieved.\n",
    "\n",
    "\n",
    "** Conclusion**:\n",
    "\n",
    "Model performed acceptable in predicting the very skewed classification problem. It reached area under AUC curve equal to 97%. There were however, some assumptions in the process that needs to be confirmed. For example, we assumed that all the missing values are data not provided/available by the user. Therefore, we assumed that no missing value occured due to any other data pipelining complications. **Moreover, the population of study, customers who registered in January, are not generalizable to all the users who register in Uber service. The main reason is that January is especial month as it is in the middle of winter and also right after holidays and usually people have quite different behaviour during this period of time.**\n",
    "\n",
    "Finally, although model is designed for a particular time of the year, there seems to be some insights that Uber can use to improve its service. **First, as mentioned before, the background check can be revisited. Several levels of background for different services assure that different group of users are engaged and satisfied. Similarly, vehicle age can be revisited. For example, different services can ask for different age. This assures that users with older vehicles are also engaged in this service. Finally, we noticed that the first couple of days after registration is critical in defining whether a registered user would become a driver. Therefore, incentive, discounts, and other follow up actions can be focused on these days.**\n",
    "\n",
    "Here is a summary of the results:\n",
    "\n",
    "| Model | Hypertuned? | Area Under Curve |\n",
    "| --- | --- | --- |\n",
    "| Logistic Regression | No | 0.97 |\n",
    "| Support Vector Machine | Yes | 0.96 |\n",
    "| K-Nearest Neighbor | Yes | 0.96 |\n",
    "| Random Forest | Yes | 0.97 |\n",
    "| Gradient Boosted Trees| Yes | 0.95 |"
   ]
  },
  {
   "cell_type": "markdown",
   "metadata": {},
   "source": [
    "## Abstract -  Task 3: \n",
    "\n",
    "3 - Build a model to forecast the number of new drivers we expect to start every week.\n",
    "- How would you validate a model like this? What other information would you use if you had access to all of Uber's data?  \n",
    "\n",
    "This was a very interesting task. The answer to this question has real business value. It can help the business team to see whether we are close to the financial goals and whether corrective actions are required.\n",
    "\n",
    "The question was  also interesting from another perspective. Only 9 weeks (9 observations) exist in the model. One caveat was that youd dont want the outliers to dominate the model and at the same time we didn't have the luxuray to drop any observation. Here is an abstract of the solution for this task.\n",
    "\n",
    "- We used the ``first_completed_date`` feature to generate the number of weekly activations.\n",
    "- We noticed that the cumulative number of registration in the past thirty days has a very similar trend as the number of activation.\n",
    "- Since the number of observations in this dataset is not enough, bootstraping samples was used to develope $95\\%$ confidence intervals around slope and intercepts. \n",
    "- One of the observations was randomly dropped, and used to demonstrate a of validation report.\n",
    "- The validation would, however, be different for larger data sets. Larger observations allows using actual time series forecasting. In thoese cases our holdout set is different. It consists of periodically captured weekly observations, say each month we get one week and iteratively train the model for all the data before that particular week. \n",
    "- Using the median slope and intercept, we expained 98% of the variance in target ($R^2=98$) which is an acceptable result considering the small number of observations and a single explanatory vairbale.\n",
    "- Since there was not enough number of observations, we didn't go for further features as we would have lose another degree of freedom for that feature and our model was doing pretty well explaining the variance.\n",
    "- This model, however, has limitations. First, it is not generalizable to other months of the year. As we explained before, month of January is speciall as it is in the middle of winter and also it is right after the holidays. Moreover, we didnt capture enough priodicity in the data. If we have more observations, say for 3 years, we can easily use already available techniques e.g. ARIMA to predict the time series. "
   ]
  },
  {
   "cell_type": "markdown",
   "metadata": {},
   "source": [
    "\n",
    "\n",
    "\n",
    "\n",
    "***$$If\\ interested\\ in\\ the\\ details\\ of\\ each\\ task,\\ please\\ read\\ the\\ following\\ sections.$$***\n",
    "\n",
    "\n",
    "\n"
   ]
  },
  {
   "cell_type": "markdown",
   "metadata": {},
   "source": [
    "# Details - Task 2: \n",
    "\n",
    "Build a statistical model to predict whether a driver that signed up will begin driving for Uber.\n",
    "How did the model perform? Are there any caveats? How can Uber use your model to improve our product?\n",
    "\n",
    "The following is a flowchart of the workflow of this part of the take home challenge.\n",
    "\n",
    "\n",
    "\n",
    "\n",
    "![UBER Take Home Challenge - Workflow](Workflow.png)\n",
    "\n"
   ]
  },
  {
   "cell_type": "markdown",
   "metadata": {},
   "source": [
    "# 0- Domain Research\n",
    "\n",
    "Before jumping into the problem, we need to perform some domain research. The main question here is, how one can become an Uber Driver?\n",
    "\n",
    "Looking at [Uber webpage](http://www.uberdriverusa.com/) on how to become an Uber driver, we see several requirements. Those importan for us are:\n",
    "\n",
    "\"\n",
    "**7. You must pass driving record check and background check.**\n",
    "\n",
    "In addition to the above requirements, you must also pass a driving record check and background check. Basically, Uber will require you to have no major violations in the past 3 years, no drug-related driving violations in the last 7 years and no extreme infractions in the last 7 years.\n",
    "\n",
    "In the background check, within the past seven years, you will have no violent crimes, no theft, no sexual offenses, no property damage, no drug-related offenses and no felonies committed.\n",
    "\n",
    "You might not have the cleanest driving record or background check, but that cannot prevent you from becoming an Uber driver.\n",
    "\n",
    "\""
   ]
  },
  {
   "cell_type": "markdown",
   "metadata": {},
   "source": [
    "# 1-  Problem Formulation:\n",
    "\n",
    "This section is dedicated to classifying whether a user becomes an Uber driver using the provided data. The purpose of the author is to find patterns that demonstrates the drivers' behaviour following their signup with Uber. There are two higher level business question that need to be answered:\n",
    "\n",
    "Does the driver become an Uber driver? This is a \"Yes\"/\"No\" question, since we are interested to know which **class** of a certain target each driver is a part of. For problems related to classes, we need to train classifiers. For this question, our index is the ID of the driver, and our target is wheather he become a driver or not yet.\n",
    "\n",
    "\n",
    "The rest of the notebook for this task is as follows:\n",
    "\n",
    "``1-1- Required Packages``\n",
    "\n",
    "``1-2- Defining the Choice of Metrics``\n",
    "\n",
    "``1-3- Choice of Train, Holdout Split``\n",
    "\n",
    "``2- Exploratory Data Analysis``\n",
    "\n",
    "``2-1- Data Shape, Size, Columns, Index, Types,``\n",
    "\n",
    "``2-2- Working on Null Values, Duplicates,``\n",
    "\n",
    "``3- Visual Exploratory Data Analysis``\n",
    "\n",
    "``3-1- Numerical Features``\n",
    "\n",
    "``3-2- Categorical Features``\n",
    "\n",
    "``3-3- Time-series Features``\n",
    "\n",
    "``4- Data Preconditioning``\n",
    "\n",
    "``4-1- Outlier Analysis``\n",
    "\n",
    "``4-2- Train- Holdout split``\n",
    "\n",
    "``5- Feature Engineering``\n",
    "\n",
    "``5-1- Numerical Features, and their Statistical Significance``\n",
    "\n",
    "``5-2- Categorical Features, and their Statistical Significance``\n",
    "\n",
    "``5-3- Time Series Features, and their Statistical Significance``\n",
    "\n",
    "``5-4- Model Preprocessing (Standard Scaler) ``\n",
    "\n",
    "``5-4- Feature Selection and Feature Imporatnce (PCA, RF)``\n",
    "\n",
    "``6- Modelling``\n",
    "\n",
    "``6-1- Simple Model to Check Bias/Variance``\n",
    "\n",
    "``6-2- SVM/KNN and cross validation``\n",
    "\n",
    "``6-3- Random Forest as a Bagging Technique /Hyper Parameter Tunning``\n",
    "\n",
    "``6-4- Gradient Boosted Trees as a Boosting Technique``\n",
    "\n",
    "``7- Discussion and Suggestions``"
   ]
  },
  {
   "cell_type": "markdown",
   "metadata": {},
   "source": [
    "## 1-1- Required Packages:\n",
    "\n",
    "- pandas for data manipulation,\n",
    "\n",
    "- matplotlib, Seaborn for data visualization,\n",
    "\n",
    "- scipy for statistical Analysis\n",
    "\n",
    "- sikit-learn for statistical modelling\n",
    "\n",
    "- numpy for array manipulation\n",
    "\n",
    "- datetime for time series analysis\n",
    "\n",
    "- xgboost to perfom modelling using gradient boosted trees"
   ]
  },
  {
   "cell_type": "code",
   "execution_count": 1,
   "metadata": {},
   "outputs": [],
   "source": [
    "import numpy as np\n",
    "import pandas as pd\n",
    "import matplotlib.pyplot as plt\n",
    "import seaborn as sns\n",
    "sns.set() # inline plots with seaborn style\n",
    "import scipy\n",
    "from scipy import stats\n",
    "from scipy.stats import chi2_contingency\n",
    "import sklearn\n",
    "from sklearn.model_selection import train_test_split\n",
    "from sklearn.decomposition import PCA\n",
    "from sklearn.preprocessing import StandardScaler\n",
    "from sklearn.ensemble import ExtraTreesClassifier\n",
    "from sklearn.ensemble import RandomForestClassifier\n",
    "from statsmodels.graphics.mosaicplot import mosaic\n",
    "from sklearn.metrics import roc_auc_score,roc_curve, auc\n",
    "from sklearn.svm import SVC\n",
    "from sklearn.model_selection import GridSearchCV\n",
    "from sklearn.linear_model import LogisticRegression\n",
    "from sklearn.neighbors import KNeighborsClassifier\n",
    "from sklearn.metrics import make_scorer\n",
    "from sklearn.metrics import accuracy_score\n",
    "from sklearn.metrics import mean_squared_error\n",
    "from datetime import datetime\n",
    "from datetime import timedelta\n",
    "from xgboost import XGBClassifier\n",
    "import xgboost as xgb\n"
   ]
  },
  {
   "cell_type": "code",
   "execution_count": 2,
   "metadata": {},
   "outputs": [],
   "source": [
    "from matplotlib.pyplot import rcParams\n",
    "rcParams['figure.figsize'] = 12,6"
   ]
  },
  {
   "cell_type": "markdown",
   "metadata": {},
   "source": [
    "## 1-2- Choice of metrics:\n",
    "A very important question we need to answer at the beginning is, what do we call a good model? For classification, there are several [metrics](https://www.analyticsvidhya.com/blog/2016/02/7-important-model-evaluation-error-metrics/) we can use, namely accuracy, F-1 Score and Area Under Curve, accuracy. Before knowing which one to use, we need to take a cook look at data and see how classes are distributed?\n",
    "\n",
    "So let's import the data:"
   ]
  },
  {
   "cell_type": "code",
   "execution_count": 3,
   "metadata": {},
   "outputs": [
    {
     "data": {
      "text/html": [
       "<div>\n",
       "<style scoped>\n",
       "    .dataframe tbody tr th:only-of-type {\n",
       "        vertical-align: middle;\n",
       "    }\n",
       "\n",
       "    .dataframe tbody tr th {\n",
       "        vertical-align: top;\n",
       "    }\n",
       "\n",
       "    .dataframe thead th {\n",
       "        text-align: right;\n",
       "    }\n",
       "</style>\n",
       "<table border=\"1\" class=\"dataframe\">\n",
       "  <thead>\n",
       "    <tr style=\"text-align: right;\">\n",
       "      <th></th>\n",
       "      <th>city_name</th>\n",
       "      <th>signup_os</th>\n",
       "      <th>signup_channel</th>\n",
       "      <th>signup_date</th>\n",
       "      <th>bgc_date</th>\n",
       "      <th>vehicle_added_date</th>\n",
       "      <th>vehicle_make</th>\n",
       "      <th>vehicle_model</th>\n",
       "      <th>vehicle_year</th>\n",
       "      <th>first_completed_date</th>\n",
       "    </tr>\n",
       "    <tr>\n",
       "      <th>id</th>\n",
       "      <th></th>\n",
       "      <th></th>\n",
       "      <th></th>\n",
       "      <th></th>\n",
       "      <th></th>\n",
       "      <th></th>\n",
       "      <th></th>\n",
       "      <th></th>\n",
       "      <th></th>\n",
       "      <th></th>\n",
       "    </tr>\n",
       "  </thead>\n",
       "  <tbody>\n",
       "    <tr>\n",
       "      <th>1</th>\n",
       "      <td>Strark</td>\n",
       "      <td>ios web</td>\n",
       "      <td>Paid</td>\n",
       "      <td>1/2/16</td>\n",
       "      <td>NaN</td>\n",
       "      <td>NaN</td>\n",
       "      <td>NaN</td>\n",
       "      <td>NaN</td>\n",
       "      <td>NaN</td>\n",
       "      <td>NaN</td>\n",
       "    </tr>\n",
       "    <tr>\n",
       "      <th>2</th>\n",
       "      <td>Strark</td>\n",
       "      <td>windows</td>\n",
       "      <td>Paid</td>\n",
       "      <td>1/21/16</td>\n",
       "      <td>NaN</td>\n",
       "      <td>NaN</td>\n",
       "      <td>NaN</td>\n",
       "      <td>NaN</td>\n",
       "      <td>NaN</td>\n",
       "      <td>NaN</td>\n",
       "    </tr>\n",
       "    <tr>\n",
       "      <th>3</th>\n",
       "      <td>Wrouver</td>\n",
       "      <td>windows</td>\n",
       "      <td>Organic</td>\n",
       "      <td>1/11/16</td>\n",
       "      <td>1/11/16</td>\n",
       "      <td>NaN</td>\n",
       "      <td>NaN</td>\n",
       "      <td>NaN</td>\n",
       "      <td>NaN</td>\n",
       "      <td>NaN</td>\n",
       "    </tr>\n",
       "    <tr>\n",
       "      <th>4</th>\n",
       "      <td>Berton</td>\n",
       "      <td>android web</td>\n",
       "      <td>Referral</td>\n",
       "      <td>1/29/16</td>\n",
       "      <td>2/3/16</td>\n",
       "      <td>2/3/16</td>\n",
       "      <td>Toyota</td>\n",
       "      <td>Corolla</td>\n",
       "      <td>2016.0</td>\n",
       "      <td>2/3/16</td>\n",
       "    </tr>\n",
       "    <tr>\n",
       "      <th>5</th>\n",
       "      <td>Strark</td>\n",
       "      <td>android web</td>\n",
       "      <td>Referral</td>\n",
       "      <td>1/10/16</td>\n",
       "      <td>1/25/16</td>\n",
       "      <td>1/26/16</td>\n",
       "      <td>Hyundai</td>\n",
       "      <td>Sonata</td>\n",
       "      <td>2016.0</td>\n",
       "      <td>NaN</td>\n",
       "    </tr>\n",
       "  </tbody>\n",
       "</table>\n",
       "</div>"
      ],
      "text/plain": [
       "   city_name    signup_os signup_channel signup_date bgc_date  \\\n",
       "id                                                              \n",
       "1     Strark      ios web           Paid      1/2/16      NaN   \n",
       "2     Strark      windows           Paid     1/21/16      NaN   \n",
       "3    Wrouver      windows        Organic     1/11/16  1/11/16   \n",
       "4     Berton  android web       Referral     1/29/16   2/3/16   \n",
       "5     Strark  android web       Referral     1/10/16  1/25/16   \n",
       "\n",
       "   vehicle_added_date vehicle_make vehicle_model  vehicle_year  \\\n",
       "id                                                               \n",
       "1                 NaN          NaN           NaN           NaN   \n",
       "2                 NaN          NaN           NaN           NaN   \n",
       "3                 NaN          NaN           NaN           NaN   \n",
       "4              2/3/16       Toyota       Corolla        2016.0   \n",
       "5             1/26/16      Hyundai        Sonata        2016.0   \n",
       "\n",
       "   first_completed_date  \n",
       "id                       \n",
       "1                   NaN  \n",
       "2                   NaN  \n",
       "3                   NaN  \n",
       "4                2/3/16  \n",
       "5                   NaN  "
      ]
     },
     "execution_count": 3,
     "metadata": {},
     "output_type": "execute_result"
    }
   ],
   "source": [
    "class_data = pd.read_csv('ds_challenge_v2_data.csv', index_col='id')\n",
    "class_data.head()"
   ]
  },
  {
   "cell_type": "markdown",
   "metadata": {},
   "source": [
    "> We need to set up our target, which is where the ``first_completed_date`` is available (which means that the driver actually started the service)."
   ]
  },
  {
   "cell_type": "code",
   "execution_count": 4,
   "metadata": {},
   "outputs": [
    {
     "data": {
      "text/html": [
       "<div>\n",
       "<style scoped>\n",
       "    .dataframe tbody tr th:only-of-type {\n",
       "        vertical-align: middle;\n",
       "    }\n",
       "\n",
       "    .dataframe tbody tr th {\n",
       "        vertical-align: top;\n",
       "    }\n",
       "\n",
       "    .dataframe thead th {\n",
       "        text-align: right;\n",
       "    }\n",
       "</style>\n",
       "<table border=\"1\" class=\"dataframe\">\n",
       "  <thead>\n",
       "    <tr style=\"text-align: right;\">\n",
       "      <th></th>\n",
       "      <th>city_name</th>\n",
       "      <th>signup_os</th>\n",
       "      <th>signup_channel</th>\n",
       "      <th>signup_date</th>\n",
       "      <th>bgc_date</th>\n",
       "      <th>vehicle_added_date</th>\n",
       "      <th>vehicle_make</th>\n",
       "      <th>vehicle_model</th>\n",
       "      <th>vehicle_year</th>\n",
       "      <th>first_completed_date</th>\n",
       "      <th>target</th>\n",
       "    </tr>\n",
       "    <tr>\n",
       "      <th>id</th>\n",
       "      <th></th>\n",
       "      <th></th>\n",
       "      <th></th>\n",
       "      <th></th>\n",
       "      <th></th>\n",
       "      <th></th>\n",
       "      <th></th>\n",
       "      <th></th>\n",
       "      <th></th>\n",
       "      <th></th>\n",
       "      <th></th>\n",
       "    </tr>\n",
       "  </thead>\n",
       "  <tbody>\n",
       "    <tr>\n",
       "      <th>1</th>\n",
       "      <td>Strark</td>\n",
       "      <td>ios web</td>\n",
       "      <td>Paid</td>\n",
       "      <td>1/2/16</td>\n",
       "      <td>NaN</td>\n",
       "      <td>NaN</td>\n",
       "      <td>NaN</td>\n",
       "      <td>NaN</td>\n",
       "      <td>NaN</td>\n",
       "      <td>NaN</td>\n",
       "      <td>0.0</td>\n",
       "    </tr>\n",
       "    <tr>\n",
       "      <th>2</th>\n",
       "      <td>Strark</td>\n",
       "      <td>windows</td>\n",
       "      <td>Paid</td>\n",
       "      <td>1/21/16</td>\n",
       "      <td>NaN</td>\n",
       "      <td>NaN</td>\n",
       "      <td>NaN</td>\n",
       "      <td>NaN</td>\n",
       "      <td>NaN</td>\n",
       "      <td>NaN</td>\n",
       "      <td>0.0</td>\n",
       "    </tr>\n",
       "    <tr>\n",
       "      <th>3</th>\n",
       "      <td>Wrouver</td>\n",
       "      <td>windows</td>\n",
       "      <td>Organic</td>\n",
       "      <td>1/11/16</td>\n",
       "      <td>1/11/16</td>\n",
       "      <td>NaN</td>\n",
       "      <td>NaN</td>\n",
       "      <td>NaN</td>\n",
       "      <td>NaN</td>\n",
       "      <td>NaN</td>\n",
       "      <td>0.0</td>\n",
       "    </tr>\n",
       "    <tr>\n",
       "      <th>4</th>\n",
       "      <td>Berton</td>\n",
       "      <td>android web</td>\n",
       "      <td>Referral</td>\n",
       "      <td>1/29/16</td>\n",
       "      <td>2/3/16</td>\n",
       "      <td>2/3/16</td>\n",
       "      <td>Toyota</td>\n",
       "      <td>Corolla</td>\n",
       "      <td>2016.0</td>\n",
       "      <td>2/3/16</td>\n",
       "      <td>1.0</td>\n",
       "    </tr>\n",
       "    <tr>\n",
       "      <th>5</th>\n",
       "      <td>Strark</td>\n",
       "      <td>android web</td>\n",
       "      <td>Referral</td>\n",
       "      <td>1/10/16</td>\n",
       "      <td>1/25/16</td>\n",
       "      <td>1/26/16</td>\n",
       "      <td>Hyundai</td>\n",
       "      <td>Sonata</td>\n",
       "      <td>2016.0</td>\n",
       "      <td>NaN</td>\n",
       "      <td>0.0</td>\n",
       "    </tr>\n",
       "  </tbody>\n",
       "</table>\n",
       "</div>"
      ],
      "text/plain": [
       "   city_name    signup_os signup_channel signup_date bgc_date  \\\n",
       "id                                                              \n",
       "1     Strark      ios web           Paid      1/2/16      NaN   \n",
       "2     Strark      windows           Paid     1/21/16      NaN   \n",
       "3    Wrouver      windows        Organic     1/11/16  1/11/16   \n",
       "4     Berton  android web       Referral     1/29/16   2/3/16   \n",
       "5     Strark  android web       Referral     1/10/16  1/25/16   \n",
       "\n",
       "   vehicle_added_date vehicle_make vehicle_model  vehicle_year  \\\n",
       "id                                                               \n",
       "1                 NaN          NaN           NaN           NaN   \n",
       "2                 NaN          NaN           NaN           NaN   \n",
       "3                 NaN          NaN           NaN           NaN   \n",
       "4              2/3/16       Toyota       Corolla        2016.0   \n",
       "5             1/26/16      Hyundai        Sonata        2016.0   \n",
       "\n",
       "   first_completed_date  target  \n",
       "id                               \n",
       "1                   NaN     0.0  \n",
       "2                   NaN     0.0  \n",
       "3                   NaN     0.0  \n",
       "4                2/3/16     1.0  \n",
       "5                   NaN     0.0  "
      ]
     },
     "execution_count": 4,
     "metadata": {},
     "output_type": "execute_result"
    }
   ],
   "source": [
    "# here I take a look at the first_completed_date and generate a \"1\" if data exists in that column\n",
    "#float allows easier divsion\n",
    "class_data['target'] = class_data.first_completed_date.notnull().astype('float')\n",
    "class_data.head()"
   ]
  },
  {
   "cell_type": "markdown",
   "metadata": {},
   "source": [
    "> Let's see how is the class ratio (base rate). In other words, how much of the data belongs to the users who became a driver?"
   ]
  },
  {
   "cell_type": "code",
   "execution_count": 5,
   "metadata": {},
   "outputs": [
    {
     "name": "stdout",
     "output_type": "stream",
     "text": [
      "The class base rate is 11.22.\n"
     ]
    }
   ],
   "source": [
    "base_rate = class_data.target.mean()\n",
    "print(\"The class base rate is {}.\".format(round(base_rate*100,2)))"
   ]
  },
  {
   "cell_type": "markdown",
   "metadata": {},
   "source": [
    "> The base rate is about 11.22 %. We, therefore, cannot get that much insight by evaluating the model using ``accuracy`` metric. The reason is that accuracy loses its meaning for skewed target data.\n",
    "We will, therefore, use ``area under curve (AUC)`` as the metric we want to maximize. This parameter can demonstrate the method efficiency while not being affected by the class skewness."
   ]
  },
  {
   "cell_type": "markdown",
   "metadata": {},
   "source": [
    "## 1-3- Choice of Train/Holdout Split\n",
    "\n",
    "We need to see, not only, how our technique work on the data we have available, but also how can it be generalized to the real world situation. This is best done by testing the model on a holdout dataset. The relationship between the hold-out set( data we keep intact untill the last moment), and the train data, should mimic the relationship between the whole data and real-world situation we will eventually be tested on.\n",
    "\n",
    "We have two options for train test split, (1) time-wise split, (2) random split.\n",
    "\n",
    "We need to take a look at the target variable to see how it changes over indexes, and make sure that our hold-out set is a random part of the data.\n",
    "Let's see how target changes over time:"
   ]
  },
  {
   "cell_type": "code",
   "execution_count": 6,
   "metadata": {},
   "outputs": [
    {
     "data": {
      "text/plain": [
       "Text(0,0.5,'target value')"
      ]
     },
     "execution_count": 6,
     "metadata": {},
     "output_type": "execute_result"
    },
    {
     "data": {
      "text/plain": [
       "<matplotlib.figure.Figure at 0x2aafae147b8>"
      ]
     },
     "metadata": {},
     "output_type": "display_data"
    },
    {
     "data": {
      "image/png": "[encoded data removed]",
      "text/plain": [
       "<matplotlib.figure.Figure at 0x2aaf79fa978>"
      ]
     },
     "metadata": {},
     "output_type": "display_data"
    }
   ],
   "source": [
    "# we need to take a sample of data since we need the data to be representable\n",
    "# we have to change target data type from boolean to integer\n",
    "target_progression = class_data.reset_index().sample(1000)[['id', 'target']].astype('int')\n",
    "fig = plt.figure(figsize=(20, 5))\n",
    "target_progression.plot(kind='scatter',x='id',y='target', color='orange', marker = '*', alpha=0.8)\n",
    "plt.xlabel('index number')\n",
    "plt.ylabel('target value')"
   ]
  },
  {
   "cell_type": "markdown",
   "metadata": {},
   "source": [
    "> By looking at this target, we can say that a basic random train test split is enough. \n",
    "We, moreover, don't  need to stratify our split since the classess are not extremely skewed. We perform the train holdout split in section ``4-2``."
   ]
  },
  {
   "cell_type": "markdown",
   "metadata": {},
   "source": [
    "# 2- Exploratory Data Analysis (EDA)\n",
    "\n",
    "EDA is one of the most important part of a successful data mining project. It allows dealing with nuisance data, and also allows getting a feel for the data at hand."
   ]
  },
  {
   "cell_type": "markdown",
   "metadata": {},
   "source": [
    "## 2-1- Data Shape, Size, Columns, Index, Types\n",
    "\n",
    "Let's see how the data is shaped, and look at the available data types and see if we need to take care of anything."
   ]
  },
  {
   "cell_type": "code",
   "execution_count": 7,
   "metadata": {},
   "outputs": [
    {
     "name": "stdout",
     "output_type": "stream",
     "text": [
      "Data has 54681 rows and 11 columns.\n"
     ]
    }
   ],
   "source": [
    "print(\"Data has {0} rows and {1} columns.\".format(class_data.shape[0],class_data.shape[1]))"
   ]
  },
  {
   "cell_type": "code",
   "execution_count": 8,
   "metadata": {},
   "outputs": [
    {
     "data": {
      "text/html": [
       "<div>\n",
       "<style scoped>\n",
       "    .dataframe tbody tr th:only-of-type {\n",
       "        vertical-align: middle;\n",
       "    }\n",
       "\n",
       "    .dataframe tbody tr th {\n",
       "        vertical-align: top;\n",
       "    }\n",
       "\n",
       "    .dataframe thead th {\n",
       "        text-align: right;\n",
       "    }\n",
       "</style>\n",
       "<table border=\"1\" class=\"dataframe\">\n",
       "  <thead>\n",
       "    <tr style=\"text-align: right;\">\n",
       "      <th></th>\n",
       "      <th>city_name</th>\n",
       "      <th>signup_os</th>\n",
       "      <th>signup_channel</th>\n",
       "      <th>signup_date</th>\n",
       "      <th>bgc_date</th>\n",
       "      <th>vehicle_added_date</th>\n",
       "      <th>vehicle_make</th>\n",
       "      <th>vehicle_model</th>\n",
       "      <th>vehicle_year</th>\n",
       "      <th>first_completed_date</th>\n",
       "      <th>target</th>\n",
       "    </tr>\n",
       "    <tr>\n",
       "      <th>id</th>\n",
       "      <th></th>\n",
       "      <th></th>\n",
       "      <th></th>\n",
       "      <th></th>\n",
       "      <th></th>\n",
       "      <th></th>\n",
       "      <th></th>\n",
       "      <th></th>\n",
       "      <th></th>\n",
       "      <th></th>\n",
       "      <th></th>\n",
       "    </tr>\n",
       "  </thead>\n",
       "  <tbody>\n",
       "    <tr>\n",
       "      <th>1</th>\n",
       "      <td>Strark</td>\n",
       "      <td>ios web</td>\n",
       "      <td>Paid</td>\n",
       "      <td>1/2/16</td>\n",
       "      <td>NaN</td>\n",
       "      <td>NaN</td>\n",
       "      <td>NaN</td>\n",
       "      <td>NaN</td>\n",
       "      <td>NaN</td>\n",
       "      <td>NaN</td>\n",
       "      <td>0.0</td>\n",
       "    </tr>\n",
       "    <tr>\n",
       "      <th>2</th>\n",
       "      <td>Strark</td>\n",
       "      <td>windows</td>\n",
       "      <td>Paid</td>\n",
       "      <td>1/21/16</td>\n",
       "      <td>NaN</td>\n",
       "      <td>NaN</td>\n",
       "      <td>NaN</td>\n",
       "      <td>NaN</td>\n",
       "      <td>NaN</td>\n",
       "      <td>NaN</td>\n",
       "      <td>0.0</td>\n",
       "    </tr>\n",
       "    <tr>\n",
       "      <th>3</th>\n",
       "      <td>Wrouver</td>\n",
       "      <td>windows</td>\n",
       "      <td>Organic</td>\n",
       "      <td>1/11/16</td>\n",
       "      <td>1/11/16</td>\n",
       "      <td>NaN</td>\n",
       "      <td>NaN</td>\n",
       "      <td>NaN</td>\n",
       "      <td>NaN</td>\n",
       "      <td>NaN</td>\n",
       "      <td>0.0</td>\n",
       "    </tr>\n",
       "    <tr>\n",
       "      <th>4</th>\n",
       "      <td>Berton</td>\n",
       "      <td>android web</td>\n",
       "      <td>Referral</td>\n",
       "      <td>1/29/16</td>\n",
       "      <td>2/3/16</td>\n",
       "      <td>2/3/16</td>\n",
       "      <td>Toyota</td>\n",
       "      <td>Corolla</td>\n",
       "      <td>2016.0</td>\n",
       "      <td>2/3/16</td>\n",
       "      <td>1.0</td>\n",
       "    </tr>\n",
       "    <tr>\n",
       "      <th>5</th>\n",
       "      <td>Strark</td>\n",
       "      <td>android web</td>\n",
       "      <td>Referral</td>\n",
       "      <td>1/10/16</td>\n",
       "      <td>1/25/16</td>\n",
       "      <td>1/26/16</td>\n",
       "      <td>Hyundai</td>\n",
       "      <td>Sonata</td>\n",
       "      <td>2016.0</td>\n",
       "      <td>NaN</td>\n",
       "      <td>0.0</td>\n",
       "    </tr>\n",
       "  </tbody>\n",
       "</table>\n",
       "</div>"
      ],
      "text/plain": [
       "   city_name    signup_os signup_channel signup_date bgc_date  \\\n",
       "id                                                              \n",
       "1     Strark      ios web           Paid      1/2/16      NaN   \n",
       "2     Strark      windows           Paid     1/21/16      NaN   \n",
       "3    Wrouver      windows        Organic     1/11/16  1/11/16   \n",
       "4     Berton  android web       Referral     1/29/16   2/3/16   \n",
       "5     Strark  android web       Referral     1/10/16  1/25/16   \n",
       "\n",
       "   vehicle_added_date vehicle_make vehicle_model  vehicle_year  \\\n",
       "id                                                               \n",
       "1                 NaN          NaN           NaN           NaN   \n",
       "2                 NaN          NaN           NaN           NaN   \n",
       "3                 NaN          NaN           NaN           NaN   \n",
       "4              2/3/16       Toyota       Corolla        2016.0   \n",
       "5             1/26/16      Hyundai        Sonata        2016.0   \n",
       "\n",
       "   first_completed_date  target  \n",
       "id                               \n",
       "1                   NaN     0.0  \n",
       "2                   NaN     0.0  \n",
       "3                   NaN     0.0  \n",
       "4                2/3/16     1.0  \n",
       "5                   NaN     0.0  "
      ]
     },
     "execution_count": 8,
     "metadata": {},
     "output_type": "execute_result"
    }
   ],
   "source": [
    "class_data.head()"
   ]
  },
  {
   "cell_type": "code",
   "execution_count": 9,
   "metadata": {},
   "outputs": [
    {
     "name": "stdout",
     "output_type": "stream",
     "text": [
      "<class 'pandas.core.frame.DataFrame'>\n",
      "Int64Index: 54681 entries, 1 to 54681\n",
      "Data columns (total 11 columns):\n",
      "city_name               54681 non-null object\n",
      "signup_os               47824 non-null object\n",
      "signup_channel          54681 non-null object\n",
      "signup_date             54681 non-null object\n",
      "bgc_date                32743 non-null object\n",
      "vehicle_added_date      13134 non-null object\n",
      "vehicle_make            13223 non-null object\n",
      "vehicle_model           13223 non-null object\n",
      "vehicle_year            13223 non-null float64\n",
      "first_completed_date    6137 non-null object\n",
      "target                  54681 non-null float64\n",
      "dtypes: float64(2), object(9)\n",
      "memory usage: 5.0+ MB\n"
     ]
    }
   ],
   "source": [
    "class_data.info()"
   ]
  },
  {
   "cell_type": "markdown",
   "metadata": {},
   "source": [
    ">We have 11 columns, and one index column. From these, there are 4 date_time features, 5 categorical, and one numerical fatures.\n",
    "** A large portion of several columns, e.g., vehicle_added_date, is missing. We might find value in them, as they might correlate with the target. It will be taken care of  in the next section**\n",
    "\n",
    "Next, I like to check the distribution of each feature. For that, one can use ``describe`` method. But before that, I like to convert the date columns into date_time data type. This allows time series manipulation that we highly rely on later."
   ]
  },
  {
   "cell_type": "code",
   "execution_count": 10,
   "metadata": {},
   "outputs": [],
   "source": [
    "date_columns = ['signup_date', 'bgc_date', 'vehicle_added_date', 'first_completed_date']\n",
    "\n",
    "for date_column in date_columns:\n",
    "    class_data[date_column] = pd.to_datetime(class_data[date_column],infer_datetime_format=True)"
   ]
  },
  {
   "cell_type": "code",
   "execution_count": 11,
   "metadata": {},
   "outputs": [
    {
     "data": {
      "text/html": [
       "<div>\n",
       "<style scoped>\n",
       "    .dataframe tbody tr th:only-of-type {\n",
       "        vertical-align: middle;\n",
       "    }\n",
       "\n",
       "    .dataframe tbody tr th {\n",
       "        vertical-align: top;\n",
       "    }\n",
       "\n",
       "    .dataframe thead th {\n",
       "        text-align: right;\n",
       "    }\n",
       "</style>\n",
       "<table border=\"1\" class=\"dataframe\">\n",
       "  <thead>\n",
       "    <tr style=\"text-align: right;\">\n",
       "      <th></th>\n",
       "      <th>vehicle_year</th>\n",
       "      <th>target</th>\n",
       "    </tr>\n",
       "  </thead>\n",
       "  <tbody>\n",
       "    <tr>\n",
       "      <th>count</th>\n",
       "      <td>13223.000000</td>\n",
       "      <td>54681.000000</td>\n",
       "    </tr>\n",
       "    <tr>\n",
       "      <th>mean</th>\n",
       "      <td>2010.568025</td>\n",
       "      <td>0.112233</td>\n",
       "    </tr>\n",
       "    <tr>\n",
       "      <th>std</th>\n",
       "      <td>35.219184</td>\n",
       "      <td>0.315656</td>\n",
       "    </tr>\n",
       "    <tr>\n",
       "      <th>min</th>\n",
       "      <td>0.000000</td>\n",
       "      <td>0.000000</td>\n",
       "    </tr>\n",
       "    <tr>\n",
       "      <th>25%</th>\n",
       "      <td>2008.000000</td>\n",
       "      <td>0.000000</td>\n",
       "    </tr>\n",
       "    <tr>\n",
       "      <th>50%</th>\n",
       "      <td>2013.000000</td>\n",
       "      <td>0.000000</td>\n",
       "    </tr>\n",
       "    <tr>\n",
       "      <th>75%</th>\n",
       "      <td>2015.000000</td>\n",
       "      <td>0.000000</td>\n",
       "    </tr>\n",
       "    <tr>\n",
       "      <th>max</th>\n",
       "      <td>2017.000000</td>\n",
       "      <td>1.000000</td>\n",
       "    </tr>\n",
       "  </tbody>\n",
       "</table>\n",
       "</div>"
      ],
      "text/plain": [
       "       vehicle_year        target\n",
       "count  13223.000000  54681.000000\n",
       "mean    2010.568025      0.112233\n",
       "std       35.219184      0.315656\n",
       "min        0.000000      0.000000\n",
       "25%     2008.000000      0.000000\n",
       "50%     2013.000000      0.000000\n",
       "75%     2015.000000      0.000000\n",
       "max     2017.000000      1.000000"
      ]
     },
     "execution_count": 11,
     "metadata": {},
     "output_type": "execute_result"
    }
   ],
   "source": [
    "class_data.describe()"
   ]
  },
  {
   "cell_type": "markdown",
   "metadata": {},
   "source": [
    "> The only numeric column, vehicle year, demonstrates that on average cars are from 2010, however, the median is much higher at 2013. Moreover, we see that newest cars are from 2017 and oldest are from 1995.\n",
    "We see that there are some cars with vehicle year = 0. These are some peculiar cases we need to deal with. . Let's see in case \"0\" is outlier data, what would be the vehicle_year distribution?"
   ]
  },
  {
   "cell_type": "code",
   "execution_count": 12,
   "metadata": {},
   "outputs": [
    {
     "data": {
      "text/html": [
       "<div>\n",
       "<style scoped>\n",
       "    .dataframe tbody tr th:only-of-type {\n",
       "        vertical-align: middle;\n",
       "    }\n",
       "\n",
       "    .dataframe tbody tr th {\n",
       "        vertical-align: top;\n",
       "    }\n",
       "\n",
       "    .dataframe thead th {\n",
       "        text-align: right;\n",
       "    }\n",
       "</style>\n",
       "<table border=\"1\" class=\"dataframe\">\n",
       "  <thead>\n",
       "    <tr style=\"text-align: right;\">\n",
       "      <th></th>\n",
       "      <th>vehicle_year</th>\n",
       "      <th>target</th>\n",
       "    </tr>\n",
       "  </thead>\n",
       "  <tbody>\n",
       "    <tr>\n",
       "      <th>count</th>\n",
       "      <td>13219.000000</td>\n",
       "      <td>54677.000000</td>\n",
       "    </tr>\n",
       "    <tr>\n",
       "      <th>mean</th>\n",
       "      <td>2011.176413</td>\n",
       "      <td>0.112241</td>\n",
       "    </tr>\n",
       "    <tr>\n",
       "      <th>std</th>\n",
       "      <td>4.135149</td>\n",
       "      <td>0.315666</td>\n",
       "    </tr>\n",
       "    <tr>\n",
       "      <th>min</th>\n",
       "      <td>1995.000000</td>\n",
       "      <td>0.000000</td>\n",
       "    </tr>\n",
       "    <tr>\n",
       "      <th>25%</th>\n",
       "      <td>2008.000000</td>\n",
       "      <td>0.000000</td>\n",
       "    </tr>\n",
       "    <tr>\n",
       "      <th>50%</th>\n",
       "      <td>2013.000000</td>\n",
       "      <td>0.000000</td>\n",
       "    </tr>\n",
       "    <tr>\n",
       "      <th>75%</th>\n",
       "      <td>2015.000000</td>\n",
       "      <td>0.000000</td>\n",
       "    </tr>\n",
       "    <tr>\n",
       "      <th>max</th>\n",
       "      <td>2017.000000</td>\n",
       "      <td>1.000000</td>\n",
       "    </tr>\n",
       "  </tbody>\n",
       "</table>\n",
       "</div>"
      ],
      "text/plain": [
       "       vehicle_year        target\n",
       "count  13219.000000  54677.000000\n",
       "mean    2011.176413      0.112241\n",
       "std        4.135149      0.315666\n",
       "min     1995.000000      0.000000\n",
       "25%     2008.000000      0.000000\n",
       "50%     2013.000000      0.000000\n",
       "75%     2015.000000      0.000000\n",
       "max     2017.000000      1.000000"
      ]
     },
     "execution_count": 12,
     "metadata": {},
     "output_type": "execute_result"
    }
   ],
   "source": [
    "class_data[class_data.vehicle_year!=0].describe()"
   ]
  },
  {
   "cell_type": "markdown",
   "metadata": {},
   "source": [
    "> We can still see that the mean is smaller, and therefore, we can say that the vehicle year is left skewed and in general newer cars tend to apply more to become an Uber driver. **This gives an insight that maybe younger people are more interested in becoming Uber driver. This calls for getting an additional data from the users, say birthdate.**\n",
    "\n",
    "By providing an argument inside describe method, we can get the distribution of categorical variables."
   ]
  },
  {
   "cell_type": "code",
   "execution_count": 13,
   "metadata": {},
   "outputs": [
    {
     "data": {
      "text/html": [
       "<div>\n",
       "<style scoped>\n",
       "    .dataframe tbody tr th:only-of-type {\n",
       "        vertical-align: middle;\n",
       "    }\n",
       "\n",
       "    .dataframe tbody tr th {\n",
       "        vertical-align: top;\n",
       "    }\n",
       "\n",
       "    .dataframe thead th {\n",
       "        text-align: right;\n",
       "    }\n",
       "</style>\n",
       "<table border=\"1\" class=\"dataframe\">\n",
       "  <thead>\n",
       "    <tr style=\"text-align: right;\">\n",
       "      <th></th>\n",
       "      <th>city_name</th>\n",
       "      <th>signup_os</th>\n",
       "      <th>signup_channel</th>\n",
       "      <th>vehicle_make</th>\n",
       "      <th>vehicle_model</th>\n",
       "    </tr>\n",
       "  </thead>\n",
       "  <tbody>\n",
       "    <tr>\n",
       "      <th>count</th>\n",
       "      <td>54681</td>\n",
       "      <td>47824</td>\n",
       "      <td>54681</td>\n",
       "      <td>13223</td>\n",
       "      <td>13223</td>\n",
       "    </tr>\n",
       "    <tr>\n",
       "      <th>unique</th>\n",
       "      <td>3</td>\n",
       "      <td>5</td>\n",
       "      <td>3</td>\n",
       "      <td>46</td>\n",
       "      <td>368</td>\n",
       "    </tr>\n",
       "    <tr>\n",
       "      <th>top</th>\n",
       "      <td>Strark</td>\n",
       "      <td>ios web</td>\n",
       "      <td>Paid</td>\n",
       "      <td>Toyota</td>\n",
       "      <td>Civic</td>\n",
       "    </tr>\n",
       "    <tr>\n",
       "      <th>freq</th>\n",
       "      <td>29557</td>\n",
       "      <td>16632</td>\n",
       "      <td>23938</td>\n",
       "      <td>3219</td>\n",
       "      <td>689</td>\n",
       "    </tr>\n",
       "  </tbody>\n",
       "</table>\n",
       "</div>"
      ],
      "text/plain": [
       "       city_name signup_os signup_channel vehicle_make vehicle_model\n",
       "count      54681     47824          54681        13223         13223\n",
       "unique         3         5              3           46           368\n",
       "top       Strark   ios web           Paid       Toyota         Civic\n",
       "freq       29557     16632          23938         3219           689"
      ]
     },
     "execution_count": 13,
     "metadata": {},
     "output_type": "execute_result"
    }
   ],
   "source": [
    "class_data.describe(include=['O'])"
   ]
  },
  {
   "cell_type": "markdown",
   "metadata": {},
   "source": [
    ">We observe that:\n",
    "- there are three cities in this data set and Strark is highest repeated.\n",
    "- same goes to signu_os, with 5 classes and ios_web being most popular.\n",
    "- there are also three sign up channel and most repeated one is Paid.\n",
    "- there are 46 vehicle make. We need to dive more into this feature as it might be a good candidate for categorical feature. \n",
    "- there are 368 vehicle makes, this for sure is a large number of categories. We need to take a deeper look at it in the feature engineering section to see if we can get relative information from it.\n",
    "\n",
    "Let's see how the time-series features are distributed?"
   ]
  },
  {
   "cell_type": "code",
   "execution_count": 14,
   "metadata": {},
   "outputs": [
    {
     "data": {
      "text/html": [
       "<div>\n",
       "<style scoped>\n",
       "    .dataframe tbody tr th:only-of-type {\n",
       "        vertical-align: middle;\n",
       "    }\n",
       "\n",
       "    .dataframe tbody tr th {\n",
       "        vertical-align: top;\n",
       "    }\n",
       "\n",
       "    .dataframe thead th {\n",
       "        text-align: right;\n",
       "    }\n",
       "</style>\n",
       "<table border=\"1\" class=\"dataframe\">\n",
       "  <thead>\n",
       "    <tr style=\"text-align: right;\">\n",
       "      <th></th>\n",
       "      <th>signup_date</th>\n",
       "      <th>bgc_date</th>\n",
       "      <th>vehicle_added_date</th>\n",
       "      <th>first_completed_date</th>\n",
       "    </tr>\n",
       "  </thead>\n",
       "  <tbody>\n",
       "    <tr>\n",
       "      <th>count</th>\n",
       "      <td>54681</td>\n",
       "      <td>32743</td>\n",
       "      <td>13134</td>\n",
       "      <td>6137</td>\n",
       "    </tr>\n",
       "    <tr>\n",
       "      <th>unique</th>\n",
       "      <td>30</td>\n",
       "      <td>74</td>\n",
       "      <td>78</td>\n",
       "      <td>57</td>\n",
       "    </tr>\n",
       "    <tr>\n",
       "      <th>top</th>\n",
       "      <td>2016-01-05 00:00:00</td>\n",
       "      <td>2016-01-29 00:00:00</td>\n",
       "      <td>2016-01-26 00:00:00</td>\n",
       "      <td>2016-01-23 00:00:00</td>\n",
       "    </tr>\n",
       "    <tr>\n",
       "      <th>freq</th>\n",
       "      <td>2489</td>\n",
       "      <td>1119</td>\n",
       "      <td>377</td>\n",
       "      <td>257</td>\n",
       "    </tr>\n",
       "    <tr>\n",
       "      <th>first</th>\n",
       "      <td>2016-01-01 00:00:00</td>\n",
       "      <td>2016-01-01 00:00:00</td>\n",
       "      <td>2016-01-01 00:00:00</td>\n",
       "      <td>2016-01-04 00:00:00</td>\n",
       "    </tr>\n",
       "    <tr>\n",
       "      <th>last</th>\n",
       "      <td>2016-01-30 00:00:00</td>\n",
       "      <td>2016-03-25 00:00:00</td>\n",
       "      <td>2016-03-26 00:00:00</td>\n",
       "      <td>2016-02-29 00:00:00</td>\n",
       "    </tr>\n",
       "  </tbody>\n",
       "</table>\n",
       "</div>"
      ],
      "text/plain": [
       "                signup_date             bgc_date   vehicle_added_date  \\\n",
       "count                 54681                32743                13134   \n",
       "unique                   30                   74                   78   \n",
       "top     2016-01-05 00:00:00  2016-01-29 00:00:00  2016-01-26 00:00:00   \n",
       "freq                   2489                 1119                  377   \n",
       "first   2016-01-01 00:00:00  2016-01-01 00:00:00  2016-01-01 00:00:00   \n",
       "last    2016-01-30 00:00:00  2016-03-25 00:00:00  2016-03-26 00:00:00   \n",
       "\n",
       "       first_completed_date  \n",
       "count                  6137  \n",
       "unique                   57  \n",
       "top     2016-01-23 00:00:00  \n",
       "freq                    257  \n",
       "first   2016-01-04 00:00:00  \n",
       "last    2016-02-29 00:00:00  "
      ]
     },
     "execution_count": 14,
     "metadata": {},
     "output_type": "execute_result"
    }
   ],
   "source": [
    "class_data[date_columns].describe()"
   ]
  },
  {
   "cell_type": "markdown",
   "metadata": {},
   "source": [
    ">The drivers signed up through January and their backgrounds are checked by March 25th. Moreover, the drivers uploaded their information by March 26th.\n",
    "Moreover, the first completed date finishes by the end of February. This means that none of the drivers who approved their background check and uploaded their information after the end of February has actually become a driver. This calls for engineering a feature, that captures this late submissions. "
   ]
  },
  {
   "cell_type": "markdown",
   "metadata": {},
   "source": [
    "## 2-2- Working on Null Values, Duplicates\n",
    "\n",
    "First steps in cleaning the data is dealing with null-values and duplicates. First let's deal with the duplicate rows. We don't want to over train our model by data points that carry exactly the same information. Let's see how many duplicates do we have?"
   ]
  },
  {
   "cell_type": "code",
   "execution_count": 15,
   "metadata": {},
   "outputs": [
    {
     "name": "stdout",
     "output_type": "stream",
     "text": [
      "48.4% of the observations are duplicates.\n"
     ]
    }
   ],
   "source": [
    "number_of_duplicates = class_data.duplicated().sum()\n",
    "number_of_rows = class_data.shape[0]\n",
    "print(\"{}% of the observations are duplicates.\".format(round(number_of_duplicates/number_of_rows*100,1)))"
   ]
  },
  {
   "cell_type": "markdown",
   "metadata": {},
   "source": [
    ">We have \"26467\" duplicate rows, which is quite large, it is almost 50% of the data. Are we throwing them out? No!! We assume that the only parameter that can demonstrate that an observation is duplicate is the ID. Having small number of features as we have here, this number duplicates can be normal. It is actually promissing that there are this much duplicates, it shows that some patterns are available in data.\n",
    "Let's see how many duplicates are avaialble including the ID?\n",
    "\n",
    "**Caveat: we made an assumption about the origin of duplicates. However, we need to perform more research. Are they really duplicates? Is there any bug in our system that same customer is trying to submit several times? The main reason for this caution is that once the duplicates are dropped the mean target value doubles. In other words most duplicates belong to the non dirver class**."
   ]
  },
  {
   "cell_type": "code",
   "execution_count": 16,
   "metadata": {},
   "outputs": [
    {
     "name": "stdout",
     "output_type": "stream",
     "text": [
      "The class base rate is 11.22.\n",
      "The class base rate when duplicates are dropped is 21.75.\n"
     ]
    }
   ],
   "source": [
    "base_rate = class_data['target'].mean()\n",
    "print(\"The class base rate is {}.\".format(round(base_rate*100,2)))\n",
    "base_rate_dropped_duplicates = class_data.drop_duplicates()['target'].mean()\n",
    "print(\"The class base rate when duplicates are dropped is {}.\".format(round(base_rate_dropped_duplicates*100,2)))"
   ]
  },
  {
   "cell_type": "markdown",
   "metadata": {},
   "source": [
    "> Since the ID of the observations ara distinct, we assume that the duplicates are merely the results of small number of features.\n",
    "\n",
    "Now let's take a look at the missing values. I believe the power of any model on this data set, depends on good utilization and understanding of missing values an their meaning.\n",
    "There are four options when you get to NaN values:\n",
    "\n",
    "- Dropping observations with nan values (when nans are simple meaningless coincindences)\n",
    "\n",
    "- Deleting features with nan values (when there are too many nans and they seam to be not very explnatory)\n",
    "\n",
    "- Imputing nans as a with new values, e.g. new class for categorical, or a very far number for numericals  when we can't throw the nans out.\n",
    "\n",
    "- Generate a new feature from the column that has nan values, where the feature is one when there is a nan and 0 otherwise. This is in the cases when nan values carry some meaning.\n",
    "\n",
    "Let's agin quickly look at he missing values in each column."
   ]
  },
  {
   "cell_type": "code",
   "execution_count": 17,
   "metadata": {},
   "outputs": [
    {
     "name": "stdout",
     "output_type": "stream",
     "text": [
      "<class 'pandas.core.frame.DataFrame'>\n",
      "Int64Index: 54681 entries, 1 to 54681\n",
      "Data columns (total 11 columns):\n",
      "city_name               54681 non-null object\n",
      "signup_os               47824 non-null object\n",
      "signup_channel          54681 non-null object\n",
      "signup_date             54681 non-null datetime64[ns]\n",
      "bgc_date                32743 non-null datetime64[ns]\n",
      "vehicle_added_date      13134 non-null datetime64[ns]\n",
      "vehicle_make            13223 non-null object\n",
      "vehicle_model           13223 non-null object\n",
      "vehicle_year            13223 non-null float64\n",
      "first_completed_date    6137 non-null datetime64[ns]\n",
      "target                  54681 non-null float64\n",
      "dtypes: datetime64[ns](4), float64(2), object(5)\n",
      "memory usage: 5.0+ MB\n"
     ]
    }
   ],
   "source": [
    "class_data.info()"
   ]
  },
  {
   "cell_type": "markdown",
   "metadata": {},
   "source": [
    ">The smallest number of null values is in coluumn ``signup_os`` which is 12.5% $(=\\frac{54681-47824}{54681}\\%)$ of the total number of available observations. We highly prefer not losing this much information, if it can be avoided. For that let's see if we can impute, or use the nan-value of each column. \n",
    "\n",
    "First, let's take a look at ``signup_os`` column."
   ]
  },
  {
   "cell_type": "code",
   "execution_count": 18,
   "metadata": {},
   "outputs": [
    {
     "data": {
      "text/plain": [
       "ios web        16632\n",
       "android web    14944\n",
       "missing         6857\n",
       "windows         6776\n",
       "mac             5824\n",
       "other           3648\n",
       "Name: signup_os, dtype: int64"
      ]
     },
     "execution_count": 18,
     "metadata": {},
     "output_type": "execute_result"
    }
   ],
   "source": [
    "class_data.fillna('missing').signup_os.value_counts() # create a cateogory for missing"
   ]
  },
  {
   "cell_type": "code",
   "execution_count": 19,
   "metadata": {},
   "outputs": [
    {
     "data": {
      "text/plain": [
       "signup_os\n",
       "android web    0.097297\n",
       "ios web        0.131734\n",
       "mac            0.162775\n",
       "missing        0.021584\n",
       "other          0.136513\n",
       "windows        0.132527\n",
       "Name: target, dtype: float64"
      ]
     },
     "execution_count": 19,
     "metadata": {},
     "output_type": "execute_result"
    }
   ],
   "source": [
    "class_data[['target', 'signup_os']].fillna('missing').groupby('signup_os')['target'].mean()"
   ]
  },
  {
   "cell_type": "markdown",
   "metadata": {},
   "source": [
    ">We can see that the imputed ``missing`` category has much smaller driver approval rate that any other category. Therefore, it might be a very meaningful feature. In other words, there might be some conditions related to this missing value. For example, there might be some specific device that doesn't report the operating system. We will keep this ``nan`` value as a new category in data. Later in section 5, we will check the statistical significance of this cateogry."
   ]
  },
  {
   "cell_type": "code",
   "execution_count": 20,
   "metadata": {},
   "outputs": [],
   "source": [
    "class_data['signup_os'] = class_data['signup_os'].fillna('missing')"
   ]
  },
  {
   "cell_type": "markdown",
   "metadata": {},
   "source": [
    "Let's move to ``bgc_date`` column.  Taking a look at ``info`` method used above, we see that 40% $(=\\frac{54681-32743}{54681}\\%)$ of the rows are missing in ``bgc_date``.\n",
    "When there is no data on ``bgc_date``, it might mean that the background check has not been permitted, not necessarily the data is missing. We can check such hypothesis by checking the mean value of the bgc_date for missign and non_missing values."
   ]
  },
  {
   "cell_type": "code",
   "execution_count": 21,
   "metadata": {},
   "outputs": [],
   "source": [
    "class_data['bcg_checked'] = class_data.bgc_date.notnull().apply(lambda x: 'Yes' if x else 'No')"
   ]
  },
  {
   "cell_type": "code",
   "execution_count": 22,
   "metadata": {},
   "outputs": [
    {
     "name": "stderr",
     "output_type": "stream",
     "text": [
      "c:\\programdata\\anaconda3\\lib\\site-packages\\ipykernel_launcher.py:1: FutureWarning: using a dict on a Series for aggregation\n",
      "is deprecated and will be removed in a future version\n",
      "  \"\"\"Entry point for launching an IPython kernel.\n"
     ]
    },
    {
     "data": {
      "text/html": [
       "<div>\n",
       "<style scoped>\n",
       "    .dataframe tbody tr th:only-of-type {\n",
       "        vertical-align: middle;\n",
       "    }\n",
       "\n",
       "    .dataframe tbody tr th {\n",
       "        vertical-align: top;\n",
       "    }\n",
       "\n",
       "    .dataframe thead th {\n",
       "        text-align: right;\n",
       "    }\n",
       "</style>\n",
       "<table border=\"1\" class=\"dataframe\">\n",
       "  <thead>\n",
       "    <tr style=\"text-align: right;\">\n",
       "      <th></th>\n",
       "      <th>mean</th>\n",
       "      <th>count</th>\n",
       "    </tr>\n",
       "    <tr>\n",
       "      <th>bcg_checked</th>\n",
       "      <th></th>\n",
       "      <th></th>\n",
       "    </tr>\n",
       "  </thead>\n",
       "  <tbody>\n",
       "    <tr>\n",
       "      <th>No</th>\n",
       "      <td>0.006974</td>\n",
       "      <td>21938</td>\n",
       "    </tr>\n",
       "    <tr>\n",
       "      <th>Yes</th>\n",
       "      <td>0.182757</td>\n",
       "      <td>32743</td>\n",
       "    </tr>\n",
       "  </tbody>\n",
       "</table>\n",
       "</div>"
      ],
      "text/plain": [
       "                 mean  count\n",
       "bcg_checked                 \n",
       "No           0.006974  21938\n",
       "Yes          0.182757  32743"
      ]
     },
     "execution_count": 22,
     "metadata": {},
     "output_type": "execute_result"
    }
   ],
   "source": [
    "class_data[['target', 'bcg_checked']].groupby('bcg_checked')['target'].aggregate({'mean':'mean','count':'count'})"
   ]
  },
  {
   "cell_type": "markdown",
   "metadata": {},
   "source": [
    ">Our hyposthesis seems to be correct. For drivers with data missing on background, only 0.007 become Uber driver, which is 6% of all the approved. Therefore, we can easily say that when the data is missing on the background, the driver has not been approved/recieved/applied his/her backrgound info to move forward. Therefore, we can say that we can generate a new feature based on this feature which highly explains the variablity. Let's prove this by checking the significance of this observation."
   ]
  },
  {
   "cell_type": "code",
   "execution_count": 23,
   "metadata": {},
   "outputs": [
    {
     "data": {
      "text/plain": [
       "Ttest_indResult(statistic=-66.34529950072451, pvalue=0.0)"
      ]
     },
     "execution_count": 23,
     "metadata": {},
     "output_type": "execute_result"
    }
   ],
   "source": [
    "missing = class_data[class_data.bcg_checked=='Yes'].target\n",
    "rest = class_data[class_data.bcg_checked=='No'].target\n",
    "stats.ttest_ind(rest, missing)"
   ]
  },
  {
   "cell_type": "markdown",
   "metadata": {},
   "source": [
    "> We see that, statistically speaking, the new feature is capable of describing the variance in the target data.\n",
    "\n",
    "Not Let's move to the next features.\n",
    "\n",
    "vehicle_added_date  has 13134 non-null datetime64[ns] which is we see that 75% $(=\\frac{54681-13134}{54681}\\%)$ of the rows. \n",
    "\n",
    "We will write a piece of code that calculates the significance of missing values."
   ]
  },
  {
   "cell_type": "code",
   "execution_count": 24,
   "metadata": {},
   "outputs": [],
   "source": [
    "def missing_value_significance(dataframe, column):\n",
    "    print('Checking if missing value in '+column+' is significant.\\n')\n",
    "    print(\"Mean value for each class level.\\n\")\n",
    "    dataframe[column+'_available'] = dataframe[column].notnull().apply(lambda x: 'Yes' if x else 'No')\n",
    "    print(dataframe[['target', column+'_available']].groupby(column+'_available')['target'].aggregate({'mean':'mean','count':'count'}))\n",
    "    missing = dataframe[dataframe[column+'_available']=='Yes'].target\n",
    "    rest = dataframe[dataframe[column+'_available']=='No'].target\n",
    "    print('Checking if p-value is significant.\\n')\n",
    "    print(stats.ttest_ind(rest, missing))"
   ]
  },
  {
   "cell_type": "code",
   "execution_count": 25,
   "metadata": {},
   "outputs": [
    {
     "name": "stdout",
     "output_type": "stream",
     "text": [
      "Checking if missing value in vehicle_added_date is significant.\n",
      "\n",
      "Mean value for each class level.\n",
      "\n",
      "                                  mean  count\n",
      "vehicle_added_date_available                 \n",
      "No                            0.006378  41547\n",
      "Yes                           0.447084  13134\n",
      "Checking if p-value is significant.\n",
      "\n",
      "Ttest_indResult(statistic=-173.76141725983868, pvalue=0.0)\n"
     ]
    },
    {
     "name": "stderr",
     "output_type": "stream",
     "text": [
      "c:\\programdata\\anaconda3\\lib\\site-packages\\ipykernel_launcher.py:5: FutureWarning: using a dict on a Series for aggregation\n",
      "is deprecated and will be removed in a future version\n",
      "  \"\"\"\n"
     ]
    }
   ],
   "source": [
    "missing_value_significance(class_data, 'vehicle_added_date')"
   ]
  },
  {
   "cell_type": "markdown",
   "metadata": {},
   "source": [
    ">The missing values on the vehicle added date are also very informative and we will keep them. **UBER might be able to send follow up emails to the registrators and ask them to upload their information. User might commit more to the program by uploading their information. Moreover, streamling the process might make it easier for the users to become an Uber driver.**\n",
    "\n",
    "Now, let's move to the next three columns, they have the same number of null objects. Intuitively, we guess the null values are from the same rows. Let's check that.\n",
    "\n",
    "vehicle_make    13223 non-null object\n",
    "\n",
    "vehicle_model    13223 non-null object\n",
    "\n",
    "vehicle_year    13223 non-null float64"
   ]
  },
  {
   "cell_type": "code",
   "execution_count": 26,
   "metadata": {},
   "outputs": [
    {
     "name": "stdout",
     "output_type": "stream",
     "text": [
      "<class 'pandas.core.frame.DataFrame'>\n",
      "Int64Index: 13223 entries, 4 to 54305\n",
      "Data columns (total 3 columns):\n",
      "vehicle_make     13223 non-null object\n",
      "vehicle_model    13223 non-null object\n",
      "vehicle_year     13223 non-null float64\n",
      "dtypes: float64(1), object(2)\n",
      "memory usage: 413.2+ KB\n"
     ]
    }
   ],
   "source": [
    "info_column = ['vehicle_make','vehicle_model','vehicle_year']\n",
    "class_data[info_column].dropna().info()"
   ]
  },
  {
   "cell_type": "markdown",
   "metadata": {},
   "source": [
    "> Yes! We see that hey are from the same observations. Therefore, we need to only analyse one of them and see if we can generate some information from it?"
   ]
  },
  {
   "cell_type": "code",
   "execution_count": 27,
   "metadata": {},
   "outputs": [
    {
     "name": "stdout",
     "output_type": "stream",
     "text": [
      "Checking if missing value in vehicle_make is significant.\n",
      "\n",
      "Mean value for each class level.\n",
      "\n",
      "                            mean  count\n",
      "vehicle_make_available                 \n",
      "No                      0.006368  41458\n",
      "Yes                     0.444150  13223\n",
      "Checking if p-value is significant.\n",
      "\n",
      "Ttest_indResult(statistic=-172.59479452381981, pvalue=0.0)\n"
     ]
    },
    {
     "name": "stderr",
     "output_type": "stream",
     "text": [
      "c:\\programdata\\anaconda3\\lib\\site-packages\\ipykernel_launcher.py:5: FutureWarning: using a dict on a Series for aggregation\n",
      "is deprecated and will be removed in a future version\n",
      "  \"\"\"\n"
     ]
    }
   ],
   "source": [
    "missing_value_significance(class_data, 'vehicle_make')"
   ]
  },
  {
   "cell_type": "markdown",
   "metadata": {},
   "source": [
    "> Yes. We see that in this feature also the missing values carries information. We will keep this. "
   ]
  },
  {
   "cell_type": "markdown",
   "metadata": {},
   "source": [
    "# 3- Visual Exploratory Data Analysis\n",
    "\n",
    "Next, we need to visualize and see some information through visualization."
   ]
  },
  {
   "cell_type": "markdown",
   "metadata": {},
   "source": [
    "## 3-1- Numerical Features\n",
    "\n",
    "We only have one numerical faeture, let's ee how it looks like."
   ]
  },
  {
   "cell_type": "code",
   "execution_count": 28,
   "metadata": {},
   "outputs": [
    {
     "data": {
      "text/plain": [
       "Text(0.5,0,'Year vehicle built')"
      ]
     },
     "execution_count": 28,
     "metadata": {},
     "output_type": "execute_result"
    },
    {
     "data": {
      "image/png": "[encoded data removed]",
      "text/plain": [
       "<matplotlib.figure.Figure at 0x2aafb1bff60>"
      ]
     },
     "metadata": {},
     "output_type": "display_data"
    }
   ],
   "source": [
    "class_data.vehicle_year.plot(kind='hist')\n",
    "plt.xlabel('Year vehicle built')"
   ]
  },
  {
   "cell_type": "markdown",
   "metadata": {},
   "source": [
    "We saw in section 2-1 that this column has some 0 values which we are not sure what they mean. For now we drop them and see if they are important."
   ]
  },
  {
   "cell_type": "code",
   "execution_count": 29,
   "metadata": {},
   "outputs": [
    {
     "data": {
      "image/png": "[encoded data removed]",
      "text/plain": [
       "<matplotlib.figure.Figure at 0x2aafb9000f0>"
      ]
     },
     "metadata": {},
     "output_type": "display_data"
    }
   ],
   "source": [
    "fig = plt.figure(figsize=(12,6))\n",
    "plt.hist(class_data[(class_data.vehicle_year!=0)&(class_data.target==1)].vehicle_year.dropna(),\n",
    "         normed = True, alpha = 0.3, color='red', label='vehicle age for Uber drivers histogram')\n",
    "class_data[(class_data.vehicle_year!=0)&(class_data.target==1)].vehicle_year.dropna().plot(kind='kde', color='red', label ='vehicle age for Uber drivers kde')\n",
    "plt.xlabel('Year vehicle built')\n",
    "plt.ylabel('Histogram and Kernel Density')\n",
    "mean_yes = class_data[(class_data.vehicle_year!=0)&(class_data.target==1)].vehicle_year.dropna().mean()\n",
    "plt.annotate('Mean = '+str(int(mean_yes)), (mean_yes,0.155), color='red')\n",
    "\n",
    "plt.hist(class_data[(class_data.vehicle_year!=0)&(class_data.target==0)].vehicle_year.dropna(),\n",
    "         normed = True, alpha = 0.3, color='blue', label='vehicle age for not yet Uber drivers histogram')\n",
    "class_data[(class_data.vehicle_year!=0)&(class_data.target==0)].vehicle_year.dropna().plot(kind='kde', color='blue', label ='vehicle age for not yet Uber drivers drivers kde')\n",
    "plt.xlabel('Year vehicle built')\n",
    "plt.ylabel('Histogram and Kernel Density')\n",
    "mean_no = class_data[(class_data.vehicle_year!=0)&(class_data.target==0)].vehicle_year.dropna().mean()\n",
    "plt.annotate('Mean = '+str(int(mean_no)), (mean_no+4.5,0.145), color='blue')\n",
    "plt.legend()\n",
    "plt.show()"
   ]
  },
  {
   "cell_type": "markdown",
   "metadata": {},
   "source": [
    "> Distribution is slightly different. We can see that the vehicles woe become uber driver are about 1.5 years younger than the one who hasn't yet become a driver."
   ]
  },
  {
   "cell_type": "code",
   "execution_count": 30,
   "metadata": {},
   "outputs": [
    {
     "name": "stderr",
     "output_type": "stream",
     "text": [
      "c:\\programdata\\anaconda3\\lib\\site-packages\\ipykernel_launcher.py:1: FutureWarning: using a dict on a Series for aggregation\n",
      "is deprecated and will be removed in a future version\n",
      "  \"\"\"Entry point for launching an IPython kernel.\n"
     ]
    },
    {
     "data": {
      "text/html": [
       "<div>\n",
       "<style scoped>\n",
       "    .dataframe tbody tr th:only-of-type {\n",
       "        vertical-align: middle;\n",
       "    }\n",
       "\n",
       "    .dataframe tbody tr th {\n",
       "        vertical-align: top;\n",
       "    }\n",
       "\n",
       "    .dataframe thead th {\n",
       "        text-align: right;\n",
       "    }\n",
       "</style>\n",
       "<table border=\"1\" class=\"dataframe\">\n",
       "  <thead>\n",
       "    <tr style=\"text-align: right;\">\n",
       "      <th></th>\n",
       "      <th>mean</th>\n",
       "      <th>count</th>\n",
       "    </tr>\n",
       "    <tr>\n",
       "      <th>target</th>\n",
       "      <th></th>\n",
       "      <th></th>\n",
       "    </tr>\n",
       "  </thead>\n",
       "  <tbody>\n",
       "    <tr>\n",
       "      <th>0.0</th>\n",
       "      <td>2009.863129</td>\n",
       "      <td>7350</td>\n",
       "    </tr>\n",
       "    <tr>\n",
       "      <th>1.0</th>\n",
       "      <td>2011.450196</td>\n",
       "      <td>5873</td>\n",
       "    </tr>\n",
       "  </tbody>\n",
       "</table>\n",
       "</div>"
      ],
      "text/plain": [
       "               mean  count\n",
       "target                    \n",
       "0.0     2009.863129   7350\n",
       "1.0     2011.450196   5873"
      ]
     },
     "execution_count": 30,
     "metadata": {},
     "output_type": "execute_result"
    }
   ],
   "source": [
    "class_data[['target', 'vehicle_year']].groupby('target')['vehicle_year'].aggregate({'mean':'mean','count':'count'})"
   ]
  },
  {
   "cell_type": "markdown",
   "metadata": {},
   "source": [
    "> This feature seems to be very promissing for generating a feature."
   ]
  },
  {
   "cell_type": "markdown",
   "metadata": {},
   "source": [
    "## 3-2- Categorical Features\n",
    "\n",
    "We have a few categorical features. Main three are:\n",
    "\n",
    "- city_name\n",
    "- signup_os\n",
    "- signup_channel\n",
    "\n",
    "(The rests are added through our missing value analysis. You can ignore them here)."
   ]
  },
  {
   "cell_type": "code",
   "execution_count": 31,
   "metadata": {},
   "outputs": [
    {
     "data": {
      "text/html": [
       "<div>\n",
       "<style scoped>\n",
       "    .dataframe tbody tr th:only-of-type {\n",
       "        vertical-align: middle;\n",
       "    }\n",
       "\n",
       "    .dataframe tbody tr th {\n",
       "        vertical-align: top;\n",
       "    }\n",
       "\n",
       "    .dataframe thead th {\n",
       "        text-align: right;\n",
       "    }\n",
       "</style>\n",
       "<table border=\"1\" class=\"dataframe\">\n",
       "  <thead>\n",
       "    <tr style=\"text-align: right;\">\n",
       "      <th></th>\n",
       "      <th>city_name</th>\n",
       "      <th>signup_os</th>\n",
       "      <th>signup_channel</th>\n",
       "      <th>vehicle_make</th>\n",
       "      <th>vehicle_model</th>\n",
       "      <th>bcg_checked</th>\n",
       "      <th>vehicle_added_date_available</th>\n",
       "      <th>vehicle_make_available</th>\n",
       "    </tr>\n",
       "  </thead>\n",
       "  <tbody>\n",
       "    <tr>\n",
       "      <th>count</th>\n",
       "      <td>54681</td>\n",
       "      <td>54681</td>\n",
       "      <td>54681</td>\n",
       "      <td>13223</td>\n",
       "      <td>13223</td>\n",
       "      <td>54681</td>\n",
       "      <td>54681</td>\n",
       "      <td>54681</td>\n",
       "    </tr>\n",
       "    <tr>\n",
       "      <th>unique</th>\n",
       "      <td>3</td>\n",
       "      <td>6</td>\n",
       "      <td>3</td>\n",
       "      <td>46</td>\n",
       "      <td>368</td>\n",
       "      <td>2</td>\n",
       "      <td>2</td>\n",
       "      <td>2</td>\n",
       "    </tr>\n",
       "    <tr>\n",
       "      <th>top</th>\n",
       "      <td>Strark</td>\n",
       "      <td>ios web</td>\n",
       "      <td>Paid</td>\n",
       "      <td>Toyota</td>\n",
       "      <td>Civic</td>\n",
       "      <td>Yes</td>\n",
       "      <td>No</td>\n",
       "      <td>No</td>\n",
       "    </tr>\n",
       "    <tr>\n",
       "      <th>freq</th>\n",
       "      <td>29557</td>\n",
       "      <td>16632</td>\n",
       "      <td>23938</td>\n",
       "      <td>3219</td>\n",
       "      <td>689</td>\n",
       "      <td>32743</td>\n",
       "      <td>41547</td>\n",
       "      <td>41458</td>\n",
       "    </tr>\n",
       "  </tbody>\n",
       "</table>\n",
       "</div>"
      ],
      "text/plain": [
       "       city_name signup_os signup_channel vehicle_make vehicle_model  \\\n",
       "count      54681     54681          54681        13223         13223   \n",
       "unique         3         6              3           46           368   \n",
       "top       Strark   ios web           Paid       Toyota         Civic   \n",
       "freq       29557     16632          23938         3219           689   \n",
       "\n",
       "       bcg_checked vehicle_added_date_available vehicle_make_available  \n",
       "count        54681                        54681                  54681  \n",
       "unique           2                            2                      2  \n",
       "top            Yes                           No                     No  \n",
       "freq         32743                        41547                  41458  "
      ]
     },
     "execution_count": 31,
     "metadata": {},
     "output_type": "execute_result"
    }
   ],
   "source": [
    "class_data.describe(include=['O'])"
   ]
  },
  {
   "cell_type": "markdown",
   "metadata": {},
   "source": [
    "Mosaic plot gives a very good picture of the categorical data when the number of categories are small and the target is also categorical (for classication tasks).\n",
    "\n",
    "Let's see the first feature (``city_name``)."
   ]
  },
  {
   "cell_type": "code",
   "execution_count": 32,
   "metadata": {},
   "outputs": [
    {
     "data": {
      "text/plain": [
       "Text(0,0.5,'target')"
      ]
     },
     "execution_count": 32,
     "metadata": {},
     "output_type": "execute_result"
    },
    {
     "data": {
      "image/png": "[encoded data removed]",
      "text/plain": [
       "<matplotlib.figure.Figure at 0x2aafb1d6ef0>"
      ]
     },
     "metadata": {},
     "output_type": "display_data"
    }
   ],
   "source": [
    "mosaic(class_data, ['city_name','target'], title ='City name categories',\n",
    "       gap=0.01)\n",
    "plt.ylabel('target')"
   ]
  },
  {
   "cell_type": "markdown",
   "metadata": {},
   "source": [
    "> It seems city of has lower Uber driver ratio. Let's quickly look at the Chi-square test on these features and see if they explain something.\n",
    "\n",
    "Chi-square test runs on contingency table which correlates categorical variables to each other."
   ]
  },
  {
   "cell_type": "code",
   "execution_count": 33,
   "metadata": {},
   "outputs": [
    {
     "data": {
      "text/html": [
       "<div>\n",
       "<style scoped>\n",
       "    .dataframe tbody tr th:only-of-type {\n",
       "        vertical-align: middle;\n",
       "    }\n",
       "\n",
       "    .dataframe tbody tr th {\n",
       "        vertical-align: top;\n",
       "    }\n",
       "\n",
       "    .dataframe thead th {\n",
       "        text-align: right;\n",
       "    }\n",
       "</style>\n",
       "<table border=\"1\" class=\"dataframe\">\n",
       "  <thead>\n",
       "    <tr style=\"text-align: right;\">\n",
       "      <th>city_name</th>\n",
       "      <th>Berton</th>\n",
       "      <th>Strark</th>\n",
       "      <th>Wrouver</th>\n",
       "    </tr>\n",
       "    <tr>\n",
       "      <th>target</th>\n",
       "      <th></th>\n",
       "      <th></th>\n",
       "      <th></th>\n",
       "    </tr>\n",
       "  </thead>\n",
       "  <tbody>\n",
       "    <tr>\n",
       "      <th>0.0</th>\n",
       "      <td>17680</td>\n",
       "      <td>26318</td>\n",
       "      <td>4546</td>\n",
       "    </tr>\n",
       "    <tr>\n",
       "      <th>1.0</th>\n",
       "      <td>2437</td>\n",
       "      <td>3239</td>\n",
       "      <td>461</td>\n",
       "    </tr>\n",
       "  </tbody>\n",
       "</table>\n",
       "</div>"
      ],
      "text/plain": [
       "city_name  Berton  Strark  Wrouver\n",
       "target                            \n",
       "0.0         17680   26318     4546\n",
       "1.0          2437    3239      461"
      ]
     },
     "execution_count": 33,
     "metadata": {},
     "output_type": "execute_result"
    }
   ],
   "source": [
    "observed_city_contingency = pd.crosstab(class_data.target,class_data.city_name)\n",
    "observed_city_contingency"
   ]
  },
  {
   "cell_type": "code",
   "execution_count": 34,
   "metadata": {},
   "outputs": [
    {
     "name": "stdout",
     "output_type": "stream",
     "text": [
      "The p-value for the city feature is 4.2967762262368374e-09.\n"
     ]
    }
   ],
   "source": [
    "_, p, _, _ = chi2_contingency(observed_city_contingency)\n",
    "print(\"The p-value for the city feature is {}.\".format(p))"
   ]
  },
  {
   "cell_type": "markdown",
   "metadata": {},
   "source": [
    "> The city name feature is  informative as its p-value is much smaller than type-1 error of significance 0.05.\n",
    "\n",
    "Let's move to the next categorical feature, ``signup_os``."
   ]
  },
  {
   "cell_type": "code",
   "execution_count": 35,
   "metadata": {},
   "outputs": [
    {
     "data": {
      "text/plain": [
       "Text(0,0.5,'target')"
      ]
     },
     "execution_count": 35,
     "metadata": {},
     "output_type": "execute_result"
    },
    {
     "data": {
      "image/png": "[encoded data removed]",
      "text/plain": [
       "<matplotlib.figure.Figure at 0x2aafb5ea978>"
      ]
     },
     "metadata": {},
     "output_type": "display_data"
    }
   ],
   "source": [
    "mosaic(class_data, ['signup_os','target'], title ='Operating system categories')\n",
    "plt.ylabel('target')"
   ]
  },
  {
   "cell_type": "markdown",
   "metadata": {},
   "source": [
    ">Web site (through ios and android) is the main interface for registration. Moreover, missing values seem to have much smaller chance of final registration."
   ]
  },
  {
   "cell_type": "code",
   "execution_count": 36,
   "metadata": {},
   "outputs": [
    {
     "data": {
      "text/html": [
       "<div>\n",
       "<style scoped>\n",
       "    .dataframe tbody tr th:only-of-type {\n",
       "        vertical-align: middle;\n",
       "    }\n",
       "\n",
       "    .dataframe tbody tr th {\n",
       "        vertical-align: top;\n",
       "    }\n",
       "\n",
       "    .dataframe thead th {\n",
       "        text-align: right;\n",
       "    }\n",
       "</style>\n",
       "<table border=\"1\" class=\"dataframe\">\n",
       "  <thead>\n",
       "    <tr style=\"text-align: right;\">\n",
       "      <th>signup_os</th>\n",
       "      <th>android web</th>\n",
       "      <th>ios web</th>\n",
       "      <th>mac</th>\n",
       "      <th>missing</th>\n",
       "      <th>other</th>\n",
       "      <th>windows</th>\n",
       "    </tr>\n",
       "    <tr>\n",
       "      <th>target</th>\n",
       "      <th></th>\n",
       "      <th></th>\n",
       "      <th></th>\n",
       "      <th></th>\n",
       "      <th></th>\n",
       "      <th></th>\n",
       "    </tr>\n",
       "  </thead>\n",
       "  <tbody>\n",
       "    <tr>\n",
       "      <th>0.0</th>\n",
       "      <td>13490</td>\n",
       "      <td>14441</td>\n",
       "      <td>4876</td>\n",
       "      <td>6709</td>\n",
       "      <td>3150</td>\n",
       "      <td>5878</td>\n",
       "    </tr>\n",
       "    <tr>\n",
       "      <th>1.0</th>\n",
       "      <td>1454</td>\n",
       "      <td>2191</td>\n",
       "      <td>948</td>\n",
       "      <td>148</td>\n",
       "      <td>498</td>\n",
       "      <td>898</td>\n",
       "    </tr>\n",
       "  </tbody>\n",
       "</table>\n",
       "</div>"
      ],
      "text/plain": [
       "signup_os  android web  ios web   mac  missing  other  windows\n",
       "target                                                        \n",
       "0.0              13490    14441  4876     6709   3150     5878\n",
       "1.0               1454     2191   948      148    498      898"
      ]
     },
     "execution_count": 36,
     "metadata": {},
     "output_type": "execute_result"
    }
   ],
   "source": [
    "observed_os_contingency = pd.crosstab(class_data.target,class_data.signup_os)\n",
    "observed_os_contingency"
   ]
  },
  {
   "cell_type": "code",
   "execution_count": 37,
   "metadata": {},
   "outputs": [
    {
     "name": "stdout",
     "output_type": "stream",
     "text": [
      "The p-value for the operating system feature is 6.119148515923839e-184.\n"
     ]
    }
   ],
   "source": [
    "_, p, _, _ = chi2_contingency(observed_os_contingency)\n",
    "print(\"The p-value for the operating system feature is {}.\".format(p))"
   ]
  },
  {
   "cell_type": "markdown",
   "metadata": {},
   "source": [
    ">Absolutely statistically signiticant. \n",
    "\n",
    "Let's move to the next feature, ``signup_channel``. "
   ]
  },
  {
   "cell_type": "code",
   "execution_count": 38,
   "metadata": {},
   "outputs": [
    {
     "data": {
      "text/plain": [
       "Text(0,0.5,'target')"
      ]
     },
     "execution_count": 38,
     "metadata": {},
     "output_type": "execute_result"
    },
    {
     "data": {
      "image/png": "[encoded data removed]",
      "text/plain": [
       "<matplotlib.figure.Figure at 0x2aafb6d2b38>"
      ]
     },
     "metadata": {},
     "output_type": "display_data"
    }
   ],
   "source": [
    "mosaic(class_data, ['signup_channel','target'], title ='Channel categories')\n",
    "plt.ylabel('target')"
   ]
  },
  {
   "cell_type": "markdown",
   "metadata": {},
   "source": [
    ">Referals are most loyals and the paid group are least. Let's see if there is statistical significance."
   ]
  },
  {
   "cell_type": "code",
   "execution_count": 39,
   "metadata": {},
   "outputs": [
    {
     "data": {
      "text/html": [
       "<div>\n",
       "<style scoped>\n",
       "    .dataframe tbody tr th:only-of-type {\n",
       "        vertical-align: middle;\n",
       "    }\n",
       "\n",
       "    .dataframe tbody tr th {\n",
       "        vertical-align: top;\n",
       "    }\n",
       "\n",
       "    .dataframe thead th {\n",
       "        text-align: right;\n",
       "    }\n",
       "</style>\n",
       "<table border=\"1\" class=\"dataframe\">\n",
       "  <thead>\n",
       "    <tr style=\"text-align: right;\">\n",
       "      <th>signup_channel</th>\n",
       "      <th>Organic</th>\n",
       "      <th>Paid</th>\n",
       "      <th>Referral</th>\n",
       "    </tr>\n",
       "    <tr>\n",
       "      <th>target</th>\n",
       "      <th></th>\n",
       "      <th></th>\n",
       "      <th></th>\n",
       "    </tr>\n",
       "  </thead>\n",
       "  <tbody>\n",
       "    <tr>\n",
       "      <th>0.0</th>\n",
       "      <td>12217</td>\n",
       "      <td>22456</td>\n",
       "      <td>13871</td>\n",
       "    </tr>\n",
       "    <tr>\n",
       "      <th>1.0</th>\n",
       "      <td>1210</td>\n",
       "      <td>1482</td>\n",
       "      <td>3445</td>\n",
       "    </tr>\n",
       "  </tbody>\n",
       "</table>\n",
       "</div>"
      ],
      "text/plain": [
       "signup_channel  Organic   Paid  Referral\n",
       "target                                  \n",
       "0.0               12217  22456     13871\n",
       "1.0                1210   1482      3445"
      ]
     },
     "execution_count": 39,
     "metadata": {},
     "output_type": "execute_result"
    }
   ],
   "source": [
    "observed_channel_contingency = pd.crosstab(class_data.target,class_data.signup_channel)\n",
    "observed_channel_contingency"
   ]
  },
  {
   "cell_type": "code",
   "execution_count": 40,
   "metadata": {},
   "outputs": [
    {
     "name": "stdout",
     "output_type": "stream",
     "text": [
      "The p-value for the channel feature is 0.0.\n"
     ]
    }
   ],
   "source": [
    "_, p, _, _ = chi2_contingency(observed_channel_contingency)\n",
    "print(\"The p-value for the channel feature is {}.\".format(p))"
   ]
  },
  {
   "cell_type": "markdown",
   "metadata": {},
   "source": [
    "Before going to the next phase, we need to take care of a categorical variable, ***vehicle_model***. There are vehicles in that data set that are really rare, and might actually result in overfitting, and also possibly impossible train_test split. What I will be doing, is to categorize rare levels of the categories into one single group. If number of vehicles in that class is less than 40, we call it rare."
   ]
  },
  {
   "cell_type": "code",
   "execution_count": 41,
   "metadata": {},
   "outputs": [],
   "source": [
    "vehicle_model_count_dict = dict(class_data[['vehicle_model', 'target']].fillna('missing').groupby('vehicle_model').count())"
   ]
  },
  {
   "cell_type": "code",
   "execution_count": 42,
   "metadata": {},
   "outputs": [],
   "source": [
    "class_data['vehicle_model'] = class_data['vehicle_model'].fillna('missing').apply(\n",
    "    lambda x: 'rare' if vehicle_model_count_dict['target'][x]<30 else x)"
   ]
  },
  {
   "cell_type": "markdown",
   "metadata": {},
   "source": [
    "## 3-3- Time-series Features\n",
    "\n",
    "Now let's see how target changes over time with the signup date. What we want to see here is how many registeration is performed daily and from them, how much of the portion has been successfull."
   ]
  },
  {
   "cell_type": "code",
   "execution_count": 43,
   "metadata": {},
   "outputs": [
    {
     "data": {
      "image/png": "[encoded data removed]",
      "text/plain": [
       "<matplotlib.figure.Figure at 0x2aafbc931d0>"
      ]
     },
     "metadata": {},
     "output_type": "display_data"
    }
   ],
   "source": [
    "registeration_count= class_data.set_index('signup_date')['target'].resample('D').count()\n",
    "activation_mean = class_data.set_index('signup_date')['target'].resample('D').mean()\n",
    "successfull_registration = activation_mean*registeration_count\n",
    "plt.subplot(211)\n",
    "plt.plot(successfull_registration.index,successfull_registration, color='gold', label = 'successful registration')\n",
    "plt.plot(registeration_count.index,registeration_count, color='saddlebrown', label = 'total registration',marker='*',\n",
    "         markerfacecolor='green', markersize=8)\n",
    "plt.fill_between(registeration_count.index,successfull_registration, alpha=0.25, color='orange')\n",
    "plt.xlabel(\"Time of registration\")\n",
    "plt.ylabel('# of registration')\n",
    "plt.legend()\n",
    "plt.subplot(212)\n",
    "plt.plot(successfull_registration.index,activation_mean, color='black', label = 'target value',marker='*',\n",
    "         markerfacecolor='orange', markersize=12)\n",
    "plt.ylabel('target value')\n",
    "plt.xlabel('Time of registration')\n",
    "plt.legend()\n",
    "plt.tight_layout()"
   ]
  },
  {
   "cell_type": "markdown",
   "metadata": {},
   "source": [
    ">From the left top we can see that there is a weekley periodicity in the number of successful registration. It is evident that the number of registration decreases over the weekend (e.g. 2016-01-10 is Sunday), and it goes up in the beginning of the week. \n",
    "\n",
    ">From the bottom figure, we see that in the same way, the target ratio (of drivers to non-drivers) also decreases over weekends. This means that in general less drivers start their work over the weekend.\n",
    "\n",
    "Let's now see how the response variable changes over time. In other words, how many daily activation do we have?"
   ]
  },
  {
   "cell_type": "code",
   "execution_count": 44,
   "metadata": {},
   "outputs": [
    {
     "data": {
      "image/png": "[encoded data removed]",
      "text/plain": [
       "<matplotlib.figure.Figure at 0x2aafc29f668>"
      ]
     },
     "metadata": {},
     "output_type": "display_data"
    }
   ],
   "source": [
    "fig1 = plt.figure(figsize=(20, 10))\n",
    "plt.subplot(211)\n",
    "activation_count_daily = class_data.set_index('first_completed_date')['target'].resample('D').count()\n",
    "plt.plot(activation_count_daily.index,activation_count_daily, color='black', linestyle='dashed', marker='o',\n",
    "         markerfacecolor='orange', markersize=12, label = 'daily acitivation')\n",
    "plt.ylabel('# of activation')\n",
    "plt.xlabel('Time (Day)')\n",
    "plt.legend()\n",
    "plt.xticks(rotation=60)\n",
    "plt.subplot(212)\n",
    "activation_count_weekly = class_data.set_index('first_completed_date')['target'].resample('W').count()\n",
    "plt.plot(activation_count_weekly.index,activation_count_weekly, color='black', linestyle='dashed', marker='o',\n",
    "         markerfacecolor='orange', markersize=12, label = 'weekly acitivation')\n",
    "plt.ylabel('# of activation')\n",
    "plt.xlabel('Time (Week)')\n",
    "plt.legend()\n",
    "plt.xticks(rotation=60)\n",
    "plt.tight_layout()"
   ]
  },
  {
   "cell_type": "markdown",
   "metadata": {},
   "source": [
    ">We have a meaningful variation in the daily response of the customers who registered in January. End of the January is the peak and as we progress toward the end of February it highly decreases."
   ]
  },
  {
   "cell_type": "markdown",
   "metadata": {},
   "source": [
    "# 4- Data Preconditioning:\n",
    "\n",
    "There are a couple of preconditioning steps we need to take care before going into feature engineering. First we need to take care of outliers, and then perform a train-holdout study to assure correct generalization."
   ]
  },
  {
   "cell_type": "markdown",
   "metadata": {},
   "source": [
    "# 4-1- Outlier Analysis\n",
    "\n",
    "Outliers analysis is a very important preprocessing step. We need to analyze if the outliers carry any information. Througout this study, the only feature I notice that has outlier, is the vehicle year that has some zero values. Let's quickly look at them."
   ]
  },
  {
   "cell_type": "code",
   "execution_count": 45,
   "metadata": {},
   "outputs": [
    {
     "name": "stdout",
     "output_type": "stream",
     "text": [
      "There are 4 outliers in vehicle_year feature.\n"
     ]
    }
   ],
   "source": [
    "print(\"There are {} outliers in vehicle_year feature.\"\n",
    "     .format(sum(class_data.vehicle_year==0)))"
   ]
  },
  {
   "cell_type": "code",
   "execution_count": 46,
   "metadata": {},
   "outputs": [
    {
     "data": {
      "text/html": [
       "<div>\n",
       "<style scoped>\n",
       "    .dataframe tbody tr th:only-of-type {\n",
       "        vertical-align: middle;\n",
       "    }\n",
       "\n",
       "    .dataframe tbody tr th {\n",
       "        vertical-align: top;\n",
       "    }\n",
       "\n",
       "    .dataframe thead th {\n",
       "        text-align: right;\n",
       "    }\n",
       "</style>\n",
       "<table border=\"1\" class=\"dataframe\">\n",
       "  <thead>\n",
       "    <tr style=\"text-align: right;\">\n",
       "      <th></th>\n",
       "      <th>city_name</th>\n",
       "      <th>signup_os</th>\n",
       "      <th>signup_channel</th>\n",
       "      <th>signup_date</th>\n",
       "      <th>bgc_date</th>\n",
       "      <th>vehicle_added_date</th>\n",
       "      <th>vehicle_make</th>\n",
       "      <th>vehicle_model</th>\n",
       "      <th>vehicle_year</th>\n",
       "      <th>first_completed_date</th>\n",
       "      <th>target</th>\n",
       "      <th>bcg_checked</th>\n",
       "      <th>vehicle_added_date_available</th>\n",
       "      <th>vehicle_make_available</th>\n",
       "    </tr>\n",
       "    <tr>\n",
       "      <th>id</th>\n",
       "      <th></th>\n",
       "      <th></th>\n",
       "      <th></th>\n",
       "      <th></th>\n",
       "      <th></th>\n",
       "      <th></th>\n",
       "      <th></th>\n",
       "      <th></th>\n",
       "      <th></th>\n",
       "      <th></th>\n",
       "      <th></th>\n",
       "      <th></th>\n",
       "      <th></th>\n",
       "      <th></th>\n",
       "    </tr>\n",
       "  </thead>\n",
       "  <tbody>\n",
       "    <tr>\n",
       "      <th>20018</th>\n",
       "      <td>Berton</td>\n",
       "      <td>other</td>\n",
       "      <td>Organic</td>\n",
       "      <td>2016-01-13</td>\n",
       "      <td>NaT</td>\n",
       "      <td>2016-02-29</td>\n",
       "      <td>Bike</td>\n",
       "      <td>rare</td>\n",
       "      <td>0.0</td>\n",
       "      <td>NaT</td>\n",
       "      <td>0.0</td>\n",
       "      <td>No</td>\n",
       "      <td>Yes</td>\n",
       "      <td>Yes</td>\n",
       "    </tr>\n",
       "    <tr>\n",
       "      <th>44838</th>\n",
       "      <td>Strark</td>\n",
       "      <td>mac</td>\n",
       "      <td>Organic</td>\n",
       "      <td>2016-01-17</td>\n",
       "      <td>2016-01-21</td>\n",
       "      <td>2016-01-26</td>\n",
       "      <td>Chevrolet</td>\n",
       "      <td>rare</td>\n",
       "      <td>0.0</td>\n",
       "      <td>NaT</td>\n",
       "      <td>0.0</td>\n",
       "      <td>Yes</td>\n",
       "      <td>Yes</td>\n",
       "      <td>Yes</td>\n",
       "    </tr>\n",
       "    <tr>\n",
       "      <th>48129</th>\n",
       "      <td>Strark</td>\n",
       "      <td>ios web</td>\n",
       "      <td>Paid</td>\n",
       "      <td>2016-01-06</td>\n",
       "      <td>2016-01-09</td>\n",
       "      <td>2016-01-10</td>\n",
       "      <td>Ford</td>\n",
       "      <td>rare</td>\n",
       "      <td>0.0</td>\n",
       "      <td>NaT</td>\n",
       "      <td>0.0</td>\n",
       "      <td>Yes</td>\n",
       "      <td>Yes</td>\n",
       "      <td>Yes</td>\n",
       "    </tr>\n",
       "    <tr>\n",
       "      <th>49607</th>\n",
       "      <td>Strark</td>\n",
       "      <td>mac</td>\n",
       "      <td>Organic</td>\n",
       "      <td>2016-01-13</td>\n",
       "      <td>2016-01-21</td>\n",
       "      <td>2016-01-24</td>\n",
       "      <td>Subaru</td>\n",
       "      <td>Impreza</td>\n",
       "      <td>0.0</td>\n",
       "      <td>NaT</td>\n",
       "      <td>0.0</td>\n",
       "      <td>Yes</td>\n",
       "      <td>Yes</td>\n",
       "      <td>Yes</td>\n",
       "    </tr>\n",
       "  </tbody>\n",
       "</table>\n",
       "</div>"
      ],
      "text/plain": [
       "      city_name signup_os signup_channel signup_date   bgc_date  \\\n",
       "id                                                                \n",
       "20018    Berton     other        Organic  2016-01-13        NaT   \n",
       "44838    Strark       mac        Organic  2016-01-17 2016-01-21   \n",
       "48129    Strark   ios web           Paid  2016-01-06 2016-01-09   \n",
       "49607    Strark       mac        Organic  2016-01-13 2016-01-21   \n",
       "\n",
       "      vehicle_added_date vehicle_make vehicle_model  vehicle_year  \\\n",
       "id                                                                  \n",
       "20018         2016-02-29         Bike          rare           0.0   \n",
       "44838         2016-01-26    Chevrolet          rare           0.0   \n",
       "48129         2016-01-10         Ford          rare           0.0   \n",
       "49607         2016-01-24       Subaru       Impreza           0.0   \n",
       "\n",
       "      first_completed_date  target bcg_checked vehicle_added_date_available  \\\n",
       "id                                                                            \n",
       "20018                  NaT     0.0          No                          Yes   \n",
       "44838                  NaT     0.0         Yes                          Yes   \n",
       "48129                  NaT     0.0         Yes                          Yes   \n",
       "49607                  NaT     0.0         Yes                          Yes   \n",
       "\n",
       "      vehicle_make_available  \n",
       "id                            \n",
       "20018                    Yes  \n",
       "44838                    Yes  \n",
       "48129                    Yes  \n",
       "49607                    Yes  "
      ]
     },
     "execution_count": 46,
     "metadata": {},
     "output_type": "execute_result"
    }
   ],
   "source": [
    "class_data[class_data.vehicle_year==0]"
   ]
  },
  {
   "cell_type": "markdown",
   "metadata": {},
   "source": [
    "There are only four outliers, and it is safe to drop them."
   ]
  },
  {
   "cell_type": "code",
   "execution_count": 47,
   "metadata": {},
   "outputs": [],
   "source": [
    "class_data = class_data[class_data.vehicle_year!=0]"
   ]
  },
  {
   "cell_type": "markdown",
   "metadata": {},
   "source": [
    "## 4-2- Train- Holdout split\n",
    "\n",
    "Before, starting to create new feature from the data, we need to take a part of data out so that this data is **blinded** to all of our feature engineering process.\n",
    "\n",
    "Train-test split from sklearn drops the column names and converts the dataframe to numpy array, we need to write a function that brings it back to dataframe format."
   ]
  },
  {
   "cell_type": "code",
   "execution_count": 48,
   "metadata": {},
   "outputs": [],
   "source": [
    "class_data = class_data.reset_index()"
   ]
  },
  {
   "cell_type": "code",
   "execution_count": 49,
   "metadata": {},
   "outputs": [
    {
     "data": {
      "text/html": [
       "<div>\n",
       "<style scoped>\n",
       "    .dataframe tbody tr th:only-of-type {\n",
       "        vertical-align: middle;\n",
       "    }\n",
       "\n",
       "    .dataframe tbody tr th {\n",
       "        vertical-align: top;\n",
       "    }\n",
       "\n",
       "    .dataframe thead th {\n",
       "        text-align: right;\n",
       "    }\n",
       "</style>\n",
       "<table border=\"1\" class=\"dataframe\">\n",
       "  <thead>\n",
       "    <tr style=\"text-align: right;\">\n",
       "      <th></th>\n",
       "      <th>id</th>\n",
       "      <th>city_name</th>\n",
       "      <th>signup_os</th>\n",
       "      <th>signup_channel</th>\n",
       "      <th>signup_date</th>\n",
       "      <th>bgc_date</th>\n",
       "      <th>vehicle_added_date</th>\n",
       "      <th>vehicle_make</th>\n",
       "      <th>vehicle_model</th>\n",
       "      <th>vehicle_year</th>\n",
       "      <th>first_completed_date</th>\n",
       "      <th>target</th>\n",
       "      <th>bcg_checked</th>\n",
       "      <th>vehicle_added_date_available</th>\n",
       "      <th>vehicle_make_available</th>\n",
       "    </tr>\n",
       "  </thead>\n",
       "  <tbody>\n",
       "    <tr>\n",
       "      <th>0</th>\n",
       "      <td>1</td>\n",
       "      <td>Strark</td>\n",
       "      <td>ios web</td>\n",
       "      <td>Paid</td>\n",
       "      <td>2016-01-02</td>\n",
       "      <td>NaT</td>\n",
       "      <td>NaT</td>\n",
       "      <td>NaN</td>\n",
       "      <td>missing</td>\n",
       "      <td>NaN</td>\n",
       "      <td>NaT</td>\n",
       "      <td>0.0</td>\n",
       "      <td>No</td>\n",
       "      <td>No</td>\n",
       "      <td>No</td>\n",
       "    </tr>\n",
       "    <tr>\n",
       "      <th>1</th>\n",
       "      <td>2</td>\n",
       "      <td>Strark</td>\n",
       "      <td>windows</td>\n",
       "      <td>Paid</td>\n",
       "      <td>2016-01-21</td>\n",
       "      <td>NaT</td>\n",
       "      <td>NaT</td>\n",
       "      <td>NaN</td>\n",
       "      <td>missing</td>\n",
       "      <td>NaN</td>\n",
       "      <td>NaT</td>\n",
       "      <td>0.0</td>\n",
       "      <td>No</td>\n",
       "      <td>No</td>\n",
       "      <td>No</td>\n",
       "    </tr>\n",
       "    <tr>\n",
       "      <th>2</th>\n",
       "      <td>3</td>\n",
       "      <td>Wrouver</td>\n",
       "      <td>windows</td>\n",
       "      <td>Organic</td>\n",
       "      <td>2016-01-11</td>\n",
       "      <td>2016-01-11</td>\n",
       "      <td>NaT</td>\n",
       "      <td>NaN</td>\n",
       "      <td>missing</td>\n",
       "      <td>NaN</td>\n",
       "      <td>NaT</td>\n",
       "      <td>0.0</td>\n",
       "      <td>Yes</td>\n",
       "      <td>No</td>\n",
       "      <td>No</td>\n",
       "    </tr>\n",
       "    <tr>\n",
       "      <th>3</th>\n",
       "      <td>4</td>\n",
       "      <td>Berton</td>\n",
       "      <td>android web</td>\n",
       "      <td>Referral</td>\n",
       "      <td>2016-01-29</td>\n",
       "      <td>2016-02-03</td>\n",
       "      <td>2016-02-03</td>\n",
       "      <td>Toyota</td>\n",
       "      <td>Corolla</td>\n",
       "      <td>2016.0</td>\n",
       "      <td>2016-02-03</td>\n",
       "      <td>1.0</td>\n",
       "      <td>Yes</td>\n",
       "      <td>Yes</td>\n",
       "      <td>Yes</td>\n",
       "    </tr>\n",
       "    <tr>\n",
       "      <th>4</th>\n",
       "      <td>5</td>\n",
       "      <td>Strark</td>\n",
       "      <td>android web</td>\n",
       "      <td>Referral</td>\n",
       "      <td>2016-01-10</td>\n",
       "      <td>2016-01-25</td>\n",
       "      <td>2016-01-26</td>\n",
       "      <td>Hyundai</td>\n",
       "      <td>Sonata</td>\n",
       "      <td>2016.0</td>\n",
       "      <td>NaT</td>\n",
       "      <td>0.0</td>\n",
       "      <td>Yes</td>\n",
       "      <td>Yes</td>\n",
       "      <td>Yes</td>\n",
       "    </tr>\n",
       "  </tbody>\n",
       "</table>\n",
       "</div>"
      ],
      "text/plain": [
       "   id city_name    signup_os signup_channel signup_date   bgc_date  \\\n",
       "0   1    Strark      ios web           Paid  2016-01-02        NaT   \n",
       "1   2    Strark      windows           Paid  2016-01-21        NaT   \n",
       "2   3   Wrouver      windows        Organic  2016-01-11 2016-01-11   \n",
       "3   4    Berton  android web       Referral  2016-01-29 2016-02-03   \n",
       "4   5    Strark  android web       Referral  2016-01-10 2016-01-25   \n",
       "\n",
       "  vehicle_added_date vehicle_make vehicle_model  vehicle_year  \\\n",
       "0                NaT          NaN       missing           NaN   \n",
       "1                NaT          NaN       missing           NaN   \n",
       "2                NaT          NaN       missing           NaN   \n",
       "3         2016-02-03       Toyota       Corolla        2016.0   \n",
       "4         2016-01-26      Hyundai        Sonata        2016.0   \n",
       "\n",
       "  first_completed_date  target bcg_checked vehicle_added_date_available  \\\n",
       "0                  NaT     0.0          No                           No   \n",
       "1                  NaT     0.0          No                           No   \n",
       "2                  NaT     0.0         Yes                           No   \n",
       "3           2016-02-03     1.0         Yes                          Yes   \n",
       "4                  NaT     0.0         Yes                          Yes   \n",
       "\n",
       "  vehicle_make_available  \n",
       "0                     No  \n",
       "1                     No  \n",
       "2                     No  \n",
       "3                    Yes  \n",
       "4                    Yes  "
      ]
     },
     "execution_count": 49,
     "metadata": {},
     "output_type": "execute_result"
    }
   ],
   "source": [
    "class_data.head()"
   ]
  },
  {
   "cell_type": "code",
   "execution_count": 50,
   "metadata": {},
   "outputs": [],
   "source": [
    "def train_holdout_split(dataframe, target_variable):\n",
    "    feature_cols = [x for x in dataframe.columns.values]\n",
    "    feature_cols.remove(target_variable)\n",
    "    features = dataframe[feature_cols]\n",
    "    target = dataframe[target_variable]\n",
    "    X_train, X_test, y_train, y_test = train_test_split(features, target, test_size=0.33, random_state=42)\n",
    "    training = pd.concat([X_train,y_train], axis=1)\n",
    "    hold_out = pd.concat([X_test,y_test], axis=1)\n",
    "    return [training, hold_out]"
   ]
  },
  {
   "cell_type": "code",
   "execution_count": 51,
   "metadata": {},
   "outputs": [],
   "source": [
    "combined_data = train_holdout_split(class_data, 'target')"
   ]
  },
  {
   "cell_type": "markdown",
   "metadata": {},
   "source": [
    "# 5- Feature Engineering\n",
    "\n",
    "## 5-1- Numerical Feature, and its Statistical Significance\n",
    "\n",
    "First, I will develop features from our numerical feature, ``vehicle age``. In section ``3-1`` we saw that this feature is significant in explaining variance in the target variable. We will develop a meaningful feature from this column, named vehicle_age, and then perform quantization to assure that the data skewness and outliers don't affect the modelling."
   ]
  },
  {
   "cell_type": "code",
   "execution_count": 52,
   "metadata": {},
   "outputs": [],
   "source": [
    "for dataset in combined_data:\n",
    "    dataset['vehicle_age'] = 2017 - dataset['vehicle_year']\n",
    "    \n",
    "\n",
    "training_qcut, bins = pd.qcut(combined_data[0][\"vehicle_age\"], 3, retbins=True, labels=False)\n",
    "combined_data[0]['vehicle_age'] = training_qcut\n",
    "combined_data[0]['vehicle_age'] = combined_data[0]['vehicle_age'].fillna(3) # generate a new category for missing data\n",
    "combined_data[1]['vehicle_age'] = pd.cut(combined_data[1][\"vehicle_age\"], bins=bins, labels=False, include_lowest=True)\n",
    "combined_data[1]['vehicle_age'] = combined_data[1]['vehicle_age'].fillna(3) # generate a new category for missing data"
   ]
  },
  {
   "cell_type": "code",
   "execution_count": 53,
   "metadata": {},
   "outputs": [
    {
     "data": {
      "text/html": [
       "<div>\n",
       "<style scoped>\n",
       "    .dataframe tbody tr th:only-of-type {\n",
       "        vertical-align: middle;\n",
       "    }\n",
       "\n",
       "    .dataframe tbody tr th {\n",
       "        vertical-align: top;\n",
       "    }\n",
       "\n",
       "    .dataframe thead th {\n",
       "        text-align: right;\n",
       "    }\n",
       "</style>\n",
       "<table border=\"1\" class=\"dataframe\">\n",
       "  <thead>\n",
       "    <tr style=\"text-align: right;\">\n",
       "      <th>vehicle_age</th>\n",
       "      <th>0.0</th>\n",
       "      <th>1.0</th>\n",
       "      <th>2.0</th>\n",
       "      <th>3.0</th>\n",
       "    </tr>\n",
       "    <tr>\n",
       "      <th>target</th>\n",
       "      <th></th>\n",
       "      <th></th>\n",
       "      <th></th>\n",
       "      <th></th>\n",
       "    </tr>\n",
       "  </thead>\n",
       "  <tbody>\n",
       "    <tr>\n",
       "      <th>0.0</th>\n",
       "      <td>1898</td>\n",
       "      <td>1454</td>\n",
       "      <td>1603</td>\n",
       "      <td>27572</td>\n",
       "    </tr>\n",
       "    <tr>\n",
       "      <th>1.0</th>\n",
       "      <td>1599</td>\n",
       "      <td>1215</td>\n",
       "      <td>1117</td>\n",
       "      <td>175</td>\n",
       "    </tr>\n",
       "  </tbody>\n",
       "</table>\n",
       "</div>"
      ],
      "text/plain": [
       "vehicle_age   0.0   1.0   2.0    3.0\n",
       "target                              \n",
       "0.0          1898  1454  1603  27572\n",
       "1.0          1599  1215  1117    175"
      ]
     },
     "execution_count": 53,
     "metadata": {},
     "output_type": "execute_result"
    }
   ],
   "source": [
    "observed_age_contingency = pd.crosstab(combined_data[0].target,combined_data[0].vehicle_age)\n",
    "(observed_age_contingency)"
   ]
  },
  {
   "cell_type": "code",
   "execution_count": 54,
   "metadata": {},
   "outputs": [
    {
     "name": "stdout",
     "output_type": "stream",
     "text": [
      "The p-value for the age category feature is 0.0.\n"
     ]
    }
   ],
   "source": [
    "_, p, _, _ = chi2_contingency(observed_age_contingency)\n",
    "print(\"The p-value for the age category feature is {}.\".format(p))"
   ]
  },
  {
   "cell_type": "markdown",
   "metadata": {},
   "source": [
    ">We obviously see that this feature passes the Chi-square test. We will keep this as a meaningful feature in the final data set.\n",
    "\n",
    "We can now drop the vehicle year column."
   ]
  },
  {
   "cell_type": "code",
   "execution_count": 55,
   "metadata": {},
   "outputs": [],
   "source": [
    "for dataset in combined_data:\n",
    "    dataset.drop(columns = 'vehicle_year', axis=1, inplace=True)"
   ]
  },
  {
   "cell_type": "markdown",
   "metadata": {},
   "source": [
    "## 5-2- Categorical Features, and their Statistical Significance\n",
    "\n",
    "We have several categorical features that we need to generate insight from.\n",
    "\n",
    "We have a few categorical features. Main three are:\n",
    "\n",
    "- city_name\n",
    "- signup_os\n",
    "- signup_channel\n",
    "- vehicle_make\n",
    "- vehicle_model\n",
    "\n",
    "Before starting to work on the categories, I suggest using an interaction category between ``signup_os`` and ``signup_chanell``. "
   ]
  },
  {
   "cell_type": "code",
   "execution_count": 56,
   "metadata": {},
   "outputs": [],
   "source": [
    "for dataset in combined_data:\n",
    "    dataset['web_paid_interaction'] = dataset.signup_channel.fillna(\"missing\") + dataset.signup_os.fillna(\"missing\")"
   ]
  },
  {
   "cell_type": "code",
   "execution_count": 57,
   "metadata": {},
   "outputs": [
    {
     "data": {
      "text/plain": [
       "web_paid_interaction\n",
       "Organicandroid web     0.074961\n",
       "Organicios web         0.091949\n",
       "Organicmac             0.153782\n",
       "Organicmissing         0.023162\n",
       "Organicother           0.114943\n",
       "Organicwindows         0.118711\n",
       "Paidandroid web        0.038234\n",
       "Paidios web            0.058963\n",
       "Paidmac                0.088636\n",
       "Paidmissing            0.000000\n",
       "Paidother              0.086632\n",
       "Paidwindows            0.078375\n",
       "Referralandroid web    0.217825\n",
       "Referralios web        0.259962\n",
       "Referralmac            0.330108\n",
       "Referralmissing        0.019251\n",
       "Referralother          0.283673\n",
       "Referralwindows        0.293651\n",
       "Name: target, dtype: float64"
      ]
     },
     "execution_count": 57,
     "metadata": {},
     "output_type": "execute_result"
    }
   ],
   "source": [
    "combined_data[0][['target','web_paid_interaction']].groupby(\n",
    "    'web_paid_interaction').target.mean()"
   ]
  },
  {
   "cell_type": "markdown",
   "metadata": {},
   "source": [
    "> We see some nice observations:  We have a group that explains 33% of approvals (referral mac), and a group (paid missing) that has absoloutely zero drivers activation. We keep this feature and check its significance."
   ]
  },
  {
   "cell_type": "markdown",
   "metadata": {},
   "source": [
    "I would like to add the country of origin to the vehicle make. Maybe cars from different origin have different response. I downloaded a dataset fro [here](https://github.com/johnashu/datacamp/blob/master/automobiles.csv) that has the country of origin and MPG for most of the well-known vehicles. I will aggregate and add the mpg and country of origin to the dataet."
   ]
  },
  {
   "cell_type": "code",
   "execution_count": 58,
   "metadata": {},
   "outputs": [],
   "source": [
    "cars = pd.read_csv('cars.csv')\n",
    "cars['vehicle_make'] = cars.name.apply(lambda x:x.split(\" \")[0])\n",
    "cars_agg = cars[['mpg','origin','vehicle_make' ]].groupby(['origin','vehicle_make']).mean().reset_index()"
   ]
  },
  {
   "cell_type": "code",
   "execution_count": 59,
   "metadata": {},
   "outputs": [],
   "source": [
    "for dataset in combined_data:\n",
    "    dataset.vehicle_make = dataset.vehicle_make.apply(lambda x: x.lower() if type(x) is str else x)"
   ]
  },
  {
   "cell_type": "code",
   "execution_count": 60,
   "metadata": {},
   "outputs": [
    {
     "data": {
      "text/html": [
       "<div>\n",
       "<style scoped>\n",
       "    .dataframe tbody tr th:only-of-type {\n",
       "        vertical-align: middle;\n",
       "    }\n",
       "\n",
       "    .dataframe tbody tr th {\n",
       "        vertical-align: top;\n",
       "    }\n",
       "\n",
       "    .dataframe thead th {\n",
       "        text-align: right;\n",
       "    }\n",
       "</style>\n",
       "<table border=\"1\" class=\"dataframe\">\n",
       "  <thead>\n",
       "    <tr style=\"text-align: right;\">\n",
       "      <th></th>\n",
       "      <th>id</th>\n",
       "      <th>city_name</th>\n",
       "      <th>signup_os</th>\n",
       "      <th>signup_channel</th>\n",
       "      <th>signup_date</th>\n",
       "      <th>bgc_date</th>\n",
       "      <th>vehicle_added_date</th>\n",
       "      <th>vehicle_make</th>\n",
       "      <th>vehicle_model</th>\n",
       "      <th>first_completed_date</th>\n",
       "      <th>bcg_checked</th>\n",
       "      <th>vehicle_added_date_available</th>\n",
       "      <th>vehicle_make_available</th>\n",
       "      <th>target</th>\n",
       "      <th>vehicle_age</th>\n",
       "      <th>web_paid_interaction</th>\n",
       "    </tr>\n",
       "  </thead>\n",
       "  <tbody>\n",
       "    <tr>\n",
       "      <th>42793</th>\n",
       "      <td>42795</td>\n",
       "      <td>Wrouver</td>\n",
       "      <td>ios web</td>\n",
       "      <td>Paid</td>\n",
       "      <td>2016-01-23</td>\n",
       "      <td>2016-02-25</td>\n",
       "      <td>2016-03-01</td>\n",
       "      <td>hyundai</td>\n",
       "      <td>Sonata</td>\n",
       "      <td>NaT</td>\n",
       "      <td>Yes</td>\n",
       "      <td>Yes</td>\n",
       "      <td>Yes</td>\n",
       "      <td>0.0</td>\n",
       "      <td>0.0</td>\n",
       "      <td>Paidios web</td>\n",
       "    </tr>\n",
       "    <tr>\n",
       "      <th>12766</th>\n",
       "      <td>12767</td>\n",
       "      <td>Strark</td>\n",
       "      <td>windows</td>\n",
       "      <td>Paid</td>\n",
       "      <td>2016-01-18</td>\n",
       "      <td>NaT</td>\n",
       "      <td>NaT</td>\n",
       "      <td>NaN</td>\n",
       "      <td>missing</td>\n",
       "      <td>NaT</td>\n",
       "      <td>No</td>\n",
       "      <td>No</td>\n",
       "      <td>No</td>\n",
       "      <td>0.0</td>\n",
       "      <td>3.0</td>\n",
       "      <td>Paidwindows</td>\n",
       "    </tr>\n",
       "    <tr>\n",
       "      <th>19140</th>\n",
       "      <td>19141</td>\n",
       "      <td>Strark</td>\n",
       "      <td>ios web</td>\n",
       "      <td>Paid</td>\n",
       "      <td>2016-01-30</td>\n",
       "      <td>NaT</td>\n",
       "      <td>NaT</td>\n",
       "      <td>NaN</td>\n",
       "      <td>missing</td>\n",
       "      <td>NaT</td>\n",
       "      <td>No</td>\n",
       "      <td>No</td>\n",
       "      <td>No</td>\n",
       "      <td>0.0</td>\n",
       "      <td>3.0</td>\n",
       "      <td>Paidios web</td>\n",
       "    </tr>\n",
       "    <tr>\n",
       "      <th>49633</th>\n",
       "      <td>49638</td>\n",
       "      <td>Strark</td>\n",
       "      <td>windows</td>\n",
       "      <td>Paid</td>\n",
       "      <td>2016-01-05</td>\n",
       "      <td>2016-01-07</td>\n",
       "      <td>2016-01-12</td>\n",
       "      <td>mazda</td>\n",
       "      <td>MAZDA3</td>\n",
       "      <td>2016-01-23</td>\n",
       "      <td>Yes</td>\n",
       "      <td>Yes</td>\n",
       "      <td>Yes</td>\n",
       "      <td>1.0</td>\n",
       "      <td>1.0</td>\n",
       "      <td>Paidwindows</td>\n",
       "    </tr>\n",
       "    <tr>\n",
       "      <th>45809</th>\n",
       "      <td>45812</td>\n",
       "      <td>Berton</td>\n",
       "      <td>ios web</td>\n",
       "      <td>Organic</td>\n",
       "      <td>2016-01-18</td>\n",
       "      <td>NaT</td>\n",
       "      <td>NaT</td>\n",
       "      <td>NaN</td>\n",
       "      <td>missing</td>\n",
       "      <td>NaT</td>\n",
       "      <td>No</td>\n",
       "      <td>No</td>\n",
       "      <td>No</td>\n",
       "      <td>0.0</td>\n",
       "      <td>3.0</td>\n",
       "      <td>Organicios web</td>\n",
       "    </tr>\n",
       "  </tbody>\n",
       "</table>\n",
       "</div>"
      ],
      "text/plain": [
       "          id city_name signup_os signup_channel signup_date   bgc_date  \\\n",
       "42793  42795   Wrouver   ios web           Paid  2016-01-23 2016-02-25   \n",
       "12766  12767    Strark   windows           Paid  2016-01-18        NaT   \n",
       "19140  19141    Strark   ios web           Paid  2016-01-30        NaT   \n",
       "49633  49638    Strark   windows           Paid  2016-01-05 2016-01-07   \n",
       "45809  45812    Berton   ios web        Organic  2016-01-18        NaT   \n",
       "\n",
       "      vehicle_added_date vehicle_make vehicle_model first_completed_date  \\\n",
       "42793         2016-03-01      hyundai        Sonata                  NaT   \n",
       "12766                NaT          NaN       missing                  NaT   \n",
       "19140                NaT          NaN       missing                  NaT   \n",
       "49633         2016-01-12        mazda        MAZDA3           2016-01-23   \n",
       "45809                NaT          NaN       missing                  NaT   \n",
       "\n",
       "      bcg_checked vehicle_added_date_available vehicle_make_available  target  \\\n",
       "42793         Yes                          Yes                    Yes     0.0   \n",
       "12766          No                           No                     No     0.0   \n",
       "19140          No                           No                     No     0.0   \n",
       "49633         Yes                          Yes                    Yes     1.0   \n",
       "45809          No                           No                     No     0.0   \n",
       "\n",
       "       vehicle_age web_paid_interaction  \n",
       "42793          0.0          Paidios web  \n",
       "12766          3.0          Paidwindows  \n",
       "19140          3.0          Paidios web  \n",
       "49633          1.0          Paidwindows  \n",
       "45809          3.0       Organicios web  "
      ]
     },
     "execution_count": 60,
     "metadata": {},
     "output_type": "execute_result"
    }
   ],
   "source": [
    "combined_data[0].head()"
   ]
  },
  {
   "cell_type": "code",
   "execution_count": 61,
   "metadata": {},
   "outputs": [],
   "source": [
    "combined_data[0] = combined_data[0].merge(cars_agg, on = 'vehicle_make', how='left')\n",
    "combined_data[1] = combined_data[1].merge(cars_agg, on = 'vehicle_make', how='left')"
   ]
  },
  {
   "cell_type": "code",
   "execution_count": 62,
   "metadata": {},
   "outputs": [],
   "source": [
    "combined_data[0].mpg = combined_data[0].mpg.fillna(value=combined_data[0].mpg.dropna().mean())\n",
    "combined_data[1].mpg = combined_data[1].mpg.fillna(value=combined_data[0].mpg.dropna().mean())"
   ]
  },
  {
   "cell_type": "code",
   "execution_count": 63,
   "metadata": {},
   "outputs": [
    {
     "data": {
      "text/html": [
       "<div>\n",
       "<style scoped>\n",
       "    .dataframe tbody tr th:only-of-type {\n",
       "        vertical-align: middle;\n",
       "    }\n",
       "\n",
       "    .dataframe tbody tr th {\n",
       "        vertical-align: top;\n",
       "    }\n",
       "\n",
       "    .dataframe thead th {\n",
       "        text-align: right;\n",
       "    }\n",
       "</style>\n",
       "<table border=\"1\" class=\"dataframe\">\n",
       "  <thead>\n",
       "    <tr style=\"text-align: right;\">\n",
       "      <th></th>\n",
       "      <th>id</th>\n",
       "      <th>city_name</th>\n",
       "      <th>signup_os</th>\n",
       "      <th>signup_channel</th>\n",
       "      <th>signup_date</th>\n",
       "      <th>bgc_date</th>\n",
       "      <th>vehicle_added_date</th>\n",
       "      <th>vehicle_make</th>\n",
       "      <th>vehicle_model</th>\n",
       "      <th>first_completed_date</th>\n",
       "      <th>bcg_checked</th>\n",
       "      <th>vehicle_added_date_available</th>\n",
       "      <th>vehicle_make_available</th>\n",
       "      <th>target</th>\n",
       "      <th>vehicle_age</th>\n",
       "      <th>web_paid_interaction</th>\n",
       "      <th>origin</th>\n",
       "      <th>mpg</th>\n",
       "    </tr>\n",
       "  </thead>\n",
       "  <tbody>\n",
       "    <tr>\n",
       "      <th>0</th>\n",
       "      <td>42795</td>\n",
       "      <td>Wrouver</td>\n",
       "      <td>ios web</td>\n",
       "      <td>Paid</td>\n",
       "      <td>2016-01-23</td>\n",
       "      <td>2016-02-25</td>\n",
       "      <td>2016-03-01</td>\n",
       "      <td>hyundai</td>\n",
       "      <td>Sonata</td>\n",
       "      <td>NaT</td>\n",
       "      <td>Yes</td>\n",
       "      <td>Yes</td>\n",
       "      <td>Yes</td>\n",
       "      <td>0.0</td>\n",
       "      <td>0.0</td>\n",
       "      <td>Paidios web</td>\n",
       "      <td>NaN</td>\n",
       "      <td>28.318877</td>\n",
       "    </tr>\n",
       "    <tr>\n",
       "      <th>1</th>\n",
       "      <td>12767</td>\n",
       "      <td>Strark</td>\n",
       "      <td>windows</td>\n",
       "      <td>Paid</td>\n",
       "      <td>2016-01-18</td>\n",
       "      <td>NaT</td>\n",
       "      <td>NaT</td>\n",
       "      <td>NaN</td>\n",
       "      <td>missing</td>\n",
       "      <td>NaT</td>\n",
       "      <td>No</td>\n",
       "      <td>No</td>\n",
       "      <td>No</td>\n",
       "      <td>0.0</td>\n",
       "      <td>3.0</td>\n",
       "      <td>Paidwindows</td>\n",
       "      <td>NaN</td>\n",
       "      <td>28.318877</td>\n",
       "    </tr>\n",
       "    <tr>\n",
       "      <th>2</th>\n",
       "      <td>19141</td>\n",
       "      <td>Strark</td>\n",
       "      <td>ios web</td>\n",
       "      <td>Paid</td>\n",
       "      <td>2016-01-30</td>\n",
       "      <td>NaT</td>\n",
       "      <td>NaT</td>\n",
       "      <td>NaN</td>\n",
       "      <td>missing</td>\n",
       "      <td>NaT</td>\n",
       "      <td>No</td>\n",
       "      <td>No</td>\n",
       "      <td>No</td>\n",
       "      <td>0.0</td>\n",
       "      <td>3.0</td>\n",
       "      <td>Paidios web</td>\n",
       "      <td>NaN</td>\n",
       "      <td>28.318877</td>\n",
       "    </tr>\n",
       "    <tr>\n",
       "      <th>3</th>\n",
       "      <td>49638</td>\n",
       "      <td>Strark</td>\n",
       "      <td>windows</td>\n",
       "      <td>Paid</td>\n",
       "      <td>2016-01-05</td>\n",
       "      <td>2016-01-07</td>\n",
       "      <td>2016-01-12</td>\n",
       "      <td>mazda</td>\n",
       "      <td>MAZDA3</td>\n",
       "      <td>2016-01-23</td>\n",
       "      <td>Yes</td>\n",
       "      <td>Yes</td>\n",
       "      <td>Yes</td>\n",
       "      <td>1.0</td>\n",
       "      <td>1.0</td>\n",
       "      <td>Paidwindows</td>\n",
       "      <td>Asia</td>\n",
       "      <td>30.860000</td>\n",
       "    </tr>\n",
       "    <tr>\n",
       "      <th>4</th>\n",
       "      <td>45812</td>\n",
       "      <td>Berton</td>\n",
       "      <td>ios web</td>\n",
       "      <td>Organic</td>\n",
       "      <td>2016-01-18</td>\n",
       "      <td>NaT</td>\n",
       "      <td>NaT</td>\n",
       "      <td>NaN</td>\n",
       "      <td>missing</td>\n",
       "      <td>NaT</td>\n",
       "      <td>No</td>\n",
       "      <td>No</td>\n",
       "      <td>No</td>\n",
       "      <td>0.0</td>\n",
       "      <td>3.0</td>\n",
       "      <td>Organicios web</td>\n",
       "      <td>NaN</td>\n",
       "      <td>28.318877</td>\n",
       "    </tr>\n",
       "  </tbody>\n",
       "</table>\n",
       "</div>"
      ],
      "text/plain": [
       "      id city_name signup_os signup_channel signup_date   bgc_date  \\\n",
       "0  42795   Wrouver   ios web           Paid  2016-01-23 2016-02-25   \n",
       "1  12767    Strark   windows           Paid  2016-01-18        NaT   \n",
       "2  19141    Strark   ios web           Paid  2016-01-30        NaT   \n",
       "3  49638    Strark   windows           Paid  2016-01-05 2016-01-07   \n",
       "4  45812    Berton   ios web        Organic  2016-01-18        NaT   \n",
       "\n",
       "  vehicle_added_date vehicle_make vehicle_model first_completed_date  \\\n",
       "0         2016-03-01      hyundai        Sonata                  NaT   \n",
       "1                NaT          NaN       missing                  NaT   \n",
       "2                NaT          NaN       missing                  NaT   \n",
       "3         2016-01-12        mazda        MAZDA3           2016-01-23   \n",
       "4                NaT          NaN       missing                  NaT   \n",
       "\n",
       "  bcg_checked vehicle_added_date_available vehicle_make_available  target  \\\n",
       "0         Yes                          Yes                    Yes     0.0   \n",
       "1          No                           No                     No     0.0   \n",
       "2          No                           No                     No     0.0   \n",
       "3         Yes                          Yes                    Yes     1.0   \n",
       "4          No                           No                     No     0.0   \n",
       "\n",
       "   vehicle_age web_paid_interaction origin        mpg  \n",
       "0          0.0          Paidios web    NaN  28.318877  \n",
       "1          3.0          Paidwindows    NaN  28.318877  \n",
       "2          3.0          Paidios web    NaN  28.318877  \n",
       "3          1.0          Paidwindows   Asia  30.860000  \n",
       "4          3.0       Organicios web    NaN  28.318877  "
      ]
     },
     "execution_count": 63,
     "metadata": {},
     "output_type": "execute_result"
    }
   ],
   "source": [
    "combined_data[0].head()"
   ]
  },
  {
   "cell_type": "markdown",
   "metadata": {},
   "source": [
    "In the beginning, we noticed that the duplicate rows tend to belong highly to the non-activating drivers. Let's see if we can add a column for taking duplicates into account."
   ]
  },
  {
   "cell_type": "code",
   "execution_count": 64,
   "metadata": {},
   "outputs": [
    {
     "data": {
      "text/html": [
       "<div>\n",
       "<style scoped>\n",
       "    .dataframe tbody tr th:only-of-type {\n",
       "        vertical-align: middle;\n",
       "    }\n",
       "\n",
       "    .dataframe tbody tr th {\n",
       "        vertical-align: top;\n",
       "    }\n",
       "\n",
       "    .dataframe thead th {\n",
       "        text-align: right;\n",
       "    }\n",
       "</style>\n",
       "<table border=\"1\" class=\"dataframe\">\n",
       "  <thead>\n",
       "    <tr style=\"text-align: right;\">\n",
       "      <th></th>\n",
       "      <th>target</th>\n",
       "    </tr>\n",
       "    <tr>\n",
       "      <th>duplicated</th>\n",
       "      <th></th>\n",
       "    </tr>\n",
       "  </thead>\n",
       "  <tbody>\n",
       "    <tr>\n",
       "      <th>Yes</th>\n",
       "      <td>0.000000</td>\n",
       "    </tr>\n",
       "    <tr>\n",
       "      <th>No</th>\n",
       "      <td>0.216847</td>\n",
       "    </tr>\n",
       "  </tbody>\n",
       "</table>\n",
       "</div>"
      ],
      "text/plain": [
       "              target\n",
       "duplicated          \n",
       "Yes         0.000000\n",
       "No          0.216847"
      ]
     },
     "execution_count": 64,
     "metadata": {},
     "output_type": "execute_result"
    }
   ],
   "source": [
    "dup_ids = list(class_data.set_index('id')[class_data.set_index('id').duplicated()].reset_index().id)\n",
    "dup_ids\n",
    "for data_frame in combined_data:\n",
    "    data_frame['duplicated'] = data_frame.reset_index().id.apply(lambda x: \"Yes\" if x in dup_ids else \"No\")\n",
    "combined_data[0][['target','duplicated']].groupby('duplicated').mean().sort_values('target')"
   ]
  },
  {
   "cell_type": "markdown",
   "metadata": {},
   "source": [
    "Before going furhter, as we saw the missing values for all these categories carry information, let's fill all the NAs with 'missing'."
   ]
  },
  {
   "cell_type": "code",
   "execution_count": 65,
   "metadata": {},
   "outputs": [
    {
     "data": {
      "text/plain": [
       "['city_name',\n",
       " 'signup_os',\n",
       " 'signup_channel',\n",
       " 'vehicle_make',\n",
       " 'vehicle_model',\n",
       " 'bcg_checked',\n",
       " 'vehicle_added_date_available',\n",
       " 'web_paid_interaction',\n",
       " 'origin',\n",
       " 'duplicated']"
      ]
     },
     "execution_count": 65,
     "metadata": {},
     "output_type": "execute_result"
    }
   ],
   "source": [
    "categorical_features = combined_data[0].select_dtypes(include=['O']).columns.values\n",
    "categorical_features = list(categorical_features)\n",
    "#since we include the missing values, we will drop this column\n",
    "categorical_features.remove('vehicle_make_available')\n",
    "categorical_features"
   ]
  },
  {
   "cell_type": "code",
   "execution_count": 66,
   "metadata": {},
   "outputs": [],
   "source": [
    "for dataset in combined_data:\n",
    "    dataset[categorical_features] = dataset[categorical_features].fillna('missing')\n",
    "    dataset.drop(axis=1, columns='vehicle_make_available', inplace=True)"
   ]
  },
  {
   "cell_type": "code",
   "execution_count": 67,
   "metadata": {},
   "outputs": [
    {
     "data": {
      "text/html": [
       "<div>\n",
       "<style scoped>\n",
       "    .dataframe tbody tr th:only-of-type {\n",
       "        vertical-align: middle;\n",
       "    }\n",
       "\n",
       "    .dataframe tbody tr th {\n",
       "        vertical-align: top;\n",
       "    }\n",
       "\n",
       "    .dataframe thead th {\n",
       "        text-align: right;\n",
       "    }\n",
       "</style>\n",
       "<table border=\"1\" class=\"dataframe\">\n",
       "  <thead>\n",
       "    <tr style=\"text-align: right;\">\n",
       "      <th></th>\n",
       "      <th>city_name</th>\n",
       "      <th>signup_os</th>\n",
       "      <th>signup_channel</th>\n",
       "      <th>vehicle_make</th>\n",
       "      <th>vehicle_model</th>\n",
       "      <th>bcg_checked</th>\n",
       "      <th>vehicle_added_date_available</th>\n",
       "      <th>web_paid_interaction</th>\n",
       "      <th>origin</th>\n",
       "      <th>duplicated</th>\n",
       "    </tr>\n",
       "  </thead>\n",
       "  <tbody>\n",
       "    <tr>\n",
       "      <th>count</th>\n",
       "      <td>36633</td>\n",
       "      <td>36633</td>\n",
       "      <td>36633</td>\n",
       "      <td>36633</td>\n",
       "      <td>36633</td>\n",
       "      <td>36633</td>\n",
       "      <td>36633</td>\n",
       "      <td>36633</td>\n",
       "      <td>36633</td>\n",
       "      <td>36633</td>\n",
       "    </tr>\n",
       "    <tr>\n",
       "      <th>unique</th>\n",
       "      <td>3</td>\n",
       "      <td>6</td>\n",
       "      <td>3</td>\n",
       "      <td>47</td>\n",
       "      <td>90</td>\n",
       "      <td>2</td>\n",
       "      <td>2</td>\n",
       "      <td>18</td>\n",
       "      <td>4</td>\n",
       "      <td>2</td>\n",
       "    </tr>\n",
       "    <tr>\n",
       "      <th>top</th>\n",
       "      <td>Strark</td>\n",
       "      <td>ios web</td>\n",
       "      <td>Paid</td>\n",
       "      <td>missing</td>\n",
       "      <td>missing</td>\n",
       "      <td>Yes</td>\n",
       "      <td>No</td>\n",
       "      <td>Paidandroid web</td>\n",
       "      <td>missing</td>\n",
       "      <td>No</td>\n",
       "    </tr>\n",
       "    <tr>\n",
       "      <th>freq</th>\n",
       "      <td>19828</td>\n",
       "      <td>11053</td>\n",
       "      <td>15889</td>\n",
       "      <td>27747</td>\n",
       "      <td>27747</td>\n",
       "      <td>21956</td>\n",
       "      <td>27805</td>\n",
       "      <td>5231</td>\n",
       "      <td>29578</td>\n",
       "      <td>18935</td>\n",
       "    </tr>\n",
       "  </tbody>\n",
       "</table>\n",
       "</div>"
      ],
      "text/plain": [
       "       city_name signup_os signup_channel vehicle_make vehicle_model  \\\n",
       "count      36633     36633          36633        36633         36633   \n",
       "unique         3         6              3           47            90   \n",
       "top       Strark   ios web           Paid      missing       missing   \n",
       "freq       19828     11053          15889        27747         27747   \n",
       "\n",
       "       bcg_checked vehicle_added_date_available web_paid_interaction   origin  \\\n",
       "count        36633                        36633                36633    36633   \n",
       "unique           2                            2                   18        4   \n",
       "top            Yes                           No      Paidandroid web  missing   \n",
       "freq         21956                        27805                 5231    29578   \n",
       "\n",
       "       duplicated  \n",
       "count       36633  \n",
       "unique          2  \n",
       "top            No  \n",
       "freq        18935  "
      ]
     },
     "execution_count": 67,
     "metadata": {},
     "output_type": "execute_result"
    }
   ],
   "source": [
    "combined_data[0].describe(include=['O'])"
   ]
  },
  {
   "cell_type": "markdown",
   "metadata": {},
   "source": [
    "**We need to convert the categories to number. Because this is what models understand. This is what called encoding.**\n",
    "\n",
    "I am suggesting similar encoding for all these categorical variables. This is what we do:\n",
    "\n",
    "1- First perform a mean encoding (which means for each categoriy, what is the mean target variable?).\n",
    "\n",
    "2- Add a ranker to seperate the classess with close mean ratio.\n",
    "\n",
    "This highly helps the linear techniques in seperating different groups. It allows the groups with higher target values to carry higher numbers and assure a good linearity. Moreover, the classes are better seperated which assures that trees-based techniques and k-neighbors techniques have less complication in their modelling.\n",
    "\n",
    "We perform the encoding on train data and trannsfer the encoding to hold out.\n",
    "\n",
    "The following runs through all the categorical variables and results in label encoded categorical variables."
   ]
  },
  {
   "cell_type": "code",
   "execution_count": 68,
   "metadata": {},
   "outputs": [],
   "source": [
    "df1 = combined_data[0]\n",
    "df2 = combined_data[1]\n",
    "target = 'target'\n",
    "\n",
    "for category in categorical_features:\n",
    "    cat_dict = dict(df1.groupby(category)[target].mean())\n",
    "    i = 1\n",
    "    for key, value in sorted(cat_dict.items(), key = lambda x: x[1]):\n",
    "        cat_dict[key] = i\n",
    "        i += 1\n",
    "    df1[category] = df1[category].apply(lambda x: cat_dict[x])\n",
    "    df2[category] = df2[category].apply(lambda x: np.random.randint(i) if x not in cat_dict.keys() else cat_dict[x])"
   ]
  },
  {
   "cell_type": "markdown",
   "metadata": {},
   "source": [
    "Let's see how the data frames have changed."
   ]
  },
  {
   "cell_type": "code",
   "execution_count": 69,
   "metadata": {},
   "outputs": [
    {
     "data": {
      "text/html": [
       "<div>\n",
       "<style scoped>\n",
       "    .dataframe tbody tr th:only-of-type {\n",
       "        vertical-align: middle;\n",
       "    }\n",
       "\n",
       "    .dataframe tbody tr th {\n",
       "        vertical-align: top;\n",
       "    }\n",
       "\n",
       "    .dataframe thead th {\n",
       "        text-align: right;\n",
       "    }\n",
       "</style>\n",
       "<table border=\"1\" class=\"dataframe\">\n",
       "  <thead>\n",
       "    <tr style=\"text-align: right;\">\n",
       "      <th></th>\n",
       "      <th>id</th>\n",
       "      <th>city_name</th>\n",
       "      <th>signup_os</th>\n",
       "      <th>signup_channel</th>\n",
       "      <th>signup_date</th>\n",
       "      <th>bgc_date</th>\n",
       "      <th>vehicle_added_date</th>\n",
       "      <th>vehicle_make</th>\n",
       "      <th>vehicle_model</th>\n",
       "      <th>first_completed_date</th>\n",
       "      <th>bcg_checked</th>\n",
       "      <th>vehicle_added_date_available</th>\n",
       "      <th>target</th>\n",
       "      <th>vehicle_age</th>\n",
       "      <th>web_paid_interaction</th>\n",
       "      <th>origin</th>\n",
       "      <th>mpg</th>\n",
       "      <th>duplicated</th>\n",
       "    </tr>\n",
       "  </thead>\n",
       "  <tbody>\n",
       "    <tr>\n",
       "      <th>0</th>\n",
       "      <td>42795</td>\n",
       "      <td>1</td>\n",
       "      <td>4</td>\n",
       "      <td>1</td>\n",
       "      <td>2016-01-23</td>\n",
       "      <td>2016-02-25</td>\n",
       "      <td>2016-03-01</td>\n",
       "      <td>22</td>\n",
       "      <td>46</td>\n",
       "      <td>NaT</td>\n",
       "      <td>2</td>\n",
       "      <td>2</td>\n",
       "      <td>0.0</td>\n",
       "      <td>0.0</td>\n",
       "      <td>5</td>\n",
       "      <td>1</td>\n",
       "      <td>28.318877</td>\n",
       "      <td>2</td>\n",
       "    </tr>\n",
       "    <tr>\n",
       "      <th>1</th>\n",
       "      <td>12767</td>\n",
       "      <td>2</td>\n",
       "      <td>3</td>\n",
       "      <td>1</td>\n",
       "      <td>2016-01-18</td>\n",
       "      <td>NaT</td>\n",
       "      <td>NaT</td>\n",
       "      <td>3</td>\n",
       "      <td>1</td>\n",
       "      <td>NaT</td>\n",
       "      <td>1</td>\n",
       "      <td>1</td>\n",
       "      <td>0.0</td>\n",
       "      <td>3.0</td>\n",
       "      <td>7</td>\n",
       "      <td>1</td>\n",
       "      <td>28.318877</td>\n",
       "      <td>1</td>\n",
       "    </tr>\n",
       "    <tr>\n",
       "      <th>2</th>\n",
       "      <td>19141</td>\n",
       "      <td>2</td>\n",
       "      <td>4</td>\n",
       "      <td>1</td>\n",
       "      <td>2016-01-30</td>\n",
       "      <td>NaT</td>\n",
       "      <td>NaT</td>\n",
       "      <td>3</td>\n",
       "      <td>1</td>\n",
       "      <td>NaT</td>\n",
       "      <td>1</td>\n",
       "      <td>1</td>\n",
       "      <td>0.0</td>\n",
       "      <td>3.0</td>\n",
       "      <td>5</td>\n",
       "      <td>1</td>\n",
       "      <td>28.318877</td>\n",
       "      <td>1</td>\n",
       "    </tr>\n",
       "    <tr>\n",
       "      <th>3</th>\n",
       "      <td>49638</td>\n",
       "      <td>2</td>\n",
       "      <td>3</td>\n",
       "      <td>1</td>\n",
       "      <td>2016-01-05</td>\n",
       "      <td>2016-01-07</td>\n",
       "      <td>2016-01-12</td>\n",
       "      <td>31</td>\n",
       "      <td>53</td>\n",
       "      <td>2016-01-23</td>\n",
       "      <td>2</td>\n",
       "      <td>2</td>\n",
       "      <td>1.0</td>\n",
       "      <td>1.0</td>\n",
       "      <td>7</td>\n",
       "      <td>4</td>\n",
       "      <td>30.860000</td>\n",
       "      <td>2</td>\n",
       "    </tr>\n",
       "    <tr>\n",
       "      <th>4</th>\n",
       "      <td>45812</td>\n",
       "      <td>3</td>\n",
       "      <td>4</td>\n",
       "      <td>2</td>\n",
       "      <td>2016-01-18</td>\n",
       "      <td>NaT</td>\n",
       "      <td>NaT</td>\n",
       "      <td>3</td>\n",
       "      <td>1</td>\n",
       "      <td>NaT</td>\n",
       "      <td>1</td>\n",
       "      <td>1</td>\n",
       "      <td>0.0</td>\n",
       "      <td>3.0</td>\n",
       "      <td>10</td>\n",
       "      <td>1</td>\n",
       "      <td>28.318877</td>\n",
       "      <td>1</td>\n",
       "    </tr>\n",
       "  </tbody>\n",
       "</table>\n",
       "</div>"
      ],
      "text/plain": [
       "      id  city_name  signup_os  signup_channel signup_date   bgc_date  \\\n",
       "0  42795          1          4               1  2016-01-23 2016-02-25   \n",
       "1  12767          2          3               1  2016-01-18        NaT   \n",
       "2  19141          2          4               1  2016-01-30        NaT   \n",
       "3  49638          2          3               1  2016-01-05 2016-01-07   \n",
       "4  45812          3          4               2  2016-01-18        NaT   \n",
       "\n",
       "  vehicle_added_date  vehicle_make  vehicle_model first_completed_date  \\\n",
       "0         2016-03-01            22             46                  NaT   \n",
       "1                NaT             3              1                  NaT   \n",
       "2                NaT             3              1                  NaT   \n",
       "3         2016-01-12            31             53           2016-01-23   \n",
       "4                NaT             3              1                  NaT   \n",
       "\n",
       "   bcg_checked  vehicle_added_date_available  target  vehicle_age  \\\n",
       "0            2                             2     0.0          0.0   \n",
       "1            1                             1     0.0          3.0   \n",
       "2            1                             1     0.0          3.0   \n",
       "3            2                             2     1.0          1.0   \n",
       "4            1                             1     0.0          3.0   \n",
       "\n",
       "   web_paid_interaction  origin        mpg  duplicated  \n",
       "0                     5       1  28.318877           2  \n",
       "1                     7       1  28.318877           1  \n",
       "2                     5       1  28.318877           1  \n",
       "3                     7       4  30.860000           2  \n",
       "4                    10       1  28.318877           1  "
      ]
     },
     "execution_count": 69,
     "metadata": {},
     "output_type": "execute_result"
    }
   ],
   "source": [
    "combined_data[0].head()"
   ]
  },
  {
   "cell_type": "code",
   "execution_count": 70,
   "metadata": {},
   "outputs": [],
   "source": [
    "categorical_features.append('vehicle_age')"
   ]
  },
  {
   "cell_type": "markdown",
   "metadata": {},
   "source": [
    "Let's see if our categorical features are statistically significant, and check their p-values."
   ]
  },
  {
   "cell_type": "code",
   "execution_count": 71,
   "metadata": {},
   "outputs": [],
   "source": [
    "def categorical_features_test(df, feature, target):\n",
    "    observed = pd.crosstab(df[target],df[feature])    \n",
    "    _, p, _, _ = chi2_contingency(observed)\n",
    "    if p<0.05:\n",
    "        significance = 'significant'\n",
    "    else:\n",
    "        significance = 'insignificant'     \n",
    "    print('*'*27+' Chi-Square test results!!!'+'*'*27)\n",
    "    print(\"The p-value for the correlation bwteern <\"+feature+\"> feature and target is {}.\".format(round(p,4)))\n",
    "    print(\"This dependance is statistically \"+significance+\"!\")\n",
    "    print('-'*80)"
   ]
  },
  {
   "cell_type": "code",
   "execution_count": 72,
   "metadata": {},
   "outputs": [
    {
     "name": "stdout",
     "output_type": "stream",
     "text": [
      "*************************** Chi-Square test results!!!***************************\n",
      "The p-value for the correlation bwteern <city_name> feature and target is 0.0.\n",
      "This dependance is statistically significant!\n",
      "--------------------------------------------------------------------------------\n",
      "*************************** Chi-Square test results!!!***************************\n",
      "The p-value for the correlation bwteern <signup_os> feature and target is 0.0.\n",
      "This dependance is statistically significant!\n",
      "--------------------------------------------------------------------------------\n",
      "*************************** Chi-Square test results!!!***************************\n",
      "The p-value for the correlation bwteern <signup_channel> feature and target is 0.0.\n",
      "This dependance is statistically significant!\n",
      "--------------------------------------------------------------------------------\n",
      "*************************** Chi-Square test results!!!***************************\n",
      "The p-value for the correlation bwteern <vehicle_make> feature and target is 0.0.\n",
      "This dependance is statistically significant!\n",
      "--------------------------------------------------------------------------------\n",
      "*************************** Chi-Square test results!!!***************************\n",
      "The p-value for the correlation bwteern <vehicle_model> feature and target is 0.0.\n",
      "This dependance is statistically significant!\n",
      "--------------------------------------------------------------------------------\n",
      "*************************** Chi-Square test results!!!***************************\n",
      "The p-value for the correlation bwteern <bcg_checked> feature and target is 0.0.\n",
      "This dependance is statistically significant!\n",
      "--------------------------------------------------------------------------------\n",
      "*************************** Chi-Square test results!!!***************************\n",
      "The p-value for the correlation bwteern <vehicle_added_date_available> feature and target is 0.0.\n",
      "This dependance is statistically significant!\n",
      "--------------------------------------------------------------------------------\n",
      "*************************** Chi-Square test results!!!***************************\n",
      "The p-value for the correlation bwteern <web_paid_interaction> feature and target is 0.0.\n",
      "This dependance is statistically significant!\n",
      "--------------------------------------------------------------------------------\n",
      "*************************** Chi-Square test results!!!***************************\n",
      "The p-value for the correlation bwteern <origin> feature and target is 0.0.\n",
      "This dependance is statistically significant!\n",
      "--------------------------------------------------------------------------------\n",
      "*************************** Chi-Square test results!!!***************************\n",
      "The p-value for the correlation bwteern <duplicated> feature and target is 0.0.\n",
      "This dependance is statistically significant!\n",
      "--------------------------------------------------------------------------------\n",
      "*************************** Chi-Square test results!!!***************************\n",
      "The p-value for the correlation bwteern <vehicle_age> feature and target is 0.0.\n",
      "This dependance is statistically significant!\n",
      "--------------------------------------------------------------------------------\n"
     ]
    }
   ],
   "source": [
    "for category in categorical_features:\n",
    "    categorical_features_test(combined_data[0], category, 'target')"
   ]
  },
  {
   "cell_type": "markdown",
   "metadata": {},
   "source": [
    "## 5-3- Time Series Features, and their Statistical Significance\n",
    "\n",
    "One very important part of this data is the fact that it is time-series. There are numerous features capable of be extracting from the time series data.\n",
    "\n",
    "We will consider the followings:\n",
    "    \n",
    "1- Day of the week (we saw in section 3-3 that the number of signup/activation decreases over the weekend and increases on Mondays)\n",
    "\n",
    "2- Time distance since new year in weeks (we see that there is a meaningful decay in the total number of registration/activation as we get further away from the new year)\n",
    "\n",
    "3- Time distance between signup and background check. We will fill the NAs in the background check with the last day of study. People who get their background check earlier might be faster in progressing to their driving.\n",
    "\n",
    "4- Time distance between signup and info updated.\n",
    "\n",
    "7- Yesterday backcast. What was yesterday number of successful driver activations.\n",
    "\n",
    "8- Late upload: whether the user uploaded his/her information after end of february.\n",
    "\n",
    "9- Late background: whether the user gave background permission after the end of february."
   ]
  },
  {
   "cell_type": "code",
   "execution_count": 73,
   "metadata": {},
   "outputs": [
    {
     "data": {
      "text/html": [
       "<div>\n",
       "<style scoped>\n",
       "    .dataframe tbody tr th:only-of-type {\n",
       "        vertical-align: middle;\n",
       "    }\n",
       "\n",
       "    .dataframe tbody tr th {\n",
       "        vertical-align: top;\n",
       "    }\n",
       "\n",
       "    .dataframe thead th {\n",
       "        text-align: right;\n",
       "    }\n",
       "</style>\n",
       "<table border=\"1\" class=\"dataframe\">\n",
       "  <thead>\n",
       "    <tr style=\"text-align: right;\">\n",
       "      <th></th>\n",
       "      <th>signup_date</th>\n",
       "      <th>bgc_date</th>\n",
       "      <th>vehicle_added_date</th>\n",
       "      <th>first_completed_date</th>\n",
       "    </tr>\n",
       "  </thead>\n",
       "  <tbody>\n",
       "    <tr>\n",
       "      <th>count</th>\n",
       "      <td>54677</td>\n",
       "      <td>32740</td>\n",
       "      <td>13130</td>\n",
       "      <td>6137</td>\n",
       "    </tr>\n",
       "    <tr>\n",
       "      <th>unique</th>\n",
       "      <td>30</td>\n",
       "      <td>74</td>\n",
       "      <td>78</td>\n",
       "      <td>57</td>\n",
       "    </tr>\n",
       "    <tr>\n",
       "      <th>top</th>\n",
       "      <td>2016-01-05 00:00:00</td>\n",
       "      <td>2016-01-29 00:00:00</td>\n",
       "      <td>2016-01-26 00:00:00</td>\n",
       "      <td>2016-01-23 00:00:00</td>\n",
       "    </tr>\n",
       "    <tr>\n",
       "      <th>freq</th>\n",
       "      <td>2489</td>\n",
       "      <td>1119</td>\n",
       "      <td>376</td>\n",
       "      <td>257</td>\n",
       "    </tr>\n",
       "    <tr>\n",
       "      <th>first</th>\n",
       "      <td>2016-01-01 00:00:00</td>\n",
       "      <td>2016-01-01 00:00:00</td>\n",
       "      <td>2016-01-01 00:00:00</td>\n",
       "      <td>2016-01-04 00:00:00</td>\n",
       "    </tr>\n",
       "    <tr>\n",
       "      <th>last</th>\n",
       "      <td>2016-01-30 00:00:00</td>\n",
       "      <td>2016-03-25 00:00:00</td>\n",
       "      <td>2016-03-26 00:00:00</td>\n",
       "      <td>2016-02-29 00:00:00</td>\n",
       "    </tr>\n",
       "  </tbody>\n",
       "</table>\n",
       "</div>"
      ],
      "text/plain": [
       "                signup_date             bgc_date   vehicle_added_date  \\\n",
       "count                 54677                32740                13130   \n",
       "unique                   30                   74                   78   \n",
       "top     2016-01-05 00:00:00  2016-01-29 00:00:00  2016-01-26 00:00:00   \n",
       "freq                   2489                 1119                  376   \n",
       "first   2016-01-01 00:00:00  2016-01-01 00:00:00  2016-01-01 00:00:00   \n",
       "last    2016-01-30 00:00:00  2016-03-25 00:00:00  2016-03-26 00:00:00   \n",
       "\n",
       "       first_completed_date  \n",
       "count                  6137  \n",
       "unique                   57  \n",
       "top     2016-01-23 00:00:00  \n",
       "freq                    257  \n",
       "first   2016-01-04 00:00:00  \n",
       "last    2016-02-29 00:00:00  "
      ]
     },
     "execution_count": 73,
     "metadata": {},
     "output_type": "execute_result"
    }
   ],
   "source": [
    "class_data[date_columns].describe()"
   ]
  },
  {
   "cell_type": "markdown",
   "metadata": {},
   "source": [
    "First we will check the day of the day of the week that the registration is performed."
   ]
  },
  {
   "cell_type": "code",
   "execution_count": 74,
   "metadata": {},
   "outputs": [],
   "source": [
    "for data_set in combined_data:\n",
    "    data_set['weekday'] = data_set['signup_date'].apply(lambda x:datetime.date(x).isoweekday())"
   ]
  },
  {
   "cell_type": "markdown",
   "metadata": {},
   "source": [
    "ISO weekday means that Monday is \"1\" and Sunday is \"7\". Lets see how the weekdays are distributed."
   ]
  },
  {
   "cell_type": "code",
   "execution_count": 75,
   "metadata": {},
   "outputs": [],
   "source": [
    "weekday_dict = {1:\"Monday\", 2:\"Tuesday\", 3:\"Wednesday\",4:\"Thursday\",5:\"Friday\",6:\"Saturday\", 7:\"Sunday\"}"
   ]
  },
  {
   "cell_type": "code",
   "execution_count": 76,
   "metadata": {},
   "outputs": [
    {
     "name": "stderr",
     "output_type": "stream",
     "text": [
      "c:\\programdata\\anaconda3\\lib\\site-packages\\ipykernel_launcher.py:2: SettingWithCopyWarning: \n",
      "A value is trying to be set on a copy of a slice from a DataFrame.\n",
      "Try using .loc[row_indexer,col_indexer] = value instead\n",
      "\n",
      "See the caveats in the documentation: http://pandas.pydata.org/pandas-docs/stable/indexing.html#indexing-view-versus-copy\n",
      "  \n"
     ]
    },
    {
     "data": {
      "text/html": [
       "<div>\n",
       "<style scoped>\n",
       "    .dataframe tbody tr th:only-of-type {\n",
       "        vertical-align: middle;\n",
       "    }\n",
       "\n",
       "    .dataframe tbody tr th {\n",
       "        vertical-align: top;\n",
       "    }\n",
       "\n",
       "    .dataframe thead th {\n",
       "        text-align: right;\n",
       "    }\n",
       "</style>\n",
       "<table border=\"1\" class=\"dataframe\">\n",
       "  <thead>\n",
       "    <tr style=\"text-align: right;\">\n",
       "      <th></th>\n",
       "      <th>target</th>\n",
       "    </tr>\n",
       "    <tr>\n",
       "      <th>weekday</th>\n",
       "      <th></th>\n",
       "    </tr>\n",
       "  </thead>\n",
       "  <tbody>\n",
       "    <tr>\n",
       "      <th>Sunday</th>\n",
       "      <td>0.090866</td>\n",
       "    </tr>\n",
       "    <tr>\n",
       "      <th>Friday</th>\n",
       "      <td>0.099494</td>\n",
       "    </tr>\n",
       "    <tr>\n",
       "      <th>Saturday</th>\n",
       "      <td>0.102531</td>\n",
       "    </tr>\n",
       "    <tr>\n",
       "      <th>Thursday</th>\n",
       "      <td>0.118458</td>\n",
       "    </tr>\n",
       "    <tr>\n",
       "      <th>Wednesday</th>\n",
       "      <td>0.121440</td>\n",
       "    </tr>\n",
       "    <tr>\n",
       "      <th>Monday</th>\n",
       "      <td>0.122304</td>\n",
       "    </tr>\n",
       "    <tr>\n",
       "      <th>Tuesday</th>\n",
       "      <td>0.127977</td>\n",
       "    </tr>\n",
       "  </tbody>\n",
       "</table>\n",
       "</div>"
      ],
      "text/plain": [
       "             target\n",
       "weekday            \n",
       "Sunday     0.090866\n",
       "Friday     0.099494\n",
       "Saturday   0.102531\n",
       "Thursday   0.118458\n",
       "Wednesday  0.121440\n",
       "Monday     0.122304\n",
       "Tuesday    0.127977"
      ]
     },
     "execution_count": 76,
     "metadata": {},
     "output_type": "execute_result"
    }
   ],
   "source": [
    "week_date_df = combined_data[0][['target', 'weekday']]\n",
    "week_date_df['weekday'] = week_date_df['weekday'].apply(lambda x:weekday_dict[x])\n",
    "week_date_df.groupby('weekday').mean().sort_values('target')"
   ]
  },
  {
   "cell_type": "markdown",
   "metadata": {},
   "source": [
    ">This validates our observation on the fact that the beginning of the week has higher acceptance while the weekend has lower.\n",
    "\n",
    "***Business insight:***\n",
    "\n",
    "**People who sign up during the week are more serious about finalizing their registration. This is specially true in case of people who register on Tuesday. On the other hand, on Sunday, people might only be playing around with their apps and have lower chance of progressing with their registration.**\n",
    "\n",
    "**People regisrating on Tuesday and Monday are better options for sending followup discounts and incentives.**\n",
    "\n",
    "**Moreover, we can send coupons and advertisement emails to the customers in the beginning of the week. This makes Uber more competitive on the days that customers are more prone to activate their accounts.**\n"
   ]
  },
  {
   "cell_type": "code",
   "execution_count": 77,
   "metadata": {},
   "outputs": [
    {
     "name": "stdout",
     "output_type": "stream",
     "text": [
      "*************************** Chi-Square test results!!!***************************\n",
      "The p-value for the correlation bwteern <weekday> feature and target is 0.0.\n",
      "This dependance is statistically significant!\n",
      "--------------------------------------------------------------------------------\n"
     ]
    }
   ],
   "source": [
    "categorical_features_test(combined_data[0], 'weekday', 'target')"
   ]
  },
  {
   "cell_type": "markdown",
   "metadata": {},
   "source": [
    "> We also see its statistical significance. We keep this data for future modelling. \n",
    "\n",
    "Let's move to the second extracted feature. Time distance since new year in weeks. Going back to figure from section 3-3, we saw that in general there is a meaningful drop in the beginning of the January in terms of target value. "
   ]
  },
  {
   "cell_type": "code",
   "execution_count": 78,
   "metadata": {},
   "outputs": [
    {
     "data": {
      "text/plain": [
       "<matplotlib.legend.Legend at 0x2aafc36d400>"
      ]
     },
     "execution_count": 78,
     "metadata": {},
     "output_type": "execute_result"
    },
    {
     "data": {
      "image/png": "[encoded data removed]",
      "text/plain": [
       "<matplotlib.figure.Figure at 0x2aafc31ee48>"
      ]
     },
     "metadata": {},
     "output_type": "display_data"
    }
   ],
   "source": [
    "success_mean_weekly = class_data.set_index('signup_date')['target'].resample('W').mean()\n",
    "plt.plot(success_mean_weekly.index,success_mean_weekly,color='green', linestyle='dashed', marker='o',\n",
    "         markerfacecolor='blue', markersize=12, label = 'week average respose')\n",
    "plt.ylabel('target value')\n",
    "plt.xlabel('Time of registrationt')\n",
    "plt.xticks(rotation = 60)\n",
    "plt.legend()"
   ]
  },
  {
   "cell_type": "markdown",
   "metadata": {},
   "source": [
    "We see that there is a meaningful drop in the response rate in the first three days of the observation. The reason could be explained by the holiday depression and the need that people feel to change their carreer. Therefore, I am thinking of creating a feature that captures this part of the data."
   ]
  },
  {
   "cell_type": "code",
   "execution_count": 79,
   "metadata": {},
   "outputs": [],
   "source": [
    "for data_set in combined_data:\n",
    "    data_set['early_jan'] = data_set['signup_date'].apply(lambda x:x.day).apply(lambda x: \"early\" if x<=1 else \"rest\")"
   ]
  },
  {
   "cell_type": "code",
   "execution_count": 80,
   "metadata": {},
   "outputs": [
    {
     "data": {
      "text/plain": [
       "early_jan\n",
       "early    0.058272\n",
       "rest     0.114371\n",
       "Name: target, dtype: float64"
      ]
     },
     "execution_count": 80,
     "metadata": {},
     "output_type": "execute_result"
    }
   ],
   "source": [
    "combined_data[0].groupby('early_jan')['target'].mean().sort_values()"
   ]
  },
  {
   "cell_type": "code",
   "execution_count": 81,
   "metadata": {},
   "outputs": [
    {
     "name": "stdout",
     "output_type": "stream",
     "text": [
      "*************************** Chi-Square test results!!!***************************\n",
      "The p-value for the correlation bwteern <early_jan> feature and target is 0.0.\n",
      "This dependance is statistically significant!\n",
      "--------------------------------------------------------------------------------\n"
     ]
    }
   ],
   "source": [
    "categorical_features_test(combined_data[0], 'early_jan', 'target')"
   ]
  },
  {
   "cell_type": "markdown",
   "metadata": {},
   "source": [
    ">We see this category is statistically insignificant and we need to drop it from our data sets."
   ]
  },
  {
   "cell_type": "markdown",
   "metadata": {},
   "source": [
    "Now let's see how the time difference between the signup date and the background check date affect the target. In other words, does it mean that people who performed their background eariler/later tend to have different behaviors.\n",
    "We will fill the NAs with today's day, which is ``2018-04-22``. If the background is checked more than 20 days from the registation we call it late, else we call it early."
   ]
  },
  {
   "cell_type": "code",
   "execution_count": 82,
   "metadata": {},
   "outputs": [],
   "source": [
    "def early_late(x):\n",
    "    if x <= 1:\n",
    "        return \"immediate\"\n",
    "    elif 1 < x <= 7:\n",
    "        return \"early\"\n",
    "    elif 7 < x <= 30 :\n",
    "        return \"marginal\"\n",
    "    else:\n",
    "        return \"late\"\n",
    "for data_set in combined_data:\n",
    "    data_set['bgc_date'] = data_set['bgc_date'].fillna(pd.to_datetime('2018-04-22'))\n",
    "    data_set['background_interval'] = (data_set['bgc_date'] - data_set['signup_date']).astype('timedelta64[D]').astype(\n",
    "        int).apply(early_late)"
   ]
  },
  {
   "cell_type": "code",
   "execution_count": 83,
   "metadata": {},
   "outputs": [
    {
     "data": {
      "text/plain": [
       "background_interval\n",
       "late         0.006140\n",
       "marginal     0.057032\n",
       "early        0.224517\n",
       "immediate    0.390535\n",
       "Name: target, dtype: float64"
      ]
     },
     "execution_count": 83,
     "metadata": {},
     "output_type": "execute_result"
    }
   ],
   "source": [
    "combined_data[0].groupby('background_interval')['target'].mean().sort_values()"
   ]
  },
  {
   "cell_type": "markdown",
   "metadata": {},
   "source": [
    "We see that early background checks tend to be much more repsponsive to the registration.\n",
    "\n",
    "**Business Insight:\n",
    "People who permit their background check in the first day are 4 times as probable as the whole popuation on becoming an Uber driver. It is imperative to put large amount of incentive and advertisement to the first day registrator to finish their background checks. Moreover, if Uber can experdite the background check process, it is highly recommended to do so.**"
   ]
  },
  {
   "cell_type": "code",
   "execution_count": 84,
   "metadata": {},
   "outputs": [
    {
     "name": "stdout",
     "output_type": "stream",
     "text": [
      "*************************** Chi-Square test results!!!***************************\n",
      "The p-value for the correlation bwteern <background_interval> feature and target is 0.0.\n",
      "This dependance is statistically significant!\n",
      "--------------------------------------------------------------------------------\n"
     ]
    }
   ],
   "source": [
    "categorical_features_test(combined_data[0], 'background_interval', 'target')"
   ]
  },
  {
   "cell_type": "markdown",
   "metadata": {},
   "source": [
    "We perform a very similar analysis on the time that the data is uploaded by the driver."
   ]
  },
  {
   "cell_type": "code",
   "execution_count": 85,
   "metadata": {},
   "outputs": [],
   "source": [
    "for data_set in combined_data:\n",
    "    data_set['vehicle_added_date'] = data_set['vehicle_added_date'].fillna(pd.to_datetime('2018-04-22'))\n",
    "    data_set['upload_interval'] = (data_set['vehicle_added_date'] - data_set['signup_date']).astype('timedelta64[D]').astype(\n",
    "        int).apply(early_late)"
   ]
  },
  {
   "cell_type": "code",
   "execution_count": 86,
   "metadata": {},
   "outputs": [
    {
     "data": {
      "text/plain": [
       "upload_interval\n",
       "late         0.006213\n",
       "marginal     0.317913\n",
       "early        0.728743\n",
       "immediate    0.814723\n",
       "Name: target, dtype: float64"
      ]
     },
     "execution_count": 86,
     "metadata": {},
     "output_type": "execute_result"
    }
   ],
   "source": [
    "combined_data[0].groupby('upload_interval')['target'].mean().sort_values()"
   ]
  },
  {
   "cell_type": "code",
   "execution_count": 87,
   "metadata": {},
   "outputs": [
    {
     "name": "stdout",
     "output_type": "stream",
     "text": [
      "*************************** Chi-Square test results!!!***************************\n",
      "The p-value for the correlation bwteern <upload_interval> feature and target is 0.0.\n",
      "This dependance is statistically significant!\n",
      "--------------------------------------------------------------------------------\n"
     ]
    }
   ],
   "source": [
    "categorical_features_test(combined_data[0], 'upload_interval', 'target')"
   ]
  },
  {
   "cell_type": "markdown",
   "metadata": {},
   "source": [
    ">This is an amazing addition to the feature set. If the driver immediately upload their information, they have up to 80% chance of becoming uber drivers. This is the first feature that captures 80% of the driver class.\n",
    "\n",
    "> ***Business insight:***\n",
    "> ***In Uber, we need to assure that the costumers follow up their signup with uploading their documents. Apparently, not uploading them is the top barrier for customer following their registration. We might also be able to provide paralle requirements for documents, so that if the driver doesn't have one type of identification accessible, he/she can use another one.***\n",
    "\n",
    "Now that I see such a response when it comes to upload interval and background interval, I was wondering how the interations of these two variable can help us? If you check your background and upload your data early, does it mean you will become an Uber driver? Let's check."
   ]
  },
  {
   "cell_type": "code",
   "execution_count": 88,
   "metadata": {},
   "outputs": [
    {
     "data": {
      "text/plain": [
       "background_upload_interaction\n",
       "early_marginal         0.000000\n",
       "immediate_early        0.000000\n",
       "immediate_marginal     0.000000\n",
       "immediate_immediate    0.093178\n",
       "marginal_early         0.100313\n",
       "late_late              0.106350\n",
       "late_marginal          0.109421\n",
       "late_early             0.109503\n",
       "marginal_marginal      0.112773\n",
       "missing                0.113131\n",
       "late_immediate         0.123894\n",
       "marginal_late          0.126984\n",
       "early_early            0.131988\n",
       "early_immediate        0.152083\n",
       "marginal_immediate     0.159483\n",
       "early_late             0.166667\n",
       "immediate_late         0.375000\n",
       "Name: target, dtype: float64"
      ]
     },
     "execution_count": 88,
     "metadata": {},
     "output_type": "execute_result"
    }
   ],
   "source": [
    "for dataset in combined_data:\n",
    "    dataset['background_upload_interaction'] = data_set['upload_interval']+\"_\"+data_set['background_interval']\n",
    "    dataset['background_upload_interaction'].fillna('missing', inplace=True)\n",
    "combined_data[0].groupby('background_upload_interaction')['target'].mean().sort_values()"
   ]
  },
  {
   "cell_type": "code",
   "execution_count": 89,
   "metadata": {},
   "outputs": [
    {
     "name": "stdout",
     "output_type": "stream",
     "text": [
      "*************************** Chi-Square test results!!!***************************\n",
      "The p-value for the correlation bwteern <background_upload_interaction> feature and target is 0.0085.\n",
      "This dependance is statistically significant!\n",
      "--------------------------------------------------------------------------------\n"
     ]
    }
   ],
   "source": [
    "categorical_features_test(combined_data[0], 'background_upload_interaction', 'target')"
   ]
  },
  {
   "cell_type": "markdown",
   "metadata": {},
   "source": [
    ">Although such interaction is already included in the tree based techniques, it is nice to have such fature especially for the linear models.\n",
    "\n",
    "We noticed that in general there is a meaningful pattern in daily average of target. Therefore, we might be able to use yesterday's target mean as the mimicker of todays probablity. Let's see if there is any significance on it. By this we mean, if the target ratio is lower than average yesterday, can we see it affects todays target ratio?"
   ]
  },
  {
   "cell_type": "code",
   "execution_count": 90,
   "metadata": {},
   "outputs": [],
   "source": [
    "daily_target_mean = combined_data[0][['signup_date','target']].groupby('signup_date').mean().reset_index()"
   ]
  },
  {
   "cell_type": "markdown",
   "metadata": {},
   "source": [
    "Now, we need to extract yesterday mean target from this data. For that, we simply move the date to tomorrows date. We also forward fill the first day."
   ]
  },
  {
   "cell_type": "code",
   "execution_count": 91,
   "metadata": {},
   "outputs": [],
   "source": [
    "daily_target_mean['signup_date'] = daily_target_mean['signup_date']+timedelta(days=1)\n",
    "columns = daily_target_mean.columns.values"
   ]
  },
  {
   "cell_type": "code",
   "execution_count": 92,
   "metadata": {},
   "outputs": [],
   "source": [
    "january_first = daily_target_mean.set_index('signup_date').loc['2016-01-02']\n",
    "jan_first_val = january_first[0]\n",
    "jan_first_day = pd.to_datetime('2016-01-01')"
   ]
  },
  {
   "cell_type": "code",
   "execution_count": 93,
   "metadata": {},
   "outputs": [],
   "source": [
    "january_first_df = pd.DataFrame({\"signup_date\":jan_first_day,\"target\":jan_first_val}, index=[30])\n",
    "daily_target_mean = daily_target_mean.append(january_first_df)\n",
    "daily_target_mean.columns = ['signup_date', 'yesterday_target']"
   ]
  },
  {
   "cell_type": "code",
   "execution_count": 94,
   "metadata": {},
   "outputs": [
    {
     "data": {
      "text/html": [
       "<div>\n",
       "<style scoped>\n",
       "    .dataframe tbody tr th:only-of-type {\n",
       "        vertical-align: middle;\n",
       "    }\n",
       "\n",
       "    .dataframe tbody tr th {\n",
       "        vertical-align: top;\n",
       "    }\n",
       "\n",
       "    .dataframe thead th {\n",
       "        text-align: right;\n",
       "    }\n",
       "</style>\n",
       "<table border=\"1\" class=\"dataframe\">\n",
       "  <thead>\n",
       "    <tr style=\"text-align: right;\">\n",
       "      <th></th>\n",
       "      <th>signup_date</th>\n",
       "      <th>yesterday_target</th>\n",
       "    </tr>\n",
       "  </thead>\n",
       "  <tbody>\n",
       "    <tr>\n",
       "      <th>0</th>\n",
       "      <td>2016-01-02</td>\n",
       "      <td>0.058272</td>\n",
       "    </tr>\n",
       "    <tr>\n",
       "      <th>1</th>\n",
       "      <td>2016-01-03</td>\n",
       "      <td>0.097561</td>\n",
       "    </tr>\n",
       "    <tr>\n",
       "      <th>2</th>\n",
       "      <td>2016-01-04</td>\n",
       "      <td>0.103421</td>\n",
       "    </tr>\n",
       "    <tr>\n",
       "      <th>3</th>\n",
       "      <td>2016-01-05</td>\n",
       "      <td>0.131868</td>\n",
       "    </tr>\n",
       "    <tr>\n",
       "      <th>4</th>\n",
       "      <td>2016-01-06</td>\n",
       "      <td>0.134954</td>\n",
       "    </tr>\n",
       "  </tbody>\n",
       "</table>\n",
       "</div>"
      ],
      "text/plain": [
       "  signup_date  yesterday_target\n",
       "0  2016-01-02          0.058272\n",
       "1  2016-01-03          0.097561\n",
       "2  2016-01-04          0.103421\n",
       "3  2016-01-05          0.131868\n",
       "4  2016-01-06          0.134954"
      ]
     },
     "execution_count": 94,
     "metadata": {},
     "output_type": "execute_result"
    }
   ],
   "source": [
    "daily_target_mean.head()"
   ]
  },
  {
   "cell_type": "code",
   "execution_count": 95,
   "metadata": {},
   "outputs": [],
   "source": [
    "combined_data[0] = combined_data[0].merge(daily_target_mean, on = 'signup_date', how='left')\n",
    "combined_data[1] = combined_data[1].merge(daily_target_mean, on = 'signup_date', how='left')"
   ]
  },
  {
   "cell_type": "code",
   "execution_count": 96,
   "metadata": {},
   "outputs": [
    {
     "data": {
      "text/plain": [
       "target\n",
       "0.0    0.109635\n",
       "1.0    0.111738\n",
       "Name: yesterday_target, dtype: float64"
      ]
     },
     "execution_count": 96,
     "metadata": {},
     "output_type": "execute_result"
    }
   ],
   "source": [
    "combined_data[0].groupby('target')['yesterday_target'].mean().sort_values()"
   ]
  },
  {
   "cell_type": "code",
   "execution_count": 97,
   "metadata": {},
   "outputs": [
    {
     "name": "stdout",
     "output_type": "stream",
     "text": [
      "*************************** Chi-Square test results!!!***************************\n",
      "The p-value for the correlation bwteern <target> feature and target is 0.0.\n",
      "This dependance is statistically significant!\n",
      "--------------------------------------------------------------------------------\n"
     ]
    }
   ],
   "source": [
    "categorical_features_test(combined_data[0], 'target', 'yesterday_target')"
   ]
  },
  {
   "cell_type": "markdown",
   "metadata": {},
   "source": [
    "> Although there is not much of a differece in target class based on the mean target value, we still keep the column as it is statistically significant.\n",
    "\n",
    "We previously noticed that none of the drivers who submitted their background consent or uploaded their data actually become an Uber driver. These could be interesing featuers we can use. Let's first develop ``late_background``."
   ]
  },
  {
   "cell_type": "code",
   "execution_count": 98,
   "metadata": {},
   "outputs": [
    {
     "data": {
      "text/html": [
       "<div>\n",
       "<style scoped>\n",
       "    .dataframe tbody tr th:only-of-type {\n",
       "        vertical-align: middle;\n",
       "    }\n",
       "\n",
       "    .dataframe tbody tr th {\n",
       "        vertical-align: top;\n",
       "    }\n",
       "\n",
       "    .dataframe thead th {\n",
       "        text-align: right;\n",
       "    }\n",
       "</style>\n",
       "<table border=\"1\" class=\"dataframe\">\n",
       "  <thead>\n",
       "    <tr style=\"text-align: right;\">\n",
       "      <th></th>\n",
       "      <th>id</th>\n",
       "      <th>city_name</th>\n",
       "      <th>signup_os</th>\n",
       "      <th>signup_channel</th>\n",
       "      <th>signup_date</th>\n",
       "      <th>bgc_date</th>\n",
       "      <th>vehicle_added_date</th>\n",
       "      <th>vehicle_make</th>\n",
       "      <th>vehicle_model</th>\n",
       "      <th>first_completed_date</th>\n",
       "      <th>...</th>\n",
       "      <th>mpg</th>\n",
       "      <th>duplicated</th>\n",
       "      <th>weekday</th>\n",
       "      <th>early_jan</th>\n",
       "      <th>background_interval</th>\n",
       "      <th>upload_interval</th>\n",
       "      <th>background_upload_interaction</th>\n",
       "      <th>yesterday_target</th>\n",
       "      <th>late_background</th>\n",
       "      <th>late_upload</th>\n",
       "    </tr>\n",
       "  </thead>\n",
       "  <tbody>\n",
       "    <tr>\n",
       "      <th>0</th>\n",
       "      <td>42795</td>\n",
       "      <td>1</td>\n",
       "      <td>4</td>\n",
       "      <td>1</td>\n",
       "      <td>2016-01-23</td>\n",
       "      <td>2016-02-25</td>\n",
       "      <td>2016-03-01</td>\n",
       "      <td>22</td>\n",
       "      <td>46</td>\n",
       "      <td>NaT</td>\n",
       "      <td>...</td>\n",
       "      <td>28.318877</td>\n",
       "      <td>2</td>\n",
       "      <td>6</td>\n",
       "      <td>rest</td>\n",
       "      <td>late</td>\n",
       "      <td>late</td>\n",
       "      <td>late_late</td>\n",
       "      <td>0.111888</td>\n",
       "      <td>ontime</td>\n",
       "      <td>late</td>\n",
       "    </tr>\n",
       "    <tr>\n",
       "      <th>1</th>\n",
       "      <td>12767</td>\n",
       "      <td>2</td>\n",
       "      <td>3</td>\n",
       "      <td>1</td>\n",
       "      <td>2016-01-18</td>\n",
       "      <td>2018-04-22</td>\n",
       "      <td>2018-04-22</td>\n",
       "      <td>3</td>\n",
       "      <td>1</td>\n",
       "      <td>NaT</td>\n",
       "      <td>...</td>\n",
       "      <td>28.318877</td>\n",
       "      <td>1</td>\n",
       "      <td>1</td>\n",
       "      <td>rest</td>\n",
       "      <td>late</td>\n",
       "      <td>late</td>\n",
       "      <td>late_marginal</td>\n",
       "      <td>0.094382</td>\n",
       "      <td>missing</td>\n",
       "      <td>missing</td>\n",
       "    </tr>\n",
       "    <tr>\n",
       "      <th>2</th>\n",
       "      <td>19141</td>\n",
       "      <td>2</td>\n",
       "      <td>4</td>\n",
       "      <td>1</td>\n",
       "      <td>2016-01-30</td>\n",
       "      <td>2018-04-22</td>\n",
       "      <td>2018-04-22</td>\n",
       "      <td>3</td>\n",
       "      <td>1</td>\n",
       "      <td>NaT</td>\n",
       "      <td>...</td>\n",
       "      <td>28.318877</td>\n",
       "      <td>1</td>\n",
       "      <td>6</td>\n",
       "      <td>rest</td>\n",
       "      <td>late</td>\n",
       "      <td>late</td>\n",
       "      <td>late_late</td>\n",
       "      <td>0.110806</td>\n",
       "      <td>missing</td>\n",
       "      <td>missing</td>\n",
       "    </tr>\n",
       "    <tr>\n",
       "      <th>3</th>\n",
       "      <td>49638</td>\n",
       "      <td>2</td>\n",
       "      <td>3</td>\n",
       "      <td>1</td>\n",
       "      <td>2016-01-05</td>\n",
       "      <td>2016-01-07</td>\n",
       "      <td>2016-01-12</td>\n",
       "      <td>31</td>\n",
       "      <td>53</td>\n",
       "      <td>2016-01-23</td>\n",
       "      <td>...</td>\n",
       "      <td>30.860000</td>\n",
       "      <td>2</td>\n",
       "      <td>2</td>\n",
       "      <td>rest</td>\n",
       "      <td>early</td>\n",
       "      <td>early</td>\n",
       "      <td>late_marginal</td>\n",
       "      <td>0.131868</td>\n",
       "      <td>ontime</td>\n",
       "      <td>ontime</td>\n",
       "    </tr>\n",
       "    <tr>\n",
       "      <th>4</th>\n",
       "      <td>45812</td>\n",
       "      <td>3</td>\n",
       "      <td>4</td>\n",
       "      <td>2</td>\n",
       "      <td>2016-01-18</td>\n",
       "      <td>2018-04-22</td>\n",
       "      <td>2018-04-22</td>\n",
       "      <td>3</td>\n",
       "      <td>1</td>\n",
       "      <td>NaT</td>\n",
       "      <td>...</td>\n",
       "      <td>28.318877</td>\n",
       "      <td>1</td>\n",
       "      <td>1</td>\n",
       "      <td>rest</td>\n",
       "      <td>late</td>\n",
       "      <td>late</td>\n",
       "      <td>early_early</td>\n",
       "      <td>0.094382</td>\n",
       "      <td>missing</td>\n",
       "      <td>missing</td>\n",
       "    </tr>\n",
       "  </tbody>\n",
       "</table>\n",
       "<p>5 rows × 26 columns</p>\n",
       "</div>"
      ],
      "text/plain": [
       "      id  city_name  signup_os  signup_channel signup_date   bgc_date  \\\n",
       "0  42795          1          4               1  2016-01-23 2016-02-25   \n",
       "1  12767          2          3               1  2016-01-18 2018-04-22   \n",
       "2  19141          2          4               1  2016-01-30 2018-04-22   \n",
       "3  49638          2          3               1  2016-01-05 2016-01-07   \n",
       "4  45812          3          4               2  2016-01-18 2018-04-22   \n",
       "\n",
       "  vehicle_added_date  vehicle_make  vehicle_model first_completed_date  \\\n",
       "0         2016-03-01            22             46                  NaT   \n",
       "1         2018-04-22             3              1                  NaT   \n",
       "2         2018-04-22             3              1                  NaT   \n",
       "3         2016-01-12            31             53           2016-01-23   \n",
       "4         2018-04-22             3              1                  NaT   \n",
       "\n",
       "      ...            mpg  duplicated  weekday  early_jan  background_interval  \\\n",
       "0     ...      28.318877           2        6       rest                 late   \n",
       "1     ...      28.318877           1        1       rest                 late   \n",
       "2     ...      28.318877           1        6       rest                 late   \n",
       "3     ...      30.860000           2        2       rest                early   \n",
       "4     ...      28.318877           1        1       rest                 late   \n",
       "\n",
       "   upload_interval  background_upload_interaction  yesterday_target  \\\n",
       "0             late                      late_late          0.111888   \n",
       "1             late                  late_marginal          0.094382   \n",
       "2             late                      late_late          0.110806   \n",
       "3            early                  late_marginal          0.131868   \n",
       "4             late                    early_early          0.094382   \n",
       "\n",
       "   late_background late_upload  \n",
       "0           ontime        late  \n",
       "1          missing     missing  \n",
       "2          missing     missing  \n",
       "3           ontime      ontime  \n",
       "4          missing     missing  \n",
       "\n",
       "[5 rows x 26 columns]"
      ]
     },
     "execution_count": 98,
     "metadata": {},
     "output_type": "execute_result"
    }
   ],
   "source": [
    "def late_checker(x):\n",
    "    if x == pd.to_datetime(\"2018-04-22\"): # filling NAs with a time stamp not in our data\n",
    "        return \"missing\"\n",
    "    else:\n",
    "        if x > pd.to_datetime(\"2016-02-29\"):\n",
    "            return \"late\"\n",
    "        else:\n",
    "            return \"ontime\"\n",
    "for data_set in combined_data:\n",
    "    data_set['late_background'] = data_set['bgc_date'].apply(late_checker)\n",
    "    data_set['late_upload'] = data_set['vehicle_added_date'].apply(late_checker)\n",
    "    \n",
    "combined_data[0].head()"
   ]
  },
  {
   "cell_type": "code",
   "execution_count": 99,
   "metadata": {},
   "outputs": [
    {
     "data": {
      "text/plain": [
       "late_background\n",
       "missing    0.006473\n",
       "late       0.031250\n",
       "ontime     0.182905\n",
       "Name: target, dtype: float64"
      ]
     },
     "execution_count": 99,
     "metadata": {},
     "output_type": "execute_result"
    }
   ],
   "source": [
    "combined_data[0].groupby('late_background')['target'].mean().sort_values()"
   ]
  },
  {
   "cell_type": "code",
   "execution_count": 100,
   "metadata": {},
   "outputs": [
    {
     "data": {
      "text/plain": [
       "late_upload\n",
       "missing    0.006330\n",
       "late       0.064516\n",
       "ontime     0.446516\n",
       "Name: target, dtype: float64"
      ]
     },
     "execution_count": 100,
     "metadata": {},
     "output_type": "execute_result"
    }
   ],
   "source": [
    "combined_data[0].groupby('late_upload')['target'].mean().sort_values()"
   ]
  },
  {
   "cell_type": "code",
   "execution_count": 101,
   "metadata": {},
   "outputs": [
    {
     "name": "stdout",
     "output_type": "stream",
     "text": [
      "*************************** Chi-Square test results!!!***************************\n",
      "The p-value for the correlation bwteern <late_background> feature and target is 0.0.\n",
      "This dependance is statistically significant!\n",
      "--------------------------------------------------------------------------------\n",
      "*************************** Chi-Square test results!!!***************************\n",
      "The p-value for the correlation bwteern <late_upload> feature and target is 0.0.\n",
      "This dependance is statistically significant!\n",
      "--------------------------------------------------------------------------------\n"
     ]
    }
   ],
   "source": [
    "categorical_features_test(combined_data[0], 'late_background', 'target')\n",
    "categorical_features_test(combined_data[0], 'late_upload', 'target')"
   ]
  },
  {
   "cell_type": "markdown",
   "metadata": {},
   "source": [
    "> These two values features seem to be meaningful. We keep them for our final mode.\n",
    "\n",
    "Let's drop the existing time-series variables, since the models cant understand them. Moreover, let's perform mean encoding for the faetures that we just created. The features are ``weekday``, ``background_interval``, ``upload_interval``, ``background_upload_interaction``, ``early_jan``, ``late_upload``, ``late_background``."
   ]
  },
  {
   "cell_type": "code",
   "execution_count": 102,
   "metadata": {},
   "outputs": [],
   "source": [
    "for data_set in combined_data:\n",
    "    data_set.drop(inplace=True, axis=1, columns=date_columns)"
   ]
  },
  {
   "cell_type": "code",
   "execution_count": 103,
   "metadata": {},
   "outputs": [],
   "source": [
    "time_series_faetures = ['late_upload','late_background','weekday', 'background_interval','upload_interval','background_upload_interaction','early_jan']"
   ]
  },
  {
   "cell_type": "code",
   "execution_count": 104,
   "metadata": {},
   "outputs": [],
   "source": [
    "df1 = combined_data[0]\n",
    "df2 = combined_data[1]\n",
    "target = 'target'\n",
    "\n",
    "for category in time_series_faetures:\n",
    "    cat_dict = dict(df1.groupby(category)[target].mean())\n",
    "    i = 1\n",
    "    for key, value in sorted(cat_dict.items(), key = lambda x: x[1]):\n",
    "        cat_dict[key] = i\n",
    "        i += 1\n",
    "    df1[category] = df1[category].apply(lambda x: cat_dict[x])\n",
    "    df2[category] = df2[category].apply(lambda x: np.random.randint(i) if x not in cat_dict.keys() else cat_dict[x])"
   ]
  },
  {
   "cell_type": "code",
   "execution_count": 105,
   "metadata": {},
   "outputs": [
    {
     "name": "stdout",
     "output_type": "stream",
     "text": [
      "*************************** Chi-Square test results!!!***************************\n",
      "The p-value for the correlation bwteern <late_upload> feature and target is 0.0.\n",
      "This dependance is statistically significant!\n",
      "--------------------------------------------------------------------------------\n",
      "*************************** Chi-Square test results!!!***************************\n",
      "The p-value for the correlation bwteern <late_background> feature and target is 0.0.\n",
      "This dependance is statistically significant!\n",
      "--------------------------------------------------------------------------------\n",
      "*************************** Chi-Square test results!!!***************************\n",
      "The p-value for the correlation bwteern <weekday> feature and target is 0.0.\n",
      "This dependance is statistically significant!\n",
      "--------------------------------------------------------------------------------\n",
      "*************************** Chi-Square test results!!!***************************\n",
      "The p-value for the correlation bwteern <background_interval> feature and target is 0.0.\n",
      "This dependance is statistically significant!\n",
      "--------------------------------------------------------------------------------\n",
      "*************************** Chi-Square test results!!!***************************\n",
      "The p-value for the correlation bwteern <upload_interval> feature and target is 0.0.\n",
      "This dependance is statistically significant!\n",
      "--------------------------------------------------------------------------------\n",
      "*************************** Chi-Square test results!!!***************************\n",
      "The p-value for the correlation bwteern <background_upload_interaction> feature and target is 0.0085.\n",
      "This dependance is statistically significant!\n",
      "--------------------------------------------------------------------------------\n",
      "*************************** Chi-Square test results!!!***************************\n",
      "The p-value for the correlation bwteern <early_jan> feature and target is 0.0.\n",
      "This dependance is statistically significant!\n",
      "--------------------------------------------------------------------------------\n"
     ]
    }
   ],
   "source": [
    "for category in time_series_faetures:\n",
    "    categorical_features_test(combined_data[0], category, 'target')"
   ]
  },
  {
   "cell_type": "markdown",
   "metadata": {},
   "source": [
    "## 5-4- Model Preprocessing\n",
    "\n",
    "We now would like to perform standard sacaler. The reason is that the non-tree base techniques (such as KNN, ANN, linear regression) calculate some form of distance from variables which emphasizes features with larger scales. We perform standard scaling. What this does is to calculate the mean and standard deviation on each feature in training set, e.g., $\\mu$ for mean, and $\\sigma$ for standard deviation. This is performed only on training dataset. Then all values in train and test data set are mapped using the following function to standard normal distribution: $$ x_{new} = \\frac{X_{old}-\\mu}{\\sigma}$$"
   ]
  },
  {
   "cell_type": "code",
   "execution_count": 106,
   "metadata": {},
   "outputs": [],
   "source": [
    "for dataset in combined_data:\n",
    "    dataset.set_index(\"id\",inplace=True)"
   ]
  },
  {
   "cell_type": "code",
   "execution_count": 107,
   "metadata": {},
   "outputs": [],
   "source": [
    "X_train = combined_data[0].drop(columns='target',axis=1)\n",
    "y_train = combined_data[0].target\n",
    "\n",
    "X_test = combined_data[1].drop(columns='target',axis=1)\n",
    "y_test = combined_data[1].target\n",
    "\n",
    "columns = X_train.columns.values\n",
    "index_train = X_train.index.values\n",
    "index_test = X_test.index.values"
   ]
  },
  {
   "cell_type": "code",
   "execution_count": 108,
   "metadata": {},
   "outputs": [],
   "source": [
    "scaler = StandardScaler()\n",
    "scaler.fit(X_train)\n",
    "X_train = pd.DataFrame(scaler.transform(X_train),index=index_train, columns=columns)\n",
    "X_test = pd.DataFrame(scaler.transform(X_test),index=index_test, columns=columns)"
   ]
  },
  {
   "cell_type": "markdown",
   "metadata": {},
   "source": [
    "I like to keep the train and test data as a seperate csv file for later use."
   ]
  },
  {
   "cell_type": "code",
   "execution_count": 109,
   "metadata": {},
   "outputs": [],
   "source": [
    "X_train.reset_index().to_csv(\"X_train.csv\")\n",
    "X_test.reset_index().to_csv(\"X_test.csv\")\n",
    "y_train.reset_index().to_csv(\"y_train.csv\")\n",
    "y_test.reset_index().to_csv(\"y_test.csv\")"
   ]
  },
  {
   "cell_type": "markdown",
   "metadata": {},
   "source": [
    "## 5-5- Feature Importance and Feature Selection\n",
    "\n",
    "We have generated several features. We need to quickly see if they are all important, and which one is more important. If some features don't carry any information we can drop them to have less complex model that is prone less to overfitting.\n",
    "\n",
    "Let's first see how much of variance explained with features and if we can keep less of them. Before that, we will standard scale the data to have smoother looking PCA."
   ]
  },
  {
   "cell_type": "code",
   "execution_count": 110,
   "metadata": {},
   "outputs": [
    {
     "data": {
      "text/plain": [
       "Text(0,0.5,'Explained Variance (%)')"
      ]
     },
     "execution_count": 110,
     "metadata": {},
     "output_type": "execute_result"
    },
    {
     "data": {
      "image/png": "[encoded data removed]",
      "text/plain": [
       "<matplotlib.figure.Figure at 0x2aafc359ba8>"
      ]
     },
     "metadata": {},
     "output_type": "display_data"
    }
   ],
   "source": [
    "pca = PCA()\n",
    "pca.fit(X_train) # fitting PCA on train data\n",
    "var = pca.explained_variance_ratio_ # amount of variance that each feature explains\n",
    "cummulative_explained_variance = np.cumsum(np.round(pca.explained_variance_ratio_, decimals=4)*100)\n",
    "plt.plot(cummulative_explained_variance, color='brown', linestyle='dashed', marker='o',\n",
    "         markerfacecolor='green', markersize=12)\n",
    "plt.xlabel('Number of Principal Components')\n",
    "plt.ylabel('Explained Variance (%)')"
   ]
  },
  {
   "cell_type": "markdown",
   "metadata": {},
   "source": [
    ">Looking at this figure, we see that all, except the last three features, of our features are required to explain the whole variance in the feature set. This is a very good news, as features tend to capture different part of the variance and therefore, we can rely on their non-redunduncy. \n",
    "Therefore, there is no need for feature removal. We assure enough regularization for each model so that none of the models are impacted by the less informative features.\n",
    "\n",
    "Let's fit a random forest and quickly check which one of our features are more informative. This will direct our attention to the part of the feature set that carries discriminative information."
   ]
  },
  {
   "cell_type": "code",
   "execution_count": 111,
   "metadata": {},
   "outputs": [
    {
     "name": "stdout",
     "output_type": "stream",
     "text": [
      "Feature ranking:\n",
      "1. feature 15 (0.341729)\n",
      "upload_interval\n",
      "\n",
      "2. feature 19 (0.163373)\n",
      "late_upload\n",
      "\n",
      "3. feature 6 (0.146313)\n",
      "vehicle_added_date_available\n",
      "\n",
      "4. feature 14 (0.093182)\n",
      "background_interval\n",
      "\n",
      "5. feature 7 (0.060719)\n",
      "vehicle_age\n",
      "\n",
      "6. feature 4 (0.053970)\n",
      "vehicle_model\n",
      "\n",
      "7. feature 3 (0.052433)\n",
      "vehicle_make\n",
      "\n",
      "8. feature 9 (0.049060)\n",
      "origin\n",
      "\n",
      "9. feature 8 (0.010352)\n",
      "web_paid_interaction\n",
      "\n",
      "10. feature 11 (0.008660)\n",
      "duplicated\n",
      "\n",
      "11. feature 2 (0.006892)\n",
      "signup_channel\n",
      "\n",
      "12. feature 18 (0.003399)\n",
      "late_background\n",
      "\n",
      "13. feature 5 (0.003014)\n",
      "bcg_checked\n",
      "\n",
      "14. feature 1 (0.002935)\n",
      "signup_os\n",
      "\n",
      "15. feature 10 (0.002336)\n",
      "mpg\n",
      "\n",
      "16. feature 0 (0.000526)\n",
      "city_name\n",
      "\n",
      "17. feature 12 (0.000488)\n",
      "weekday\n",
      "\n",
      "18. feature 17 (0.000409)\n",
      "yesterday_target\n",
      "\n",
      "19. feature 16 (0.000201)\n",
      "background_upload_interaction\n",
      "\n",
      "20. feature 13 (0.000008)\n",
      "early_jan\n",
      "\n"
     ]
    },
    {
     "data": {
      "image/png": "[encoded data removed]",
      "text/plain": [
       "<matplotlib.figure.Figure at 0x2aa815eaf98>"
      ]
     },
     "metadata": {},
     "output_type": "display_data"
    }
   ],
   "source": [
    "forest = ExtraTreesClassifier(n_estimators=2000,random_state=0, min_samples_leaf=100, max_features=5)\n",
    "features = X_train.columns.values\n",
    "X = X_train\n",
    "y = y_train\n",
    "forest.fit(X, y)\n",
    "importances = forest.feature_importances_\n",
    "std = np.std([tree.feature_importances_ for tree in forest.estimators_],\n",
    "             axis=0)\n",
    "indices = np.argsort(importances)[::-1]\n",
    "\n",
    "# Print the feature ranking\n",
    "print(\"Feature ranking:\")\n",
    "\n",
    "for f in range(X.shape[1]):\n",
    "    print(\"%d. feature %d (%f)\" % (f + 1, indices[f], importances[indices[f]]))\n",
    "    print(features[indices[f]]+\"\\n\")\n",
    "\n",
    "# Plot the feature importances of the forest\n",
    "plt.figure()\n",
    "plt.title(\"Feature importances\")\n",
    "plt.bar(range(X.shape[1]), importances[indices],\n",
    "       color=\"r\")\n",
    "plt.xticks(range(X.shape[1]), indices)\n",
    "plt.xlim([-1, X.shape[1]])\n",
    "plt.xlabel('Feature number')\n",
    "plt.ylabel(\"Importance level\")\n",
    "plt.show()"
   ]
  },
  {
   "cell_type": "markdown",
   "metadata": {},
   "source": [
    "Looking at the PCA and RF importance results, we notice that the first 11 features carry most of the information required to predict the target. However, there is still some variance being explained by the rest. We assure proper regularization for each model so that we don't overfit our model."
   ]
  },
  {
   "cell_type": "markdown",
   "metadata": {},
   "source": [
    "# 6- Modelling\n",
    "\n",
    "Now let's get to the exciting part, modelling the technique and see how can we hypertune it for better result and get the final prediction.\n",
    "\n",
    "## 6-1- Simple Model to Check Bias/Variance\n",
    "\n",
    "We first fit a simple logistic regression to see how our model is doing on train and test data and see if, before going to the complication of modelling, we can take care of some issues to improve the model.\n",
    "\n",
    "We use logistic regression here due to its simplicity and running time inexpensiveness. Not specifying any regularization, also, allows to assure that possilbe overfitting is caught. Let's build the model and see the reslts."
   ]
  },
  {
   "cell_type": "code",
   "execution_count": 112,
   "metadata": {},
   "outputs": [
    {
     "name": "stdout",
     "output_type": "stream",
     "text": [
      "The test accuracy is 93.8\n",
      "The training accuracy for simple logistic regression is 93.65\n"
     ]
    }
   ],
   "source": [
    "logreg = LogisticRegression()\n",
    "logreg.fit(X_train, y_train)\n",
    "test_acc_log = round(logreg.score(X_train, y_train) * 100, 2)\n",
    "train_acc_log = round(logreg.score(X_test, y_test) * 100, 2)\n",
    "print(\"The test accuracy is {}\".format(test_acc_log))\n",
    "print(\"The training accuracy for simple logistic regression is {}\".format(train_acc_log))"
   ]
  },
  {
   "cell_type": "markdown",
   "metadata": {},
   "source": [
    "Accuracy on train and test data is pretty close. This means there is not much of over fitting in our model. Therefore, we are sure that what our model missess from becoming more accurate is more features.\n",
    "**Business insight: more seperating feature from the customer could help this analysis largely, some examples are gender, time of the day of the signup, returning IP, age, etc.**"
   ]
  },
  {
   "cell_type": "code",
   "execution_count": 113,
   "metadata": {},
   "outputs": [
    {
     "data": {
      "image/png": "[encoded data removed]",
      "text/plain": [
       "<matplotlib.figure.Figure at 0x2aafc31e5c0>"
      ]
     },
     "metadata": {},
     "output_type": "display_data"
    }
   ],
   "source": [
    "##Computing false and true positive rates\n",
    "\n",
    "probs = logreg.predict_proba(X_test)\n",
    "preds = probs[:,1]\n",
    "fpr, tpr, threshold = roc_curve(y_test, preds)\n",
    "roc_auc = auc(fpr, tpr)\n",
    "\n",
    "plt.title('Receiver Operating Characteristic - Logistic Regression')\n",
    "plt.plot(fpr, tpr, 'g', label = 'AUC = %0.2f' % roc_auc)\n",
    "plt.fill_between(fpr, tpr,fpr, facecolor='violet', alpha=0.6)\n",
    "plt.legend(loc = 'lower right')\n",
    "plt.plot([0, 1], [0, 1],'b--')\n",
    "plt.xlim([0, 1])\n",
    "plt.ylim([0, 1])\n",
    "plt.ylabel('True Positive Rate')\n",
    "plt.xlabel('False Positive Rate')\n",
    "plt.show()"
   ]
  },
  {
   "cell_type": "markdown",
   "metadata": {},
   "source": [
    ">We reached $AUC=0.97$ with this simple model which is acceptable. Also since there is not much of difference between train and test accuracy, we can say that the model **generalizes** well. It is suggested that some basic features like gender, age, and marriage status would become insightful in seperating different groups and reach a better AUC."
   ]
  },
  {
   "cell_type": "markdown",
   "metadata": {},
   "source": [
    "## 6-2- SVM, KNN, and Random Forest Hyperparameter Tunning\n",
    "\n",
    "Now that we deomnstrate the feature set strength, we need to check if more complex models can handle this data better. What we do here is, before jumping to model, we will perform cross validation and gridsearch on the training set to achieve best parameters to be used in the models.\n",
    "\n",
    "Support vector machine, k-nearest neighbors, and random forest are used here. The hypertuning cells are commented as they take long time to run. You can uncomment them if you want to get the results. I provide the results in the next cell.\n"
   ]
  },
  {
   "cell_type": "code",
   "execution_count": 114,
   "metadata": {},
   "outputs": [],
   "source": [
    "#parameters={'kernel':['linear','rbf'],'C':[0.1,.3,1,3,10,30]}\n",
    "#scoring = {'AUC': 'roc_auc', 'Accuracy': make_scorer(accuracy_score)}\n",
    "#svc=SVC()\n",
    "#clf_svc=GridSearchCV(estimator=svc,param_grid=parameters, scoring=scoring, cv=3, refit='AUC')\n",
    "#clf_svc.fit(X_train, y_train)\n",
    "#print(\"Best parameters are {}\".format(clf_svc.best_params_))\n",
    "#print(\"Best score is {}\".format(clf_svc.best_score_))"
   ]
  },
  {
   "cell_type": "markdown",
   "metadata": {},
   "source": [
    "This is the results we get from hypertuning the SVM:\n",
    "    \n",
    "***Best parameters are:***``{'C': 30, 'kernel': 'linear'}``\n",
    "\n",
    "**Best score is 0.964985864043404**\n",
    "\n",
    "This also gives us some more insights: **since the kernel chosen is linear, we can see that the features help us pretty much in seperating different classes. Moreover, we can see that the smaller regularization (1/C) is chosen. This means that our model is doing very well in not overfitting. The result is also consistent with the results we got from PCA analysis of features.**\n",
    "\n",
    "\n",
    "\n",
    "In case you are interested in getting the results yourself, uncomment the cell above."
   ]
  },
  {
   "cell_type": "markdown",
   "metadata": {},
   "source": [
    "Let's check the KNN and cross validation on it."
   ]
  },
  {
   "cell_type": "code",
   "execution_count": 115,
   "metadata": {},
   "outputs": [],
   "source": [
    "#t_start = time.time()\n",
    "\n",
    "#scoring = {'AUC': 'roc_auc', 'Accuracy': make_scorer(accuracy_score)}\n",
    "#knn=KNeighborsClassifier(n_jobs=-1)\n",
    "#parameters={'n_neighbors':[10,100],'weights':['uniform', 'distance']}\n",
    "#clf_knn=GridSearchCV(estimator=knn,param_grid=parameters, scoring=scoring, cv=3, refit='AUC')\n",
    "#clf_knn.fit(X_train, y_train)\n",
    "#print(\"Best parameters are {}\".format(clf_knn.best_params_))\n",
    "#print(\"Best score is {}\".format(clf_knn.best_score_))\n",
    "\n",
    "#t_end = time.time()\n",
    "\n",
    "\n",
    "#print(\"It took {} seconds to run this test\".format(t_end-t_start))\n"
   ]
  },
  {
   "cell_type": "markdown",
   "metadata": {},
   "source": [
    "This is the results we get from for the KNN:\n",
    "    \n",
    "Best parameters are ``{'n_neighbors': 100, 'weights': 'uniform'}``\n",
    "Best score is ``0.9643999007173726``\n",
    "It took ``437.0903055667877`` seconds to run this test.\n",
    "\n",
    "If you are interested in getting the results, uncomment the cell block above. We will use these parameters to check the generizability of our knn-model."
   ]
  },
  {
   "cell_type": "code",
   "execution_count": 116,
   "metadata": {},
   "outputs": [],
   "source": [
    "#t_start = time.time()\n",
    "\n",
    "#scoring = {'AUC': 'roc_auc', 'Accuracy': make_scorer(accuracy_score)}\n",
    "#rf=RandomForestClassifier(n_jobs=-1)\n",
    "#param_grid = {\"max_depth\": [7, None],\n",
    "              #\"max_features\": [\"sqrt\", \"log2\"],\n",
    "              #\"min_samples_split\": [100,200],\n",
    "              #\"min_samples_leaf\": [10, 50],\n",
    "              #\"bootstrap\": [True, False],\n",
    "              #\"criterion\": [\"gini\", \"entropy\"]}\n",
    "#clf_rf = GridSearchCV(rf, param_grid=param_grid,scoring=scoring, cv=3, refit='AUC')\n",
    "#clf_rf.fit(X_train, y_train)\n",
    "#print(\"Best parameters are {}\".format(clf_rf.best_params_))\n",
    "#print(\"Best score is {}\".format(clf_rf.best_score_))\n",
    "#t_end = time.time()\n",
    "#print(\"It took {} seconds to run this test\".format(t_end-t_start))"
   ]
  },
  {
   "cell_type": "markdown",
   "metadata": {},
   "source": [
    "This is the results we get for the random forest:\n",
    "\n",
    "Best parameters are `` {'bootstrap': True, 'criterion': 'entropy', 'max_depth': 7, 'max_features': 10, 'min_samples_leaf': 10, 'min_samples_split': 100}``\n",
    "\n",
    "Best score is 0.9698143454900715\n",
    "It took 551.6602492332458 seconds to run this test.\n",
    "\n",
    "If you are interested in getting the results, uncomment the cell block above. We will use these parameters to check the generizability of our random forest model."
   ]
  },
  {
   "cell_type": "markdown",
   "metadata": {},
   "source": [
    "## 6-3-  SVM, KNN, and Random Forest Results"
   ]
  },
  {
   "cell_type": "code",
   "execution_count": 117,
   "metadata": {},
   "outputs": [
    {
     "data": {
      "text/plain": [
       "SVC(C=30, cache_size=200, class_weight=None, coef0=0.0,\n",
       "  decision_function_shape='ovr', degree=3, gamma='auto', kernel='linear',\n",
       "  max_iter=-1, probability=True, random_state=None, shrinking=True,\n",
       "  tol=0.001, verbose=False)"
      ]
     },
     "execution_count": 117,
     "metadata": {},
     "output_type": "execute_result"
    }
   ],
   "source": [
    "svc2 = SVC(C=30,kernel='linear',probability=True)\n",
    "svc2.fit(X_train,y_train)"
   ]
  },
  {
   "cell_type": "code",
   "execution_count": 118,
   "metadata": {},
   "outputs": [
    {
     "data": {
      "image/png": "[encoded data removed]",
      "text/plain": [
       "<matplotlib.figure.Figure at 0x2aafea67b38>"
      ]
     },
     "metadata": {},
     "output_type": "display_data"
    }
   ],
   "source": [
    "probs = svc2.predict_proba(X_test)\n",
    "preds = probs[:,1]\n",
    "fpr, tpr, threshold = roc_curve(y_test, preds)\n",
    "roc_auc = auc(fpr, tpr)\n",
    "\n",
    "plt.title('Receiver Operating Characteristic - Support Vector Machine')\n",
    "plt.plot(fpr, tpr, 'g', label = 'AUC = %0.2f' % roc_auc)\n",
    "plt.fill_between(fpr, tpr,fpr, facecolor='violet', alpha=0.6)\n",
    "plt.legend(loc = 'lower right')\n",
    "plt.plot([0, 1], [0, 1],'b--')\n",
    "plt.xlim([0, 1])\n",
    "plt.ylim([0, 1])\n",
    "plt.ylabel('True Positive Rate')\n",
    "plt.xlabel('False Positive Rate')\n",
    "plt.show()"
   ]
  },
  {
   "cell_type": "code",
   "execution_count": 119,
   "metadata": {},
   "outputs": [
    {
     "data": {
      "text/plain": [
       "KNeighborsClassifier(algorithm='auto', leaf_size=30, metric='minkowski',\n",
       "           metric_params=None, n_jobs=-1, n_neighbors=100, p=2,\n",
       "           weights='uniform')"
      ]
     },
     "execution_count": 119,
     "metadata": {},
     "output_type": "execute_result"
    }
   ],
   "source": [
    "knn2=KNeighborsClassifier(n_neighbors= 100, weights= 'uniform',n_jobs=-1)\n",
    "knn2.fit(X_train,y_train)"
   ]
  },
  {
   "cell_type": "code",
   "execution_count": 120,
   "metadata": {},
   "outputs": [
    {
     "data": {
      "image/png": "[encoded data removed]",
      "text/plain": [
       "<matplotlib.figure.Figure at 0x2aa81621940>"
      ]
     },
     "metadata": {},
     "output_type": "display_data"
    }
   ],
   "source": [
    "probs = knn2.predict_proba(X_test)\n",
    "preds = probs[:,1]\n",
    "fpr, tpr, threshold = roc_curve(y_test, preds)\n",
    "roc_auc = auc(fpr, tpr)\n",
    "\n",
    "plt.title('Receiver Operating Characteristic - K-Nearest Neighbors')\n",
    "plt.plot(fpr, tpr, 'g', label = 'AUC = %0.2f' % roc_auc)\n",
    "plt.fill_between(fpr, tpr,fpr, facecolor='violet', alpha=0.6)\n",
    "plt.legend(loc = 'lower right')\n",
    "plt.plot([0, 1], [0, 1],'b--')\n",
    "plt.xlim([0, 1])\n",
    "plt.ylim([0, 1])\n",
    "plt.ylabel('True Positive Rate')\n",
    "plt.xlabel('False Positive Rate')\n",
    "plt.show()"
   ]
  },
  {
   "cell_type": "code",
   "execution_count": 121,
   "metadata": {},
   "outputs": [
    {
     "data": {
      "text/plain": [
       "RandomForestClassifier(bootstrap=True, class_weight=None, criterion='entropy',\n",
       "            max_depth=7, max_features=10, max_leaf_nodes=None,\n",
       "            min_impurity_decrease=0.0, min_impurity_split=None,\n",
       "            min_samples_leaf=10, min_samples_split=100,\n",
       "            min_weight_fraction_leaf=0.0, n_estimators=10, n_jobs=-1,\n",
       "            oob_score=False, random_state=None, verbose=0,\n",
       "            warm_start=False)"
      ]
     },
     "execution_count": 121,
     "metadata": {},
     "output_type": "execute_result"
    }
   ],
   "source": [
    "rf2=RandomForestClassifier(bootstrap= True, criterion= 'entropy', max_depth= 7,\n",
    "                           max_features= 10, min_samples_leaf= 10,\n",
    "                           min_samples_split= 100,n_jobs=-1)\n",
    "rf2.fit(X_train,y_train)"
   ]
  },
  {
   "cell_type": "code",
   "execution_count": 122,
   "metadata": {},
   "outputs": [
    {
     "data": {
      "image/png": "[encoded data removed]",
      "text/plain": [
       "<matplotlib.figure.Figure at 0x2aa81676668>"
      ]
     },
     "metadata": {},
     "output_type": "display_data"
    }
   ],
   "source": [
    "probs = rf2.predict_proba(X_test)\n",
    "preds = probs[:,1]\n",
    "fpr, tpr, threshold = roc_curve(y_test, preds)\n",
    "roc_auc = auc(fpr, tpr)\n",
    "\n",
    "plt.title('Receiver Operating Characteristic - Random Forest')\n",
    "plt.plot(fpr, tpr, 'g', label = 'AUC = %0.2f' % roc_auc)\n",
    "plt.fill_between(fpr, tpr,fpr, facecolor='violet', alpha=0.6)\n",
    "plt.legend(loc = 'lower right')\n",
    "plt.plot([0, 1], [0, 1],'b--')\n",
    "plt.xlim([0, 1])\n",
    "plt.ylim([0, 1])\n",
    "plt.ylabel('True Positive Rate')\n",
    "plt.xlabel('False Positive Rate')\n",
    "plt.show()"
   ]
  },
  {
   "cell_type": "markdown",
   "metadata": {},
   "source": [
    "We see very similar fitting score for all of the cases. For this reason, we can say that our feature engineering step segrated the classes pretty well through mean-rank encoding of categories. That might be the reason why marginal/no improvement is seen for more complicated models.\n",
    "\n",
    "Therefore, we were able to reach the maximum quality (AUC) using a simple logistic regression."
   ]
  },
  {
   "cell_type": "markdown",
   "metadata": {},
   "source": [
    "## 6-4- Gradient Boosted Trees as a Boosting Technique\n",
    "\n",
    "Just before we finish, and although our data showed marginal improvement when more complicate models are used, let's give the gradient boosted trees a chance to see how boosting trees would affect the results. Here is how we perform hypertuning using gridsearchcv."
   ]
  },
  {
   "cell_type": "code",
   "execution_count": 123,
   "metadata": {},
   "outputs": [],
   "source": [
    "#t_start = time.time()\n",
    "#X_train = pd.read_csv(\"X_train.csv\").drop(columns=[\"Unnamed: 0\",\"index\"], axis=1)\n",
    "#y_train = pd.read_csv(\"y_train.csv\").drop(columns=[\"Unnamed: 0\",\"id\"], axis=1).target.values\n",
    "#parameters = {'min_child_weight': [5, 10],\n",
    "#        'gamma': [0.01, .1,1],\n",
    "#        'subsample': [0.8,1],\n",
    "#        'colsample_bytree': [0.6, 0.8],\n",
    "#        'max_depth': [3, 5,  7]\n",
    "#        }\n",
    "#xgbc = XGBClassifier(objective='binary:logistic',\n",
    "#                    silent=True, verbose=True, scale_pos_weight=8)# 'scale_pos_weight' to set as the ratio for skewed data\n",
    "\n",
    "#clf_xgbc=GridSearchCV(estimator=xgbc,param_grid=parameters, scoring='roc_auc', cv=3, n_jobs=1,verbose=100)\n",
    "#clf_xgbc.fit(X_train, y_train)\n",
    "\n",
    "#print(\"Best parameters are {}\".format(clf_xgbc.best_params_))\n",
    "#print(\"Best score is {}\".format(clf_xgbc.best_score_))\n",
    "\n",
    "#t_end = time.time()\n",
    "#print(\"It took {} seconds to run this test\".format(t_end-t_start))"
   ]
  },
  {
   "cell_type": "markdown",
   "metadata": {},
   "source": [
    "And here is the results for XGBoost classifier hyper tuning.\n",
    "\n",
    "**Best parameters are** ``{'colsample_bytree': 0.6, 'gamma': 30, 'learning_rate': 0.02, 'max_depth': 6, 'min_child_weight': 5, 'n_estimators': 1000, 'subsample': 0.6}``\n",
    "\n",
    "**Best score is** ``0.9702629524162981``\n",
    "\n",
    "It took ``926.2014994621277 seconds`` to run this test."
   ]
  },
  {
   "cell_type": "code",
   "execution_count": 124,
   "metadata": {},
   "outputs": [],
   "source": [
    "params = {}\n",
    "params[\"objective\"] = \"binary:logistic\"\n",
    "params[\"eval_metric\"] = \"auc\"\n",
    "params[\"gamma\"] = 30\n",
    "params[\"eta\"] = 0.02\n",
    "params[\"min_child_weight\"] = 5\n",
    "params[\"subsample\"] = 0.6\n",
    "params[\"colsample_bytree\"] = 0.8\n",
    "params[\"scale_pos_weight\"] = 1.0\n",
    "params[\"silent\"] = 1\n",
    "params[\"max_depth\"] = 6\n",
    "params[\"n_jobs\"]=-1\n",
    "\n",
    "plst = list(params.items())\n",
    "\n",
    "xgtrain = xgb.DMatrix(X_train, label=y_train)\n",
    "xgval = xgb.DMatrix(X_test, label=y_test)\n",
    "\n",
    "#train using early stopping and predict\n",
    "\n",
    "watchlist = [(xgtrain, 'train'),(xgval, 'val')]\n",
    "\n",
    "num_rounds = 1000\n",
    "\n",
    "\n",
    "model = xgb.train(plst, xgtrain, num_rounds,watchlist, early_stopping_rounds=10, verbose_eval=False)\n",
    "\n",
    "preds1 = model.predict(xgval)\n",
    "\n",
    "for loop in range(100):\n",
    "    model = xgb.train(plst, xgtrain, num_rounds,watchlist, early_stopping_rounds=10, verbose_eval=False)\n",
    "    preds1 = preds1 + model.predict(xgval)\n",
    "preds = (preds1/101 )"
   ]
  },
  {
   "cell_type": "code",
   "execution_count": 125,
   "metadata": {},
   "outputs": [
    {
     "data": {
      "image/png": "[encoded data removed]",
      "text/plain": [
       "<matplotlib.figure.Figure at 0x2aafebdc7f0>"
      ]
     },
     "metadata": {},
     "output_type": "display_data"
    }
   ],
   "source": [
    "fpr, tpr, threshold = roc_curve(y_test, preds)\n",
    "roc_auc = auc(fpr, tpr)\n",
    "plt.title('Receiver Operating Characteristic - K-Nearest Neighbors')\n",
    "plt.plot(fpr, tpr, 'g', label = 'AUC = %0.2f' % roc_auc)\n",
    "plt.fill_between(fpr, tpr,fpr, facecolor='violet', alpha=0.6)\n",
    "plt.legend(loc = 'lower right')\n",
    "plt.plot([0, 1], [0, 1],'b--')\n",
    "plt.xlim([0, 1])\n",
    "plt.ylim([0, 1])\n",
    "plt.ylabel('True Positive Rate')\n",
    "plt.xlabel('False Positive Rate')\n",
    "plt.show()"
   ]
  },
  {
   "cell_type": "markdown",
   "metadata": {},
   "source": [
    "Even a more complex classifier like XGBoost doesn't improve our technique significantly. Therefore, we can say that we maximized the optimization of our feature set and in order to improve our results, we need more data to be able to develope more feature. Some basic identifying features, e.g. age, gender, state would be really discriminative.\n",
    "\n",
    "Here is a summary of our results:\n",
    "\n",
    "| Model | Hypertuned? | Area Under Curve |\n",
    "| --- | --- | --- |\n",
    "| Logistic Regression | No | 0.97 |\n",
    "| Support Vector Machine | Yes | 0.96 |\n",
    "| K-Nearest Neighbor | Yes | 0.96 |\n",
    "| Random Forest | Yes | 0.97 |\n",
    "| Gradient Boosted Trees| Yes | 0.95 |\n",
    "\n",
    "We are positive that a simple technique, such as logistic regression is capable of segregating two classes. An advantage of using logistic regression is its simlicity and ease in interpretation and communicating the ideas."
   ]
  },
  {
   "cell_type": "markdown",
   "metadata": {},
   "source": [
    "# Details - Task 3: \n",
    "\n",
    "Build a model to forecast the number of new drivers we expect to start every week.\n",
    "How would you validate a model like this? What other information would you use if you had access to all of Uber's data?"
   ]
  },
  {
   "cell_type": "markdown",
   "metadata": {},
   "source": [
    "For this question, we need to generate a new dataset from what we have from the beginning. The main data is a time series that has the number of drivers as the value to predict. Since we are adding data as we go ** we will combine the EDA and Feature Engineering steps**."
   ]
  },
  {
   "cell_type": "code",
   "execution_count": 126,
   "metadata": {},
   "outputs": [],
   "source": [
    "regr_data = pd.read_csv('ds_challenge_v2_data.csv',usecols=['first_completed_date', 'id'])\\\n",
    ".groupby('first_completed_date').count().reset_index()\n",
    "regr_data['first_completed_date'] = pd.to_datetime(regr_data['first_completed_date'],infer_datetime_format=True)"
   ]
  },
  {
   "cell_type": "code",
   "execution_count": 127,
   "metadata": {},
   "outputs": [
    {
     "data": {
      "text/html": [
       "<div>\n",
       "<style scoped>\n",
       "    .dataframe tbody tr th:only-of-type {\n",
       "        vertical-align: middle;\n",
       "    }\n",
       "\n",
       "    .dataframe tbody tr th {\n",
       "        vertical-align: top;\n",
       "    }\n",
       "\n",
       "    .dataframe thead th {\n",
       "        text-align: right;\n",
       "    }\n",
       "</style>\n",
       "<table border=\"1\" class=\"dataframe\">\n",
       "  <thead>\n",
       "    <tr style=\"text-align: right;\">\n",
       "      <th></th>\n",
       "      <th>date</th>\n",
       "      <th>num_drivers</th>\n",
       "    </tr>\n",
       "  </thead>\n",
       "  <tbody>\n",
       "    <tr>\n",
       "      <th>22</th>\n",
       "      <td>2016-01-04</td>\n",
       "      <td>10</td>\n",
       "    </tr>\n",
       "    <tr>\n",
       "      <th>23</th>\n",
       "      <td>2016-01-05</td>\n",
       "      <td>72</td>\n",
       "    </tr>\n",
       "    <tr>\n",
       "      <th>24</th>\n",
       "      <td>2016-01-06</td>\n",
       "      <td>64</td>\n",
       "    </tr>\n",
       "    <tr>\n",
       "      <th>25</th>\n",
       "      <td>2016-01-07</td>\n",
       "      <td>94</td>\n",
       "    </tr>\n",
       "    <tr>\n",
       "      <th>26</th>\n",
       "      <td>2016-01-08</td>\n",
       "      <td>94</td>\n",
       "    </tr>\n",
       "  </tbody>\n",
       "</table>\n",
       "</div>"
      ],
      "text/plain": [
       "         date  num_drivers\n",
       "22 2016-01-04           10\n",
       "23 2016-01-05           72\n",
       "24 2016-01-06           64\n",
       "25 2016-01-07           94\n",
       "26 2016-01-08           94"
      ]
     },
     "execution_count": 127,
     "metadata": {},
     "output_type": "execute_result"
    }
   ],
   "source": [
    "regr_data.columns = ['date','num_drivers']\n",
    "regr_data = regr_data.sort_values('date')\n",
    "regr_data.head()"
   ]
  },
  {
   "cell_type": "markdown",
   "metadata": {},
   "source": [
    "We, now, have daily counts of the drivers who become Uber drivers. We, however, need the weekly counts."
   ]
  },
  {
   "cell_type": "code",
   "execution_count": 128,
   "metadata": {},
   "outputs": [],
   "source": [
    "regr_data = regr_data.set_index('date').resample('W').sum().reset_index()"
   ]
  },
  {
   "cell_type": "code",
   "execution_count": 129,
   "metadata": {},
   "outputs": [
    {
     "data": {
      "text/html": [
       "<div>\n",
       "<style scoped>\n",
       "    .dataframe tbody tr th:only-of-type {\n",
       "        vertical-align: middle;\n",
       "    }\n",
       "\n",
       "    .dataframe tbody tr th {\n",
       "        vertical-align: top;\n",
       "    }\n",
       "\n",
       "    .dataframe thead th {\n",
       "        text-align: right;\n",
       "    }\n",
       "</style>\n",
       "<table border=\"1\" class=\"dataframe\">\n",
       "  <thead>\n",
       "    <tr style=\"text-align: right;\">\n",
       "      <th></th>\n",
       "      <th>date</th>\n",
       "      <th>num_drivers</th>\n",
       "    </tr>\n",
       "  </thead>\n",
       "  <tbody>\n",
       "    <tr>\n",
       "      <th>0</th>\n",
       "      <td>2016-01-10</td>\n",
       "      <td>557</td>\n",
       "    </tr>\n",
       "    <tr>\n",
       "      <th>1</th>\n",
       "      <td>2016-01-17</td>\n",
       "      <td>934</td>\n",
       "    </tr>\n",
       "    <tr>\n",
       "      <th>2</th>\n",
       "      <td>2016-01-24</td>\n",
       "      <td>1213</td>\n",
       "    </tr>\n",
       "    <tr>\n",
       "      <th>3</th>\n",
       "      <td>2016-01-31</td>\n",
       "      <td>1332</td>\n",
       "    </tr>\n",
       "    <tr>\n",
       "      <th>4</th>\n",
       "      <td>2016-02-07</td>\n",
       "      <td>1117</td>\n",
       "    </tr>\n",
       "    <tr>\n",
       "      <th>5</th>\n",
       "      <td>2016-02-14</td>\n",
       "      <td>577</td>\n",
       "    </tr>\n",
       "    <tr>\n",
       "      <th>6</th>\n",
       "      <td>2016-02-21</td>\n",
       "      <td>303</td>\n",
       "    </tr>\n",
       "    <tr>\n",
       "      <th>7</th>\n",
       "      <td>2016-02-28</td>\n",
       "      <td>103</td>\n",
       "    </tr>\n",
       "    <tr>\n",
       "      <th>8</th>\n",
       "      <td>2016-03-06</td>\n",
       "      <td>1</td>\n",
       "    </tr>\n",
       "  </tbody>\n",
       "</table>\n",
       "</div>"
      ],
      "text/plain": [
       "        date  num_drivers\n",
       "0 2016-01-10          557\n",
       "1 2016-01-17          934\n",
       "2 2016-01-24         1213\n",
       "3 2016-01-31         1332\n",
       "4 2016-02-07         1117\n",
       "5 2016-02-14          577\n",
       "6 2016-02-21          303\n",
       "7 2016-02-28          103\n",
       "8 2016-03-06            1"
      ]
     },
     "execution_count": 129,
     "metadata": {},
     "output_type": "execute_result"
    }
   ],
   "source": [
    "regr_data"
   ]
  },
  {
   "cell_type": "markdown",
   "metadata": {},
   "source": [
    "We are down to 9 observation. Let's see how this weekly aggregate changes over time."
   ]
  },
  {
   "cell_type": "code",
   "execution_count": 130,
   "metadata": {},
   "outputs": [
    {
     "data": {
      "text/plain": [
       "(array([2401, 2406, 2410], dtype=int64), <a list of 3 Text xticklabel objects>)"
      ]
     },
     "execution_count": 130,
     "metadata": {},
     "output_type": "execute_result"
    },
    {
     "data": {
      "image/png": "[encoded data removed]",
      "text/plain": [
       "<matplotlib.figure.Figure at 0x2aa810c32e8>"
      ]
     },
     "metadata": {},
     "output_type": "display_data"
    }
   ],
   "source": [
    "regr_data.set_index('date').plot(color='black', linestyle='dashed', marker='o',\n",
    "         markerfacecolor='orange', markersize=12, label = 'weekly acitivation')\n",
    "plt.xticks(rotation=60)"
   ]
  },
  {
   "cell_type": "markdown",
   "metadata": {},
   "source": [
    "We see an obvious pattern:\n",
    "\n",
    ">As we start the registration people start to become driver more and more, and this section of data is quite linear. And as we finish the registration (end of January), it  will start dropping. So an intuitive option is to see how many registration we have in the last thirty days. \n",
    "\n",
    "I will import a new dataset that has all the data so that we can use it for further."
   ]
  },
  {
   "cell_type": "code",
   "execution_count": 131,
   "metadata": {},
   "outputs": [],
   "source": [
    "data = pd.read_csv('ds_challenge_v2_data.csv')\n",
    "date_column = ['signup_date', 'bgc_date', 'vehicle_added_date', 'first_completed_date']\n",
    "for date_column in date_column:\n",
    "    data[date_column] = pd.to_datetime(data[date_column],infer_datetime_format=True)"
   ]
  },
  {
   "cell_type": "markdown",
   "metadata": {},
   "source": [
    "First, I would like to see what is the cumulative previous 30 days of number of registration. I also need to add the rest of the date indexes that are available on the activation date and not on the registration date."
   ]
  },
  {
   "cell_type": "code",
   "execution_count": 132,
   "metadata": {},
   "outputs": [
    {
     "data": {
      "text/html": [
       "<div>\n",
       "<style scoped>\n",
       "    .dataframe tbody tr th:only-of-type {\n",
       "        vertical-align: middle;\n",
       "    }\n",
       "\n",
       "    .dataframe tbody tr th {\n",
       "        vertical-align: top;\n",
       "    }\n",
       "\n",
       "    .dataframe thead th {\n",
       "        text-align: right;\n",
       "    }\n",
       "</style>\n",
       "<table border=\"1\" class=\"dataframe\">\n",
       "  <thead>\n",
       "    <tr style=\"text-align: right;\">\n",
       "      <th></th>\n",
       "      <th>date</th>\n",
       "      <th>signup_num</th>\n",
       "    </tr>\n",
       "  </thead>\n",
       "  <tbody>\n",
       "    <tr>\n",
       "      <th>25</th>\n",
       "      <td>2016-01-26</td>\n",
       "      <td>1908</td>\n",
       "    </tr>\n",
       "    <tr>\n",
       "      <th>26</th>\n",
       "      <td>2016-01-27</td>\n",
       "      <td>1838</td>\n",
       "    </tr>\n",
       "    <tr>\n",
       "      <th>27</th>\n",
       "      <td>2016-01-28</td>\n",
       "      <td>1706</td>\n",
       "    </tr>\n",
       "    <tr>\n",
       "      <th>28</th>\n",
       "      <td>2016-01-29</td>\n",
       "      <td>1598</td>\n",
       "    </tr>\n",
       "    <tr>\n",
       "      <th>29</th>\n",
       "      <td>2016-01-30</td>\n",
       "      <td>1466</td>\n",
       "    </tr>\n",
       "  </tbody>\n",
       "</table>\n",
       "</div>"
      ],
      "text/plain": [
       "         date  signup_num\n",
       "25 2016-01-26        1908\n",
       "26 2016-01-27        1838\n",
       "27 2016-01-28        1706\n",
       "28 2016-01-29        1598\n",
       "29 2016-01-30        1466"
      ]
     },
     "execution_count": 132,
     "metadata": {},
     "output_type": "execute_result"
    }
   ],
   "source": [
    "daily_signup = data[['signup_date','id']].groupby('signup_date').id.count().reset_index()\n",
    "daily_signup.columns = ['date','signup_num']\n",
    "\n",
    "daily_signup.tail()"
   ]
  },
  {
   "cell_type": "markdown",
   "metadata": {},
   "source": [
    "> As we see at the tail of this column, the registration data doesn't extend to th end of the activation data which is March 3rd. Therefore, we need to extend the dataframe to that date."
   ]
  },
  {
   "cell_type": "code",
   "execution_count": 133,
   "metadata": {},
   "outputs": [
    {
     "data": {
      "text/html": [
       "<div>\n",
       "<style scoped>\n",
       "    .dataframe tbody tr th:only-of-type {\n",
       "        vertical-align: middle;\n",
       "    }\n",
       "\n",
       "    .dataframe tbody tr th {\n",
       "        vertical-align: top;\n",
       "    }\n",
       "\n",
       "    .dataframe thead th {\n",
       "        text-align: right;\n",
       "    }\n",
       "</style>\n",
       "<table border=\"1\" class=\"dataframe\">\n",
       "  <thead>\n",
       "    <tr style=\"text-align: right;\">\n",
       "      <th></th>\n",
       "      <th>date</th>\n",
       "      <th>signup_num</th>\n",
       "    </tr>\n",
       "  </thead>\n",
       "  <tbody>\n",
       "    <tr>\n",
       "      <th>31</th>\n",
       "      <td>2016-03-02</td>\n",
       "      <td>0</td>\n",
       "    </tr>\n",
       "    <tr>\n",
       "      <th>32</th>\n",
       "      <td>2016-03-03</td>\n",
       "      <td>0</td>\n",
       "    </tr>\n",
       "    <tr>\n",
       "      <th>33</th>\n",
       "      <td>2016-03-04</td>\n",
       "      <td>0</td>\n",
       "    </tr>\n",
       "    <tr>\n",
       "      <th>34</th>\n",
       "      <td>2016-03-05</td>\n",
       "      <td>0</td>\n",
       "    </tr>\n",
       "    <tr>\n",
       "      <th>35</th>\n",
       "      <td>2016-03-06</td>\n",
       "      <td>0</td>\n",
       "    </tr>\n",
       "  </tbody>\n",
       "</table>\n",
       "</div>"
      ],
      "text/plain": [
       "         date  signup_num\n",
       "31 2016-03-02           0\n",
       "32 2016-03-03           0\n",
       "33 2016-03-04           0\n",
       "34 2016-03-05           0\n",
       "35 2016-03-06           0"
      ]
     },
     "execution_count": 133,
     "metadata": {},
     "output_type": "execute_result"
    }
   ],
   "source": [
    "# adding data range that is not available\n",
    "idx = pd.date_range('2016-01-31', '2016-03-06')\n",
    "added_date = pd.DataFrame(columns=['signup_num'], index=idx)\n",
    "added_date = added_date.reset_index()\n",
    "added_date.columns = [\"date\",\"signup_num\"]\n",
    "added_date['signup_num'] = 0\n",
    "added_date.tail()"
   ]
  },
  {
   "cell_type": "code",
   "execution_count": 134,
   "metadata": {},
   "outputs": [],
   "source": [
    "daily_signup = pd.concat([daily_signup,added_date]).reset_index().drop(columns='index',axis=1)"
   ]
  },
  {
   "cell_type": "code",
   "execution_count": 135,
   "metadata": {},
   "outputs": [
    {
     "data": {
      "text/html": [
       "<div>\n",
       "<style scoped>\n",
       "    .dataframe tbody tr th:only-of-type {\n",
       "        vertical-align: middle;\n",
       "    }\n",
       "\n",
       "    .dataframe tbody tr th {\n",
       "        vertical-align: top;\n",
       "    }\n",
       "\n",
       "    .dataframe thead th {\n",
       "        text-align: right;\n",
       "    }\n",
       "</style>\n",
       "<table border=\"1\" class=\"dataframe\">\n",
       "  <thead>\n",
       "    <tr style=\"text-align: right;\">\n",
       "      <th></th>\n",
       "      <th>date</th>\n",
       "      <th>signup_num</th>\n",
       "    </tr>\n",
       "  </thead>\n",
       "  <tbody>\n",
       "    <tr>\n",
       "      <th>61</th>\n",
       "      <td>2016-03-02</td>\n",
       "      <td>0</td>\n",
       "    </tr>\n",
       "    <tr>\n",
       "      <th>62</th>\n",
       "      <td>2016-03-03</td>\n",
       "      <td>0</td>\n",
       "    </tr>\n",
       "    <tr>\n",
       "      <th>63</th>\n",
       "      <td>2016-03-04</td>\n",
       "      <td>0</td>\n",
       "    </tr>\n",
       "    <tr>\n",
       "      <th>64</th>\n",
       "      <td>2016-03-05</td>\n",
       "      <td>0</td>\n",
       "    </tr>\n",
       "    <tr>\n",
       "      <th>65</th>\n",
       "      <td>2016-03-06</td>\n",
       "      <td>0</td>\n",
       "    </tr>\n",
       "  </tbody>\n",
       "</table>\n",
       "</div>"
      ],
      "text/plain": [
       "         date  signup_num\n",
       "61 2016-03-02           0\n",
       "62 2016-03-03           0\n",
       "63 2016-03-04           0\n",
       "64 2016-03-05           0\n",
       "65 2016-03-06           0"
      ]
     },
     "execution_count": 135,
     "metadata": {},
     "output_type": "execute_result"
    }
   ],
   "source": [
    "daily_signup.tail()"
   ]
  },
  {
   "cell_type": "markdown",
   "metadata": {},
   "source": [
    "Now we calculate the past 30 days number of registrations and then plot it over time."
   ]
  },
  {
   "cell_type": "code",
   "execution_count": 136,
   "metadata": {},
   "outputs": [],
   "source": [
    "daily_signup['signup_num'] = daily_signup.set_index('date').rolling(window=30,min_periods=1).sum().reset_index()['signup_num']"
   ]
  },
  {
   "cell_type": "code",
   "execution_count": 137,
   "metadata": {},
   "outputs": [
    {
     "data": {
      "text/plain": [
       "(array([16797, 16801, 16832, 16861, 16869], dtype=int64),\n",
       " <a list of 5 Text xticklabel objects>)"
      ]
     },
     "execution_count": 137,
     "metadata": {},
     "output_type": "execute_result"
    },
    {
     "data": {
      "image/png": "[encoded data removed]",
      "text/plain": [
       "<matplotlib.figure.Figure at 0x2aa81c09208>"
      ]
     },
     "metadata": {},
     "output_type": "display_data"
    }
   ],
   "source": [
    "daily_signup.set_index('date').plot(color='orange', marker='o',\n",
    "         markerfacecolor='red', markersize=1 ,label = 'past month rolling sum')\n",
    "\n",
    "plt.xlabel('Number of registrations in past 30 days')\n",
    "plt.xticks(rotation=60)"
   ]
  },
  {
   "cell_type": "code",
   "execution_count": 138,
   "metadata": {},
   "outputs": [
    {
     "data": {
      "text/html": [
       "<div>\n",
       "<style scoped>\n",
       "    .dataframe tbody tr th:only-of-type {\n",
       "        vertical-align: middle;\n",
       "    }\n",
       "\n",
       "    .dataframe tbody tr th {\n",
       "        vertical-align: top;\n",
       "    }\n",
       "\n",
       "    .dataframe thead th {\n",
       "        text-align: right;\n",
       "    }\n",
       "</style>\n",
       "<table border=\"1\" class=\"dataframe\">\n",
       "  <thead>\n",
       "    <tr style=\"text-align: right;\">\n",
       "      <th></th>\n",
       "      <th>date</th>\n",
       "      <th>num_drivers</th>\n",
       "      <th>signup_num</th>\n",
       "    </tr>\n",
       "  </thead>\n",
       "  <tbody>\n",
       "    <tr>\n",
       "      <th>0</th>\n",
       "      <td>2016-01-10</td>\n",
       "      <td>557</td>\n",
       "      <td>20283.0</td>\n",
       "    </tr>\n",
       "    <tr>\n",
       "      <th>1</th>\n",
       "      <td>2016-01-17</td>\n",
       "      <td>934</td>\n",
       "      <td>31811.0</td>\n",
       "    </tr>\n",
       "    <tr>\n",
       "      <th>2</th>\n",
       "      <td>2016-01-24</td>\n",
       "      <td>1213</td>\n",
       "      <td>44253.0</td>\n",
       "    </tr>\n",
       "    <tr>\n",
       "      <th>3</th>\n",
       "      <td>2016-01-31</td>\n",
       "      <td>1332</td>\n",
       "      <td>52399.0</td>\n",
       "    </tr>\n",
       "    <tr>\n",
       "      <th>4</th>\n",
       "      <td>2016-02-07</td>\n",
       "      <td>1117</td>\n",
       "      <td>37677.0</td>\n",
       "    </tr>\n",
       "  </tbody>\n",
       "</table>\n",
       "</div>"
      ],
      "text/plain": [
       "        date  num_drivers  signup_num\n",
       "0 2016-01-10          557     20283.0\n",
       "1 2016-01-17          934     31811.0\n",
       "2 2016-01-24         1213     44253.0\n",
       "3 2016-01-31         1332     52399.0\n",
       "4 2016-02-07         1117     37677.0"
      ]
     },
     "execution_count": 138,
     "metadata": {},
     "output_type": "execute_result"
    }
   ],
   "source": [
    "regr_data = regr_data.merge(daily_signup, on = \"date\", how=\"left\")\n",
    "regr_data.head()"
   ]
  },
  {
   "cell_type": "markdown",
   "metadata": {},
   "source": [
    "We noticed that the trend is very similar to the trend of number of activations. We might use the data from this feature to predict the number of drivers. Let's see how these two columns are in a scatter plot."
   ]
  },
  {
   "cell_type": "code",
   "execution_count": 139,
   "metadata": {},
   "outputs": [
    {
     "data": {
      "text/plain": [
       "Text(0,0.5,'Number of drivers')"
      ]
     },
     "execution_count": 139,
     "metadata": {},
     "output_type": "execute_result"
    },
    {
     "data": {
      "image/png": "[encoded data removed]",
      "text/plain": [
       "<matplotlib.figure.Figure at 0x2aa81be9a20>"
      ]
     },
     "metadata": {},
     "output_type": "display_data"
    }
   ],
   "source": [
    "plt.scatter(regr_data.signup_num, regr_data.num_drivers)\n",
    "plt.xlabel(\"Past 30 day # of registration\")\n",
    "plt.ylabel(\"Number of drivers\")"
   ]
  },
  {
   "cell_type": "markdown",
   "metadata": {},
   "source": [
    "We see a beautifull linear relation between the past 30 days number of registration and number of drivers. Since we only have 9 observations, we use bootstrapping to assure that the outliers don't dominate our study."
   ]
  },
  {
   "cell_type": "code",
   "execution_count": 140,
   "metadata": {},
   "outputs": [],
   "source": [
    "def draw_bs_pairs_linreg(x, y, size=1):\n",
    "    \"\"\"Perform pairs bootstrap for linear regression.\"\"\"\n",
    "\n",
    "    # Set up array of indices to sample from: inds\n",
    "    inds = np.arange(len(x))\n",
    "\n",
    "    # Initialize replicates: bs_slope_reps, bs_intercept_reps\n",
    "    bs_slope_reps = np.empty(size)\n",
    "    bs_intercept_reps = np.empty(size)\n",
    "\n",
    "    # Generate replicates\n",
    "    for i in range(size):\n",
    "        bs_inds = np.random.choice(inds, size=len(inds))\n",
    "        bs_x, bs_y = x[bs_inds], y[bs_inds]\n",
    "        bs_slope_reps[i], bs_intercept_reps[i] = np.polyfit(bs_x, bs_y, 1)\n",
    "\n",
    "    return bs_slope_reps, bs_intercept_reps"
   ]
  },
  {
   "cell_type": "code",
   "execution_count": 141,
   "metadata": {},
   "outputs": [
    {
     "name": "stdout",
     "output_type": "stream",
     "text": [
      "[0.02446778 0.0301342 ]\n"
     ]
    }
   ],
   "source": [
    "bs_slope_reps, bs_intercept_reps = draw_bs_pairs_linreg(regr_data.signup_num, regr_data.num_drivers, size=1000)\n",
    "\n",
    "# Compute and print 95% CI for slope\n",
    "print(np.percentile(bs_slope_reps, [2.5,97.5]))"
   ]
  },
  {
   "cell_type": "markdown",
   "metadata": {},
   "source": [
    "We see that the confidence interval for the slope of the regression is quite acceptable and within a small range. However, in ordet to assure that, we first need to see the graph of the bootstrap slopes and also take a look at the $R^2$ of the relationship between parameters."
   ]
  },
  {
   "cell_type": "code",
   "execution_count": 142,
   "metadata": {},
   "outputs": [
    {
     "data": {
      "text/plain": [
       "Text(0,0.5,'Number of drivers')"
      ]
     },
     "execution_count": 142,
     "metadata": {},
     "output_type": "execute_result"
    },
    {
     "data": {
      "image/png": "[encoded data removed]",
      "text/plain": [
       "<matplotlib.figure.Figure at 0x2aa81743cf8>"
      ]
     },
     "metadata": {},
     "output_type": "display_data"
    }
   ],
   "source": [
    "x = np.array([0, 60000])\n",
    "\n",
    "# Plot the bootstrap lines\n",
    "for i in range(100):\n",
    "    _ = plt.plot(x, bs_slope_reps[i] * x + bs_intercept_reps[i],\n",
    "                 linewidth=0.5, alpha=0.2, color='red')\n",
    "    \n",
    "    \n",
    "plt.scatter(regr_data.signup_num, regr_data.num_drivers)\n",
    "plt.xlabel(\"Past 30 day # of registration\")\n",
    "plt.ylabel(\"Number of drivers\")"
   ]
  },
  {
   "cell_type": "code",
   "execution_count": 143,
   "metadata": {},
   "outputs": [],
   "source": [
    "def polyfit(x, y, degree):\n",
    "    results = {}\n",
    "\n",
    "    coeffs = np.polyfit(x, y, degree)\n",
    "\n",
    "     # Polynomial Coefficients\n",
    "    results['polynomial'] = coeffs.tolist()\n",
    "\n",
    "    # r-squared\n",
    "    p = np.poly1d(coeffs)\n",
    "    # fit values, and mean\n",
    "    yhat = p(x)                         # or [p(z) for z in x]\n",
    "    ybar = np.sum(y)/len(y)          # or sum(y)/len(y)\n",
    "    ssreg = np.sum((yhat-ybar)**2)   # or sum([ (yihat - ybar)**2 for yihat in yhat])\n",
    "    sstot = np.sum((y - ybar)**2)    # or sum([ (yi - ybar)**2 for yi in y])\n",
    "    results['R^2'] = ssreg / sstot\n",
    "\n",
    "    return results"
   ]
  },
  {
   "cell_type": "code",
   "execution_count": 144,
   "metadata": {},
   "outputs": [
    {
     "data": {
      "text/plain": [
       "{'polynomial': [0.026604046425548394, 10.405713113205897],\n",
       " 'R^2': 0.9771222738755977}"
      ]
     },
     "execution_count": 144,
     "metadata": {},
     "output_type": "execute_result"
    }
   ],
   "source": [
    "polyfit(regr_data.signup_num,regr_data.num_drivers,1)"
   ]
  },
  {
   "cell_type": "markdown",
   "metadata": {},
   "source": [
    "I think 98% variance being explained is enough for a model with 9 observations. This was just a feasibility study. Now, since we also want to validate our results, I will drop one row randomly and keep it for prediction."
   ]
  },
  {
   "cell_type": "code",
   "execution_count": 145,
   "metadata": {},
   "outputs": [],
   "source": [
    "dropped_row_index = np.random.randint(regr_data.shape[0]) \n",
    "dropped_row = regr_data.iloc[dropped_row_index]\n",
    "remaining_rows = regr_data.drop(axis=0,index=dropped_row_index)"
   ]
  },
  {
   "cell_type": "code",
   "execution_count": 146,
   "metadata": {},
   "outputs": [],
   "source": [
    "bs_slope_reps, bs_intercept_reps = draw_bs_pairs_linreg(np.array(remaining_rows.signup_num),\n",
    "                                                        np.array(remaining_rows.num_drivers), size=1300)\n",
    "\n",
    "# Compute and print 95% CI for slope\n",
    "min_slope, median_slope, max_slope =np.percentile(bs_slope_reps, [2.5,50,97.5])\n",
    "min_intercept, median_intercept, max_intercept = np.percentile(bs_intercept_reps, [2.5,50,97.5])"
   ]
  },
  {
   "cell_type": "code",
   "execution_count": 147,
   "metadata": {
    "scrolled": true
   },
   "outputs": [
    {
     "data": {
      "text/plain": [
       "<matplotlib.legend.Legend at 0x2aa816407f0>"
      ]
     },
     "execution_count": 147,
     "metadata": {},
     "output_type": "execute_result"
    },
    {
     "data": {
      "image/png": "[encoded data removed]",
      "text/plain": [
       "<matplotlib.figure.Figure at 0x2aa818e4d30>"
      ]
     },
     "metadata": {},
     "output_type": "display_data"
    }
   ],
   "source": [
    "fig1 = plt.figure(figsize=(8, 8))\n",
    "\n",
    "y_predict = median_intercept + median_slope * dropped_row.signup_num\n",
    "y_actual = dropped_row.num_drivers\n",
    "\n",
    "y_upper = max_intercept  + max_slope * dropped_row.signup_num\n",
    "y_lower = min_intercept + min_slope * dropped_row.signup_num\n",
    "\n",
    "plt.scatter(dropped_row.signup_num,y_predict , color = 'orange', label = \"predicted test data\", s =120)\n",
    "plt.scatter(dropped_row.signup_num,y_actual , color = 'magenta', label = \"actual data\", s = 120)\n",
    "plt.scatter(remaining_rows.signup_num, remaining_rows.num_drivers, color = 'blue', label = \"train data\",s = 100)\n",
    "\n",
    "\n",
    "# to include uncertaintly due to small number of observations\n",
    "plt.scatter(dropped_row.signup_num,y_upper , color = 'darkred', marker=\"+\",\n",
    "            label = \"95% confidence interval upper bound\", s =80)\n",
    "plt.annotate('Upper bound', (dropped_row.signup_num+20,y_upper+20))\n",
    "\n",
    "\n",
    "plt.scatter(dropped_row.signup_num,y_lower , color = 'darkblue', marker=\"*\",\n",
    "            label = \"95% confidence interval lower bound\", s =80)\n",
    "plt.annotate('Lower bound', (dropped_row.signup_num+20,y_lower+20))\n",
    "\n",
    "\n",
    "\n",
    "x = np.array([0, 60000])\n",
    "\n",
    "_ = plt.plot(x, median_slope * x + median_intercept,\n",
    "                 linewidth=2.5, color='red')\n",
    "plt.xlabel(\"Past 30 day # of registration\")\n",
    "plt.ylabel(\"Number of drivers\")\n",
    "plt.legend()"
   ]
  },
  {
   "cell_type": "code",
   "execution_count": 148,
   "metadata": {},
   "outputs": [
    {
     "name": "stdout",
     "output_type": "stream",
     "text": [
      "For the week ending at 2016-01-31 00:00:00 with actual number of drivers = 1213, the model predicted 1178.2399697901687 drivers with 3.0% error.\n"
     ]
    }
   ],
   "source": [
    "print(\"For the week ending at {} with actual number of drivers = {}, the model predicted {} drivers with {}% error.\".format(\n",
    "regr_data.iloc[dropped_row_index+1]['date'], y_actual, y_predict, round(np.abs((y_actual-y_predict)/y_actual)*100),1))"
   ]
  },
  {
   "cell_type": "markdown",
   "metadata": {},
   "source": [
    "**Caveat: With bigger data set we might see more patterns that require more features to explain the variance. Therefore, for this task larget number of observations is essential.**"
   ]
  },
  {
   "cell_type": "markdown",
   "metadata": {},
   "source": [
    "I'd like to also add that I went ahead and perform an ARIMA model on the daily variation of number of UBER drivers. However, the results didn't look acceptable.\n",
    "\n",
    "**Caveat: Since there is no periodicity seen in the data (which means we havent yet captured enough information), time series prediction models such as ARIMA tend to be inefficient. Therefore, for this particular example, we needed to use historical information captured from the main data set to mimic the results.**"
   ]
  }
 ],
 "metadata": {
  "colab": {
   "collapsed_sections": [],
   "default_view": {},
   "name": "ATG_data_science_take_home_ML.ipynb",
   "provenance": [],
   "version": "0.3.2",
   "views": {}
  },
  "kernelspec": {
   "display_name": "Python 3",
   "language": "python",
   "name": "python3"
  },
  "language_info": {
   "codemirror_mode": {
    "name": "ipython",
    "version": 3
   },
   "file_extension": ".py",
   "mimetype": "text/x-python",
   "name": "python",
   "nbconvert_exporter": "python",
   "pygments_lexer": "ipython3",
   "version": "3.6.4"
  }
 },
 "nbformat": 4,
 "nbformat_minor": 1
}
